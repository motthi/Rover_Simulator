{
 "cells": [
  {
   "cell_type": "code",
   "execution_count": 1,
   "id": "7a4c274f-2704-4a83-b0c5-cf69a9422cf0",
   "metadata": {
    "execution": {
     "iopub.execute_input": "2021-09-22T05:06:20.450612Z",
     "iopub.status.busy": "2021-09-22T05:06:20.449614Z",
     "iopub.status.idle": "2021-09-22T05:06:21.560905Z",
     "shell.execute_reply": "2021-09-22T05:06:21.559943Z",
     "shell.execute_reply.started": "2021-09-22T05:06:20.450612Z"
    },
    "tags": []
   },
   "outputs": [],
   "source": [
    "import sys\n",
    "sys.path.append('../')\n",
    "import numpy as np\n",
    "import matplotlib\n",
    "%matplotlib widget\n",
    "\n",
    "from rover_simulator.core import Obstacle\n",
    "from rover_simulator.sensor import ImaginalSensor\n",
    "from rover_simulator.world import World\n",
    "from rover_simulator.rover import DWARover\n",
    "from rover_simulator.history import History\n",
    "from rover_simulator.navigation.localizer import ImaginalLocalizer\n",
    "from rover_simulator.collision_detector import CollisionDetector\n",
    "from rover_simulator.navigation.controller import DWAController\n",
    "from rover_simulator.navigation.mapper import GridMapper"
   ]
  },
  {
   "cell_type": "code",
   "execution_count": 2,
   "id": "f1af8248-3d12-4ea1-9730-068df6df2a0f",
   "metadata": {
    "execution": {
     "iopub.execute_input": "2021-09-22T05:06:21.562899Z",
     "iopub.status.busy": "2021-09-22T05:06:21.561901Z",
     "iopub.status.idle": "2021-09-22T05:06:21.576862Z",
     "shell.execute_reply": "2021-09-22T05:06:21.575865Z",
     "shell.execute_reply.started": "2021-09-22T05:06:21.561901Z"
    },
    "tags": []
   },
   "outputs": [],
   "source": [
    "world = World(end_step=200)\n",
    "world.read_objects(\"../rover_simulator/examples/environment_deadend.txt\")"
   ]
  },
  {
   "cell_type": "code",
   "execution_count": 3,
   "id": "226b25f0-54e2-44d2-9018-482ef2f77b4a",
   "metadata": {
    "execution": {
     "iopub.execute_input": "2021-09-22T05:06:21.578857Z",
     "iopub.status.busy": "2021-09-22T05:06:21.578857Z",
     "iopub.status.idle": "2021-09-22T05:06:21.592818Z",
     "shell.execute_reply": "2021-09-22T05:06:21.590824Z",
     "shell.execute_reply.started": "2021-09-22T05:06:21.578857Z"
    },
    "tags": []
   },
   "outputs": [],
   "source": [
    "sensor = ImaginalSensor(obstacles=world.obstacles, fov=np.pi)\n",
    "history = History()\n",
    "rover = DWARover(\n",
    "    np.array([1.0, 1.0, 0.0]), 0.5,\n",
    "    sensor=sensor,\n",
    "    localizer=ImaginalLocalizer(),\n",
    "    history=history,\n",
    "    collision_detector=CollisionDetector(world.obstacles)\n",
    ")\n",
    "world.append_rover(rover)"
   ]
  },
  {
   "cell_type": "code",
   "execution_count": 4,
   "id": "eb02f160-7db2-4f8c-aff7-3576a676b84a",
   "metadata": {
    "execution": {
     "iopub.execute_input": "2021-09-22T05:06:21.595811Z",
     "iopub.status.busy": "2021-09-22T05:06:21.594815Z",
     "iopub.status.idle": "2021-09-22T05:06:22.634034Z",
     "shell.execute_reply": "2021-09-22T05:06:22.633037Z",
     "shell.execute_reply.started": "2021-09-22T05:06:21.595811Z"
    },
    "tags": []
   },
   "outputs": [
    {
     "data": {
      "application/vnd.jupyter.widget-view+json": {
       "model_id": "0611d9fea0b644abba2e3700502dafa7",
       "version_major": 2,
       "version_minor": 0
      },
      "text/plain": [
       "  0%|          | 0/200 [00:00<?, ?it/s]"
      ]
     },
     "metadata": {},
     "output_type": "display_data"
    }
   ],
   "source": [
    "world.simulate()"
   ]
  },
  {
   "cell_type": "code",
   "execution_count": 5,
   "id": "089fe869-33ce-48f3-9485-540ace7d5c75",
   "metadata": {
    "execution": {
     "iopub.execute_input": "2021-09-22T05:06:22.635033Z",
     "iopub.status.busy": "2021-09-22T05:06:22.635033Z",
     "iopub.status.idle": "2021-09-22T05:06:22.901324Z",
     "shell.execute_reply": "2021-09-22T05:06:22.900322Z",
     "shell.execute_reply.started": "2021-09-22T05:06:22.635033Z"
    },
    "tags": []
   },
   "outputs": [
    {
     "data": {
      "application/vnd.jupyter.widget-view+json": {
       "model_id": "2cd1864e1a7f440b8e198b680f398ace",
       "version_major": 2,
       "version_minor": 0
      },
      "text/plain": [
       "Canvas(toolbar=Toolbar(toolitems=[('Home', 'Reset original view', 'home', 'home'), ('Back', 'Back to previous …"
      ]
     },
     "metadata": {},
     "output_type": "display_data"
    }
   ],
   "source": [
    "history.plot(\n",
    "    xlim=[0, 20], ylim=[0, 20],\n",
    "    obstacles=world.obstacles, enlarge_obstacle=rover.r,\n",
    "    draw_sensing_points=True\n",
    ")"
   ]
  },
  {
   "cell_type": "code",
   "execution_count": 6,
   "id": "59e68fdb-0ce1-4220-a2d1-1eb46fd31340",
   "metadata": {
    "execution": {
     "iopub.execute_input": "2021-09-22T05:06:22.903337Z",
     "iopub.status.busy": "2021-09-22T05:06:22.903337Z",
     "iopub.status.idle": "2021-09-22T05:06:24.520023Z",
     "shell.execute_reply": "2021-09-22T05:06:24.520023Z",
     "shell.execute_reply.started": "2021-09-22T05:06:22.903337Z"
    },
    "tags": []
   },
   "outputs": [
    {
     "data": {
      "application/vnd.jupyter.widget-view+json": {
       "model_id": "bacac3a76c3f4c9e9d270d27de0945a4",
       "version_major": 2,
       "version_minor": 0
      },
      "text/plain": [
       "Canvas(toolbar=Toolbar(toolitems=[('Home', 'Reset original view', 'home', 'home'), ('Back', 'Back to previous …"
      ]
     },
     "metadata": {},
     "output_type": "display_data"
    },
    {
     "data": {
      "application/vnd.jupyter.widget-view+json": {
       "model_id": "c457702f38194d729822b332f3baaa5c",
       "version_major": 2,
       "version_minor": 0
      },
      "text/plain": [
       "  0%|          | 0/200 [00:00<?, ?it/s]"
      ]
     },
     "metadata": {},
     "output_type": "display_data"
    }
   ],
   "source": [
    "history.animate(\n",
    "    xlim=[0, 20], ylim=[0, 20],\n",
    "    obstacles=world.obstacles,\n",
    "    enlarge_obstacle=rover.r,\n",
    "    #save_path=\"log/dwa.mp4\",\n",
    "    debug=True\n",
    ")"
   ]
  },
  {
   "cell_type": "code",
   "execution_count": null,
   "id": "25199d97-0624-4090-ae64-826ca86d7637",
   "metadata": {},
   "outputs": [],
   "source": []
  }
 ],
 "metadata": {
  "kernelspec": {
   "display_name": "Python 3",
   "language": "python",
   "name": "python3"
  },
  "language_info": {
   "codemirror_mode": {
    "name": "ipython",
    "version": 3
   },
   "file_extension": ".py",
   "mimetype": "text/x-python",
   "name": "python",
   "nbconvert_exporter": "python",
   "pygments_lexer": "ipython3",
   "version": "3.7.10"
  }
 },
 "nbformat": 4,
 "nbformat_minor": 5
}
