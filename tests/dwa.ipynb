{
 "cells": [
  {
   "cell_type": "code",
   "execution_count": 1,
   "id": "7a4c274f-2704-4a83-b0c5-cf69a9422cf0",
   "metadata": {
    "execution": {
     "iopub.execute_input": "2021-09-04T08:38:32.248937Z",
     "iopub.status.busy": "2021-09-04T08:38:32.247940Z",
     "iopub.status.idle": "2021-09-04T08:38:33.432463Z",
     "shell.execute_reply": "2021-09-04T08:38:33.431464Z",
     "shell.execute_reply.started": "2021-09-04T08:38:32.248937Z"
    },
    "tags": []
   },
   "outputs": [],
   "source": [
    "import sys\n",
    "sys.path.append('../')\n",
    "import numpy as np\n",
    "import matplotlib\n",
    "%matplotlib widget\n",
    "\n",
    "from rover_simulator.core import Obstacle\n",
    "from rover_simulator.sensor import ImaginalSensor\n",
    "from rover_simulator.world import World\n",
    "from rover_simulator.rover import DWARover, History\n",
    "from rover_simulator.navigation.localizer import ImaginalLocalizer\n",
    "from rover_simulator.collision_detector import CollisionDetector\n",
    "from rover_simulator.navigation.controller import DWAController\n",
    "from rover_simulator.navigation.mapper import GridMapper"
   ]
  },
  {
   "cell_type": "code",
   "execution_count": 2,
   "id": "f1af8248-3d12-4ea1-9730-068df6df2a0f",
   "metadata": {
    "execution": {
     "iopub.execute_input": "2021-09-04T08:38:33.434461Z",
     "iopub.status.busy": "2021-09-04T08:38:33.433458Z",
     "iopub.status.idle": "2021-09-04T08:38:33.464377Z",
     "shell.execute_reply": "2021-09-04T08:38:33.462381Z",
     "shell.execute_reply.started": "2021-09-04T08:38:33.434461Z"
    },
    "tags": []
   },
   "outputs": [],
   "source": [
    "world = World(end_step=200)\n",
    "world.read_objects(\"../rover_simulator/examples/environment_deadend.txt\")"
   ]
  },
  {
   "cell_type": "code",
   "execution_count": 3,
   "id": "226b25f0-54e2-44d2-9018-482ef2f77b4a",
   "metadata": {
    "execution": {
     "iopub.execute_input": "2021-09-04T08:38:33.467369Z",
     "iopub.status.busy": "2021-09-04T08:38:33.467369Z",
     "iopub.status.idle": "2021-09-04T08:38:33.479336Z",
     "shell.execute_reply": "2021-09-04T08:38:33.478338Z",
     "shell.execute_reply.started": "2021-09-04T08:38:33.467369Z"
    },
    "tags": []
   },
   "outputs": [],
   "source": [
    "sensor = ImaginalSensor(obstacles=world.obstacles, fov=np.pi)\n",
    "rover = DWARover(\n",
    "    np.array([1.0, 1.0, 0.0]), 0.5,\n",
    "    sensor=sensor,\n",
    "    localizer=ImaginalLocalizer(),\n",
    "    history=History(),\n",
    "    collision_detector=CollisionDetector(world.obstacles)\n",
    ")\n",
    "world.append_rover(rover)"
   ]
  },
  {
   "cell_type": "code",
   "execution_count": 4,
   "id": "eb02f160-7db2-4f8c-aff7-3576a676b84a",
   "metadata": {
    "execution": {
     "iopub.execute_input": "2021-09-04T08:38:33.483328Z",
     "iopub.status.busy": "2021-09-04T08:38:33.482328Z",
     "iopub.status.idle": "2021-09-04T08:38:34.834321Z",
     "shell.execute_reply": "2021-09-04T08:38:34.833325Z",
     "shell.execute_reply.started": "2021-09-04T08:38:33.483328Z"
    },
    "tags": []
   },
   "outputs": [
    {
     "data": {
      "application/vnd.jupyter.widget-view+json": {
       "model_id": "0d42f93512244a3dacb2ba2413244a4a",
       "version_major": 2,
       "version_minor": 0
      },
      "text/plain": [
       "  0%|          | 0/200 [00:00<?, ?it/s]"
      ]
     },
     "metadata": {},
     "output_type": "display_data"
    }
   ],
   "source": [
    "world.simulate()"
   ]
  },
  {
   "cell_type": "code",
   "execution_count": 5,
   "id": "e1474de7-f67c-44f0-9ad2-2faa1c812e0d",
   "metadata": {
    "execution": {
     "iopub.execute_input": "2021-09-04T08:38:35.700276Z",
     "iopub.status.busy": "2021-09-04T08:38:35.699277Z",
     "iopub.status.idle": "2021-09-04T08:38:35.783707Z",
     "shell.execute_reply": "2021-09-04T08:38:35.781719Z",
     "shell.execute_reply.started": "2021-09-04T08:38:35.700276Z"
    },
    "tags": []
   },
   "outputs": [
    {
     "data": {
      "application/vnd.jupyter.widget-view+json": {
       "model_id": "50708849a717400db67853eb753c9230",
       "version_major": 2,
       "version_minor": 0
      },
      "text/plain": [
       "Canvas(toolbar=Toolbar(toolitems=[('Home', 'Reset original view', 'home', 'home'), ('Back', 'Back to previous …"
      ]
     },
     "metadata": {},
     "output_type": "display_data"
    }
   ],
   "source": [
    "world.plot(xlim=[0, 20], ylim=[0, 20], enlarge_obstacle=rover.r)"
   ]
  },
  {
   "cell_type": "code",
   "execution_count": 6,
   "id": "3dfb42d1-47e7-4380-a56c-9779a21b08d1",
   "metadata": {
    "execution": {
     "iopub.execute_input": "2021-09-04T08:38:37.835081Z",
     "iopub.status.busy": "2021-09-04T08:38:37.835081Z",
     "iopub.status.idle": "2021-09-04T08:38:37.949738Z",
     "shell.execute_reply": "2021-09-04T08:38:37.948741Z",
     "shell.execute_reply.started": "2021-09-04T08:38:37.835081Z"
    },
    "tags": []
   },
   "outputs": [
    {
     "data": {
      "application/vnd.jupyter.widget-view+json": {
       "model_id": "fdc37550d46d444bb85371d3bf836f1d",
       "version_major": 2,
       "version_minor": 0
      },
      "text/plain": [
       "Canvas(toolbar=Toolbar(toolitems=[('Home', 'Reset original view', 'home', 'home'), ('Back', 'Back to previous …"
      ]
     },
     "metadata": {},
     "output_type": "display_data"
    },
    {
     "data": {
      "application/vnd.jupyter.widget-view+json": {
       "model_id": "a482f986beae4e10a3801088349040e2",
       "version_major": 2,
       "version_minor": 0
      },
      "text/plain": [
       "  0%|          | 0/200 [00:00<?, ?it/s]"
      ]
     },
     "metadata": {},
     "output_type": "display_data"
    }
   ],
   "source": [
    "world.animate(\n",
    "    xlim=[0, 20], ylim=[0, 20],\n",
    "    enlarge_obstacle=rover.r,\n",
    "    #save_path=\"log/dwa.mp4\",\n",
    "    debug=False\n",
    ")"
   ]
  },
  {
   "cell_type": "code",
   "execution_count": null,
   "id": "7d1c9b31-f051-442d-8f92-5a6cef3dd692",
   "metadata": {},
   "outputs": [],
   "source": []
  }
 ],
 "metadata": {
  "kernelspec": {
   "display_name": "Python 3",
   "language": "python",
   "name": "python3"
  },
  "language_info": {
   "codemirror_mode": {
    "name": "ipython",
    "version": 3
   },
   "file_extension": ".py",
   "mimetype": "text/x-python",
   "name": "python",
   "nbconvert_exporter": "python",
   "pygments_lexer": "ipython3",
   "version": "3.7.10"
  }
 },
 "nbformat": 4,
 "nbformat_minor": 5
}
