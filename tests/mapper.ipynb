{
 "cells": [
  {
   "cell_type": "code",
   "execution_count": 1,
   "id": "7a4c274f-2704-4a83-b0c5-cf69a9422cf0",
   "metadata": {
    "execution": {
     "iopub.execute_input": "2021-09-06T07:26:59.794213Z",
     "iopub.status.busy": "2021-09-06T07:26:59.793216Z",
     "iopub.status.idle": "2021-09-06T07:27:01.187387Z",
     "shell.execute_reply": "2021-09-06T07:27:01.186388Z",
     "shell.execute_reply.started": "2021-09-06T07:26:59.793216Z"
    },
    "tags": []
   },
   "outputs": [],
   "source": [
    "import sys\n",
    "sys.path.append('../')\n",
    "import numpy as np\n",
    "import matplotlib\n",
    "%matplotlib widget\n",
    "\n",
    "from rover_simulator.sensor import ImaginalSensor\n",
    "from rover_simulator.world import World, Obstacle\n",
    "from rover_simulator.rover import BasicRover, RoverAnimation, History\n",
    "from rover_simulator.navigation.localizer import ImaginalLocalizer\n",
    "from rover_simulator.navigation.controller import ConstantSpeedController\n",
    "from rover_simulator.navigation.mapper import GridMapper, TableMapper"
   ]
  },
  {
   "cell_type": "code",
   "execution_count": 2,
   "id": "f1af8248-3d12-4ea1-9730-068df6df2a0f",
   "metadata": {
    "execution": {
     "iopub.execute_input": "2021-09-06T07:27:01.188385Z",
     "iopub.status.busy": "2021-09-06T07:27:01.188385Z",
     "iopub.status.idle": "2021-09-06T07:27:01.206335Z",
     "shell.execute_reply": "2021-09-06T07:27:01.202356Z",
     "shell.execute_reply.started": "2021-09-06T07:27:01.188385Z"
    },
    "tags": []
   },
   "outputs": [],
   "source": [
    "world = World(end_step=200)\n",
    "world.read_objects(\"../rover_simulator/examples/environment_deadend.txt\")"
   ]
  },
  {
   "cell_type": "code",
   "execution_count": 3,
   "id": "226b25f0-54e2-44d2-9018-482ef2f77b4a",
   "metadata": {
    "execution": {
     "iopub.execute_input": "2021-09-06T07:27:01.209330Z",
     "iopub.status.busy": "2021-09-06T07:27:01.208334Z",
     "iopub.status.idle": "2021-09-06T07:27:01.234524Z",
     "shell.execute_reply": "2021-09-06T07:27:01.232530Z",
     "shell.execute_reply.started": "2021-09-06T07:27:01.209330Z"
    },
    "tags": []
   },
   "outputs": [],
   "source": [
    "grid_width = 0.5\n",
    "rover_r = 0.5\n",
    "sensor = ImaginalSensor(obstacles=world.obstacles)\n",
    "# mapper = GridMapper(grid_size=np.array([20, 20]), grid_width=grid_width, sensor=sensor, rover_r=rover_r)\n",
    "mapper = TableMapper(sensor=sensor, rover_r=rover_r)\n",
    "rover = BasicRover(\n",
    "    np.array([1.0, 1.0, 0.0]), rover_r,\n",
    "    sensor=sensor,\n",
    "    mapper=mapper,\n",
    "    localizer=ImaginalLocalizer(),\n",
    "    controller=ConstantSpeedController(w=np.pi/32),\n",
    "    history=History()\n",
    ")\n",
    "world.append_rover(rover)"
   ]
  },
  {
   "cell_type": "code",
   "execution_count": 4,
   "id": "eb02f160-7db2-4f8c-aff7-3576a676b84a",
   "metadata": {
    "execution": {
     "iopub.execute_input": "2021-09-06T07:27:01.238514Z",
     "iopub.status.busy": "2021-09-06T07:27:01.237517Z",
     "iopub.status.idle": "2021-09-06T07:27:01.405068Z",
     "shell.execute_reply": "2021-09-06T07:27:01.403073Z",
     "shell.execute_reply.started": "2021-09-06T07:27:01.238514Z"
    },
    "tags": []
   },
   "outputs": [
    {
     "data": {
      "application/vnd.jupyter.widget-view+json": {
       "model_id": "af2d9f68ec2040a0a016e737e06773ac",
       "version_major": 2,
       "version_minor": 0
      },
      "text/plain": [
       "  0%|          | 0/200 [00:00<?, ?it/s]"
      ]
     },
     "metadata": {},
     "output_type": "display_data"
    }
   ],
   "source": [
    "world.simulate()"
   ]
  },
  {
   "cell_type": "code",
   "execution_count": 5,
   "id": "e45bebbb-be4d-45a1-a732-c642262b40ab",
   "metadata": {
    "execution": {
     "iopub.execute_input": "2021-09-06T07:27:01.407063Z",
     "iopub.status.busy": "2021-09-06T07:27:01.406066Z",
     "iopub.status.idle": "2021-09-06T07:27:01.427010Z",
     "shell.execute_reply": "2021-09-06T07:27:01.420029Z",
     "shell.execute_reply.started": "2021-09-06T07:27:01.407063Z"
    },
    "tags": []
   },
   "outputs": [],
   "source": [
    "# world.animate(xlim=[0, 20], ylim=[0, 20], enlarge_obstacle=rover.r, debug=False)"
   ]
  },
  {
   "cell_type": "code",
   "execution_count": 6,
   "id": "e1474de7-f67c-44f0-9ad2-2faa1c812e0d",
   "metadata": {
    "execution": {
     "iopub.execute_input": "2021-09-06T07:27:01.430002Z",
     "iopub.status.busy": "2021-09-06T07:27:01.430002Z",
     "iopub.status.idle": "2021-09-06T07:27:01.542701Z",
     "shell.execute_reply": "2021-09-06T07:27:01.541703Z",
     "shell.execute_reply.started": "2021-09-06T07:27:01.430002Z"
    },
    "tags": []
   },
   "outputs": [
    {
     "data": {
      "application/vnd.jupyter.widget-view+json": {
       "model_id": "84476ee7b31946e68545329bdbe959c6",
       "version_major": 2,
       "version_minor": 0
      },
      "text/plain": [
       "Canvas(toolbar=Toolbar(toolitems=[('Home', 'Reset original view', 'home', 'home'), ('Back', 'Back to previous …"
      ]
     },
     "metadata": {},
     "output_type": "display_data"
    }
   ],
   "source": [
    "rover.mapper.drawMap([0, 20], [0, 20])"
   ]
  },
  {
   "cell_type": "code",
   "execution_count": 7,
   "id": "f3c326ae-d9fb-436f-8de4-ca8bbef166ee",
   "metadata": {
    "execution": {
     "iopub.execute_input": "2021-09-06T07:27:01.546689Z",
     "iopub.status.busy": "2021-09-06T07:27:01.546689Z",
     "iopub.status.idle": "2021-09-06T07:27:01.562647Z",
     "shell.execute_reply": "2021-09-06T07:27:01.557660Z",
     "shell.execute_reply.started": "2021-09-06T07:27:01.546689Z"
    },
    "tags": []
   },
   "outputs": [],
   "source": [
    "# rover.mapper.fig.savefig(\"log/mapper.jpg\")"
   ]
  },
  {
   "cell_type": "code",
   "execution_count": 8,
   "id": "3dfb42d1-47e7-4380-a56c-9779a21b08d1",
   "metadata": {
    "execution": {
     "iopub.execute_input": "2021-09-06T07:27:01.567633Z",
     "iopub.status.busy": "2021-09-06T07:27:01.567633Z",
     "iopub.status.idle": "2021-09-06T07:27:01.727874Z",
     "shell.execute_reply": "2021-09-06T07:27:01.726876Z",
     "shell.execute_reply.started": "2021-09-06T07:27:01.567633Z"
    },
    "tags": []
   },
   "outputs": [
    {
     "data": {
      "application/vnd.jupyter.widget-view+json": {
       "model_id": "9bc113f1e10e418e9f36963787eb3fdc",
       "version_major": 2,
       "version_minor": 0
      },
      "text/plain": [
       "Canvas(toolbar=Toolbar(toolitems=[('Home', 'Reset original view', 'home', 'home'), ('Back', 'Back to previous …"
      ]
     },
     "metadata": {},
     "output_type": "display_data"
    },
    {
     "data": {
      "application/vnd.jupyter.widget-view+json": {
       "model_id": "1abf5d906f00431ea8c924285ecef0f6",
       "version_major": 2,
       "version_minor": 0
      },
      "text/plain": [
       "  0%|          | 0/201 [00:00<?, ?it/s]"
      ]
     },
     "metadata": {},
     "output_type": "display_data"
    }
   ],
   "source": [
    "rover_animation = RoverAnimation(world, rover, None)\n",
    "rover_animation.animate(\n",
    "    #xlim=[0-rover.mapper.grid_width/2, 20-rover.mapper.grid_width/2],\n",
    "    xlim=[0, 20],\n",
    "    #ylim=[0-rover.mapper.grid_width/2, 20-rover.mapper.grid_width/2],\n",
    "    ylim=[0, 20],\n",
    "    enlarge_obstacle=rover.r,\n",
    "    map_name='table',\n",
    "    #save_path=\"mapper.mp4\",\n",
    "    debug=False\n",
    ")"
   ]
  },
  {
   "cell_type": "code",
   "execution_count": null,
   "id": "db1812d2-4685-4e90-bf5f-02659929b7f2",
   "metadata": {},
   "outputs": [],
   "source": []
  }
 ],
 "metadata": {
  "kernelspec": {
   "display_name": "Python 3",
   "language": "python",
   "name": "python3"
  },
  "language_info": {
   "codemirror_mode": {
    "name": "ipython",
    "version": 3
   },
   "file_extension": ".py",
   "mimetype": "text/x-python",
   "name": "python",
   "nbconvert_exporter": "python",
   "pygments_lexer": "ipython3",
   "version": "3.7.10"
  }
 },
 "nbformat": 4,
 "nbformat_minor": 5
}
