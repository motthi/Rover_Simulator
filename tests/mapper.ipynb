{
 "cells": [
  {
   "cell_type": "code",
   "execution_count": 1,
   "id": "7a4c274f-2704-4a83-b0c5-cf69a9422cf0",
   "metadata": {
    "execution": {
     "iopub.execute_input": "2021-09-04T08:20:31.988465Z",
     "iopub.status.busy": "2021-09-04T08:20:31.988465Z",
     "iopub.status.idle": "2021-09-04T08:20:33.090692Z",
     "shell.execute_reply": "2021-09-04T08:20:33.090692Z",
     "shell.execute_reply.started": "2021-09-04T08:20:31.988465Z"
    },
    "tags": []
   },
   "outputs": [],
   "source": [
    "import sys\n",
    "sys.path.append('../')\n",
    "import numpy as np\n",
    "import matplotlib\n",
    "%matplotlib widget\n",
    "\n",
    "from rover_simulator.sensor import ImaginalSensor\n",
    "from rover_simulator.world import World, Obstacle\n",
    "from rover_simulator.rover import BasicRover, RoverAnimation, History\n",
    "from rover_simulator.navigation.localizer import ImaginalLocalizer\n",
    "from rover_simulator.navigation.controller import ConstantSpeedController\n",
    "from rover_simulator.navigation.mapper import GridMapper"
   ]
  },
  {
   "cell_type": "code",
   "execution_count": 2,
   "id": "f1af8248-3d12-4ea1-9730-068df6df2a0f",
   "metadata": {
    "execution": {
     "iopub.execute_input": "2021-09-04T08:20:33.092688Z",
     "iopub.status.busy": "2021-09-04T08:20:33.092688Z",
     "iopub.status.idle": "2021-09-04T08:20:33.108646Z",
     "shell.execute_reply": "2021-09-04T08:20:33.106651Z",
     "shell.execute_reply.started": "2021-09-04T08:20:33.092688Z"
    },
    "tags": []
   },
   "outputs": [],
   "source": [
    "world = World(end_step=200)\n",
    "world.read_objects(\"../rover_simulator/examples/environment_deadend.txt\")"
   ]
  },
  {
   "cell_type": "code",
   "execution_count": 3,
   "id": "226b25f0-54e2-44d2-9018-482ef2f77b4a",
   "metadata": {
    "execution": {
     "iopub.execute_input": "2021-09-04T08:20:33.110639Z",
     "iopub.status.busy": "2021-09-04T08:20:33.109643Z",
     "iopub.status.idle": "2021-09-04T08:20:33.137568Z",
     "shell.execute_reply": "2021-09-04T08:20:33.137568Z",
     "shell.execute_reply.started": "2021-09-04T08:20:33.110639Z"
    },
    "tags": []
   },
   "outputs": [],
   "source": [
    "grid_width = 0.5\n",
    "sensor = ImaginalSensor(obstacles=world.obstacles)\n",
    "rover = BasicRover(\n",
    "    np.array([1.0, 1.0, 0.0]), 0.5,\n",
    "    sensor=sensor,\n",
    "    mapper=GridMapper(grid_size=np.array([20, 20]), grid_width=grid_width, sensor=sensor),\n",
    "    localizer=ImaginalLocalizer(),\n",
    "    controller=ConstantSpeedController(omega=np.pi/32),\n",
    "    history=History()\n",
    ")\n",
    "world.append_rover(rover)"
   ]
  },
  {
   "cell_type": "code",
   "execution_count": 4,
   "id": "eb02f160-7db2-4f8c-aff7-3576a676b84a",
   "metadata": {
    "execution": {
     "iopub.execute_input": "2021-09-04T08:20:33.139601Z",
     "iopub.status.busy": "2021-09-04T08:20:33.138579Z",
     "iopub.status.idle": "2021-09-04T08:20:40.943360Z",
     "shell.execute_reply": "2021-09-04T08:20:40.924410Z",
     "shell.execute_reply.started": "2021-09-04T08:20:33.139601Z"
    },
    "tags": []
   },
   "outputs": [
    {
     "data": {
      "application/vnd.jupyter.widget-view+json": {
       "model_id": "5d2d1210f9a448ce83c3854f05d9c47c",
       "version_major": 2,
       "version_minor": 0
      },
      "text/plain": [
       "  0%|          | 0/200 [00:00<?, ?it/s]"
      ]
     },
     "metadata": {},
     "output_type": "display_data"
    }
   ],
   "source": [
    "world.simulate()"
   ]
  },
  {
   "cell_type": "code",
   "execution_count": 5,
   "id": "e45bebbb-be4d-45a1-a732-c642262b40ab",
   "metadata": {
    "execution": {
     "iopub.execute_input": "2021-09-04T08:20:40.946354Z",
     "iopub.status.busy": "2021-09-04T08:20:40.946354Z",
     "iopub.status.idle": "2021-09-04T08:20:40.956326Z",
     "shell.execute_reply": "2021-09-04T08:20:40.955329Z",
     "shell.execute_reply.started": "2021-09-04T08:20:40.946354Z"
    },
    "tags": []
   },
   "outputs": [],
   "source": [
    "# world.animate(xlim=[0, 20], ylim=[0, 20], enlarge_obstacle=rover.r, debug=False)"
   ]
  },
  {
   "cell_type": "code",
   "execution_count": 6,
   "id": "e1474de7-f67c-44f0-9ad2-2faa1c812e0d",
   "metadata": {
    "execution": {
     "iopub.execute_input": "2021-09-04T08:20:40.959320Z",
     "iopub.status.busy": "2021-09-04T08:20:40.959320Z",
     "iopub.status.idle": "2021-09-04T08:20:41.408534Z",
     "shell.execute_reply": "2021-09-04T08:20:41.407537Z",
     "shell.execute_reply.started": "2021-09-04T08:20:40.959320Z"
    },
    "tags": []
   },
   "outputs": [
    {
     "data": {
      "application/vnd.jupyter.widget-view+json": {
       "model_id": "ec1300e007784d5284bd7cbbe0f713b9",
       "version_major": 2,
       "version_minor": 0
      },
      "text/plain": [
       "Canvas(toolbar=Toolbar(toolitems=[('Home', 'Reset original view', 'home', 'home'), ('Back', 'Back to previous …"
      ]
     },
     "metadata": {},
     "output_type": "display_data"
    }
   ],
   "source": [
    "rover.mapper.drawMap(\n",
    "    [0-rover.mapper.grid_width/2, 20-rover.mapper.grid_width/2],\n",
    "    [0-rover.mapper.grid_width/2, 20-rover.mapper.grid_width/2]\n",
    ")"
   ]
  },
  {
   "cell_type": "code",
   "execution_count": 7,
   "id": "f3c326ae-d9fb-436f-8de4-ca8bbef166ee",
   "metadata": {
    "execution": {
     "iopub.execute_input": "2021-09-04T08:20:41.409565Z",
     "iopub.status.busy": "2021-09-04T08:20:41.409565Z",
     "iopub.status.idle": "2021-09-04T08:20:41.426486Z",
     "shell.execute_reply": "2021-09-04T08:20:41.424497Z",
     "shell.execute_reply.started": "2021-09-04T08:20:41.409565Z"
    },
    "tags": []
   },
   "outputs": [],
   "source": [
    "# rover.mapper.fig.savefig(\"log/mapper.jpg\")"
   ]
  },
  {
   "cell_type": "code",
   "execution_count": 8,
   "id": "3dfb42d1-47e7-4380-a56c-9779a21b08d1",
   "metadata": {
    "execution": {
     "iopub.execute_input": "2021-09-04T08:20:46.264426Z",
     "iopub.status.busy": "2021-09-04T08:20:46.263428Z",
     "iopub.status.idle": "2021-09-04T08:20:46.350198Z",
     "shell.execute_reply": "2021-09-04T08:20:46.349198Z",
     "shell.execute_reply.started": "2021-09-04T08:20:46.264426Z"
    },
    "tags": []
   },
   "outputs": [
    {
     "data": {
      "application/vnd.jupyter.widget-view+json": {
       "model_id": "ce97de080c86465d9fee3b9ede0b31f9",
       "version_major": 2,
       "version_minor": 0
      },
      "text/plain": [
       "Canvas(toolbar=Toolbar(toolitems=[('Home', 'Reset original view', 'home', 'home'), ('Back', 'Back to previous …"
      ]
     },
     "metadata": {},
     "output_type": "display_data"
    },
    {
     "data": {
      "application/vnd.jupyter.widget-view+json": {
       "model_id": "04076f20842842bab99e12acbf522ea9",
       "version_major": 2,
       "version_minor": 0
      },
      "text/plain": [
       "  0%|          | 0/201 [00:00<?, ?it/s]"
      ]
     },
     "metadata": {},
     "output_type": "display_data"
    }
   ],
   "source": [
    "rover_animation = RoverAnimation(world, rover, None)\n",
    "rover_animation.animate(\n",
    "    xlim=[0-rover.mapper.grid_width/2, 20-rover.mapper.grid_width/2],\n",
    "    ylim=[0-rover.mapper.grid_width/2, 20-rover.mapper.grid_width/2],\n",
    "    enlarge_obstacle=rover.r,\n",
    "    map_name='map',\n",
    "    #save_path=\"mapper.mp4\",\n",
    "    debug=False\n",
    ")"
   ]
  },
  {
   "cell_type": "code",
   "execution_count": null,
   "id": "db1812d2-4685-4e90-bf5f-02659929b7f2",
   "metadata": {},
   "outputs": [],
   "source": []
  }
 ],
 "metadata": {
  "kernelspec": {
   "display_name": "Python 3",
   "language": "python",
   "name": "python3"
  },
  "language_info": {
   "codemirror_mode": {
    "name": "ipython",
    "version": 3
   },
   "file_extension": ".py",
   "mimetype": "text/x-python",
   "name": "python",
   "nbconvert_exporter": "python",
   "pygments_lexer": "ipython3",
   "version": "3.7.10"
  }
 },
 "nbformat": 4,
 "nbformat_minor": 5
}
