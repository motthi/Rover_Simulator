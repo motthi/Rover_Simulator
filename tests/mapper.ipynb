{
 "cells": [
  {
   "cell_type": "code",
   "execution_count": 1,
   "id": "7a4c274f-2704-4a83-b0c5-cf69a9422cf0",
   "metadata": {
    "execution": {
     "iopub.execute_input": "2021-09-12T13:24:18.650781Z",
     "iopub.status.busy": "2021-09-12T13:24:18.650781Z",
     "iopub.status.idle": "2021-09-12T13:24:20.323683Z",
     "shell.execute_reply": "2021-09-12T13:24:20.322687Z",
     "shell.execute_reply.started": "2021-09-12T13:24:18.650781Z"
    },
    "tags": []
   },
   "outputs": [],
   "source": [
    "import sys\n",
    "sys.path.append('../')\n",
    "import numpy as np\n",
    "import matplotlib\n",
    "%matplotlib widget\n",
    "\n",
    "from rover_simulator.sensor import ImaginalSensor\n",
    "from rover_simulator.world import World, Obstacle\n",
    "from rover_simulator.rover import BasicRover, RoverAnimation, History\n",
    "from rover_simulator.navigation.localizer import ImaginalLocalizer\n",
    "from rover_simulator.navigation.controller import ConstantSpeedController\n",
    "from rover_simulator.navigation.mapper import GridMapper, TableMapper"
   ]
  },
  {
   "cell_type": "code",
   "execution_count": 2,
   "id": "f1af8248-3d12-4ea1-9730-068df6df2a0f",
   "metadata": {
    "execution": {
     "iopub.execute_input": "2021-09-12T13:24:20.326675Z",
     "iopub.status.busy": "2021-09-12T13:24:20.325678Z",
     "iopub.status.idle": "2021-09-12T13:24:20.356594Z",
     "shell.execute_reply": "2021-09-12T13:24:20.353603Z",
     "shell.execute_reply.started": "2021-09-12T13:24:20.326675Z"
    },
    "tags": []
   },
   "outputs": [],
   "source": [
    "world = World(end_step=200)\n",
    "world.read_objects(\"../rover_simulator/examples/environment_deadend.txt\")"
   ]
  },
  {
   "cell_type": "code",
   "execution_count": 3,
   "id": "226b25f0-54e2-44d2-9018-482ef2f77b4a",
   "metadata": {
    "execution": {
     "iopub.execute_input": "2021-09-12T13:24:20.358591Z",
     "iopub.status.busy": "2021-09-12T13:24:20.358591Z",
     "iopub.status.idle": "2021-09-12T13:24:20.400477Z",
     "shell.execute_reply": "2021-09-12T13:24:20.400477Z",
     "shell.execute_reply.started": "2021-09-12T13:24:20.358591Z"
    },
    "tags": []
   },
   "outputs": [],
   "source": [
    "grid_width = 0.5\n",
    "rover_r = 0.5\n",
    "sensor = ImaginalSensor(obstacles=world.obstacles)\n",
    "mapper = GridMapper(grid_size=np.array([20, 20]), grid_width=grid_width, sensor=sensor, rover_r=rover_r)\n",
    "# mapper = TableMapper(sensor=sensor, rover_r=rover_r)\n",
    "rover = BasicRover(\n",
    "    np.array([18.0, 1.0, np.pi]), rover_r,\n",
    "    sensor=sensor,\n",
    "    mapper=mapper,\n",
    "    localizer=ImaginalLocalizer(),\n",
    "    controller=ConstantSpeedController(w=-np.pi/32),\n",
    "    history=History()\n",
    ")\n",
    "world.append_rover(rover)"
   ]
  },
  {
   "cell_type": "code",
   "execution_count": 4,
   "id": "eb02f160-7db2-4f8c-aff7-3576a676b84a",
   "metadata": {
    "execution": {
     "iopub.execute_input": "2021-09-12T13:24:20.402475Z",
     "iopub.status.busy": "2021-09-12T13:24:20.402475Z",
     "iopub.status.idle": "2021-09-12T13:24:28.891354Z",
     "shell.execute_reply": "2021-09-12T13:24:28.890364Z",
     "shell.execute_reply.started": "2021-09-12T13:24:20.402475Z"
    },
    "tags": []
   },
   "outputs": [
    {
     "data": {
      "application/vnd.jupyter.widget-view+json": {
       "model_id": "f6b333d3603840ab81e0cae9675cd49b",
       "version_major": 2,
       "version_minor": 0
      },
      "text/plain": [
       "  0%|          | 0/200 [00:00<?, ?it/s]"
      ]
     },
     "metadata": {},
     "output_type": "display_data"
    }
   ],
   "source": [
    "world.reset_world(reset_rovers=False, reset_obstacles=False)\n",
    "world.simulate()"
   ]
  },
  {
   "cell_type": "code",
   "execution_count": 5,
   "id": "e45bebbb-be4d-45a1-a732-c642262b40ab",
   "metadata": {
    "execution": {
     "iopub.execute_input": "2021-09-12T13:24:28.893348Z",
     "iopub.status.busy": "2021-09-12T13:24:28.892352Z",
     "iopub.status.idle": "2021-09-12T13:24:28.906312Z",
     "shell.execute_reply": "2021-09-12T13:24:28.905521Z",
     "shell.execute_reply.started": "2021-09-12T13:24:28.893348Z"
    },
    "tags": []
   },
   "outputs": [],
   "source": [
    "# world.animate(xlim=[0, 20], ylim=[0, 20], enlarge_obstacle=rover.r, debug=False)"
   ]
  },
  {
   "cell_type": "code",
   "execution_count": 8,
   "id": "e1474de7-f67c-44f0-9ad2-2faa1c812e0d",
   "metadata": {
    "execution": {
     "iopub.execute_input": "2021-09-12T13:25:17.674198Z",
     "iopub.status.busy": "2021-09-12T13:25:17.673198Z",
     "iopub.status.idle": "2021-09-12T13:25:17.787892Z",
     "shell.execute_reply": "2021-09-12T13:25:17.786894Z",
     "shell.execute_reply.started": "2021-09-12T13:25:17.673198Z"
    },
    "tags": []
   },
   "outputs": [
    {
     "data": {
      "application/vnd.jupyter.widget-view+json": {
       "model_id": "6ea797e97c734b51bdd101233c4d4687",
       "version_major": 2,
       "version_minor": 0
      },
      "text/plain": [
       "Canvas(toolbar=Toolbar(toolitems=[('Home', 'Reset original view', 'home', 'home'), ('Back', 'Back to previous …"
      ]
     },
     "metadata": {},
     "output_type": "display_data"
    }
   ],
   "source": [
    "rover.mapper.draw_map(\n",
    "    xlim=[0-mapper.grid_width/2, 20-mapper.grid_width/2],\n",
    "    ylim=[0-mapper.grid_width/2, 20-mapper.grid_width/2],\n",
    "    obstacles=world.obstacles,\n",
    "    enlarge_obstacle=rover.r\n",
    ")"
   ]
  },
  {
   "cell_type": "code",
   "execution_count": null,
   "id": "f3c326ae-d9fb-436f-8de4-ca8bbef166ee",
   "metadata": {
    "execution": {
     "iopub.status.busy": "2021-09-12T13:24:29.050926Z",
     "iopub.status.idle": "2021-09-12T13:24:29.050926Z",
     "shell.execute_reply": "2021-09-12T13:24:29.050926Z"
    },
    "tags": []
   },
   "outputs": [],
   "source": [
    "# rover.mapper.fig.savefig(\"log/mapper.jpg\")"
   ]
  },
  {
   "cell_type": "code",
   "execution_count": null,
   "id": "0ae8bfba-a56c-4ae3-bea9-221376de8705",
   "metadata": {
    "execution": {
     "iopub.status.busy": "2021-09-12T13:24:29.051925Z",
     "iopub.status.idle": "2021-09-12T13:24:29.051925Z",
     "shell.execute_reply": "2021-09-12T13:24:29.051925Z"
    },
    "tags": []
   },
   "outputs": [],
   "source": [
    "# rover_animation = RoverAnimation(world, rover, None)\n",
    "# rover_animation.animate(\n",
    "#     #xlim=[0-rover.mapper.grid_width/2, 20-rover.mapper.grid_width/2],\n",
    "#     xlim=[0, 20],\n",
    "#     #ylim=[0-rover.mapper.grid_width/2, 20-rover.mapper.grid_width/2],\n",
    "#     ylim=[0, 20],\n",
    "#     enlarge_obstacle=rover.r,\n",
    "#     map_name='map',\n",
    "#     #save_path=\"mapper.mp4\",\n",
    "#     debug=False\n",
    "# )"
   ]
  }
 ],
 "metadata": {
  "kernelspec": {
   "display_name": "Python 3",
   "language": "python",
   "name": "python3"
  },
  "language_info": {
   "codemirror_mode": {
    "name": "ipython",
    "version": 3
   },
   "file_extension": ".py",
   "mimetype": "text/x-python",
   "name": "python",
   "nbconvert_exporter": "python",
   "pygments_lexer": "ipython3",
   "version": "3.7.10"
  }
 },
 "nbformat": 4,
 "nbformat_minor": 5
}
