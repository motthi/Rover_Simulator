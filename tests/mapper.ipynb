{
 "cells": [
  {
   "cell_type": "code",
   "execution_count": 1,
   "id": "7a4c274f-2704-4a83-b0c5-cf69a9422cf0",
   "metadata": {
    "execution": {
     "iopub.execute_input": "2021-09-11T15:27:54.314504Z",
     "iopub.status.busy": "2021-09-11T15:27:54.314504Z",
     "iopub.status.idle": "2021-09-11T15:27:55.549893Z",
     "shell.execute_reply": "2021-09-11T15:27:55.548887Z",
     "shell.execute_reply.started": "2021-09-11T15:27:54.314504Z"
    },
    "tags": []
   },
   "outputs": [],
   "source": [
    "import sys\n",
    "sys.path.append('../')\n",
    "import numpy as np\n",
    "import matplotlib\n",
    "%matplotlib widget\n",
    "\n",
    "from rover_simulator.sensor import ImaginalSensor\n",
    "from rover_simulator.world import World, Obstacle\n",
    "from rover_simulator.rover import BasicRover, RoverAnimation, History\n",
    "from rover_simulator.navigation.localizer import ImaginalLocalizer\n",
    "from rover_simulator.navigation.controller import ConstantSpeedController\n",
    "from rover_simulator.navigation.mapper import GridMapper, TableMapper"
   ]
  },
  {
   "cell_type": "code",
   "execution_count": 2,
   "id": "f1af8248-3d12-4ea1-9730-068df6df2a0f",
   "metadata": {
    "execution": {
     "iopub.execute_input": "2021-09-11T15:27:55.552886Z",
     "iopub.status.busy": "2021-09-11T15:27:55.551891Z",
     "iopub.status.idle": "2021-09-11T15:27:55.564856Z",
     "shell.execute_reply": "2021-09-11T15:27:55.563895Z",
     "shell.execute_reply.started": "2021-09-11T15:27:55.552886Z"
    },
    "tags": []
   },
   "outputs": [],
   "source": [
    "world = World(end_step=200)\n",
    "world.read_objects(\"../rover_simulator/examples/environment_deadend.txt\")"
   ]
  },
  {
   "cell_type": "code",
   "execution_count": 3,
   "id": "226b25f0-54e2-44d2-9018-482ef2f77b4a",
   "metadata": {
    "execution": {
     "iopub.execute_input": "2021-09-11T15:27:55.565852Z",
     "iopub.status.busy": "2021-09-11T15:27:55.565852Z",
     "iopub.status.idle": "2021-09-11T15:27:55.580811Z",
     "shell.execute_reply": "2021-09-11T15:27:55.579813Z",
     "shell.execute_reply.started": "2021-09-11T15:27:55.565852Z"
    },
    "tags": []
   },
   "outputs": [],
   "source": [
    "grid_width = 0.5\n",
    "rover_r = 0.5\n",
    "sensor = ImaginalSensor(obstacles=world.obstacles)\n",
    "mapper = GridMapper(grid_size=np.array([20, 20]), grid_width=grid_width, sensor=sensor, rover_r=rover_r)\n",
    "# mapper = TableMapper(sensor=sensor, rover_r=rover_r)\n",
    "rover = BasicRover(\n",
    "    np.array([18.0, 1.0, np.pi]), rover_r,\n",
    "    sensor=sensor,\n",
    "    mapper=mapper,\n",
    "    localizer=ImaginalLocalizer(),\n",
    "    controller=ConstantSpeedController(w=-np.pi/32),\n",
    "    history=History()\n",
    ")\n",
    "world.append_rover(rover)"
   ]
  },
  {
   "cell_type": "code",
   "execution_count": 4,
   "id": "eb02f160-7db2-4f8c-aff7-3576a676b84a",
   "metadata": {
    "execution": {
     "iopub.execute_input": "2021-09-11T15:27:55.583803Z",
     "iopub.status.busy": "2021-09-11T15:27:55.582820Z",
     "iopub.status.idle": "2021-09-11T15:28:03.774630Z",
     "shell.execute_reply": "2021-09-11T15:28:03.772634Z",
     "shell.execute_reply.started": "2021-09-11T15:27:55.583803Z"
    },
    "tags": []
   },
   "outputs": [
    {
     "data": {
      "application/vnd.jupyter.widget-view+json": {
       "model_id": "66f5642a503e44cc8fcc62914049f539",
       "version_major": 2,
       "version_minor": 0
      },
      "text/plain": [
       "  0%|          | 0/200 [00:00<?, ?it/s]"
      ]
     },
     "metadata": {},
     "output_type": "display_data"
    }
   ],
   "source": [
    "world.reset_world(reset_rovers=False, reset_obstacles=False)\n",
    "world.simulate()"
   ]
  },
  {
   "cell_type": "code",
   "execution_count": 5,
   "id": "e45bebbb-be4d-45a1-a732-c642262b40ab",
   "metadata": {
    "execution": {
     "iopub.execute_input": "2021-09-11T15:28:03.776626Z",
     "iopub.status.busy": "2021-09-11T15:28:03.776626Z",
     "iopub.status.idle": "2021-09-11T15:28:03.791588Z",
     "shell.execute_reply": "2021-09-11T15:28:03.788592Z",
     "shell.execute_reply.started": "2021-09-11T15:28:03.776626Z"
    },
    "tags": []
   },
   "outputs": [],
   "source": [
    "# world.animate(xlim=[0, 20], ylim=[0, 20], enlarge_obstacle=rover.r, debug=False)"
   ]
  },
  {
   "cell_type": "code",
   "execution_count": 6,
   "id": "e1474de7-f67c-44f0-9ad2-2faa1c812e0d",
   "metadata": {
    "execution": {
     "iopub.execute_input": "2021-09-11T15:28:03.795574Z",
     "iopub.status.busy": "2021-09-11T15:28:03.794577Z",
     "iopub.status.idle": "2021-09-11T15:28:04.270305Z",
     "shell.execute_reply": "2021-09-11T15:28:04.269303Z",
     "shell.execute_reply.started": "2021-09-11T15:28:03.794577Z"
    },
    "tags": []
   },
   "outputs": [
    {
     "data": {
      "application/vnd.jupyter.widget-view+json": {
       "model_id": "3b10447ed1d6468a97dfd8e64e1baacc",
       "version_major": 2,
       "version_minor": 0
      },
      "text/plain": [
       "Canvas(toolbar=Toolbar(toolitems=[('Home', 'Reset original view', 'home', 'home'), ('Back', 'Back to previous …"
      ]
     },
     "metadata": {},
     "output_type": "display_data"
    }
   ],
   "source": [
    "rover.mapper.draw_map(\n",
    "    xlim=[0, 20],\n",
    "    ylim=[0, 20],\n",
    "    obstacles=world.obstacles,\n",
    "    enlarge_obstacle=rover.r\n",
    ")"
   ]
  },
  {
   "cell_type": "code",
   "execution_count": 7,
   "id": "f3c326ae-d9fb-436f-8de4-ca8bbef166ee",
   "metadata": {
    "execution": {
     "iopub.execute_input": "2021-09-11T15:15:05.621971Z",
     "iopub.status.busy": "2021-09-11T15:15:05.620985Z",
     "iopub.status.idle": "2021-09-11T15:15:05.635936Z",
     "shell.execute_reply": "2021-09-11T15:15:05.634940Z",
     "shell.execute_reply.started": "2021-09-11T15:15:05.621971Z"
    },
    "tags": []
   },
   "outputs": [],
   "source": [
    "# rover.mapper.fig.savefig(\"log/mapper.jpg\")"
   ]
  },
  {
   "cell_type": "code",
   "execution_count": 7,
   "id": "3dfb42d1-47e7-4380-a56c-9779a21b08d1",
   "metadata": {
    "execution": {
     "iopub.execute_input": "2021-09-11T15:28:08.335772Z",
     "iopub.status.busy": "2021-09-11T15:28:08.335772Z",
     "iopub.status.idle": "2021-09-11T15:28:08.413566Z",
     "shell.execute_reply": "2021-09-11T15:28:08.412567Z",
     "shell.execute_reply.started": "2021-09-11T15:28:08.335772Z"
    },
    "tags": []
   },
   "outputs": [
    {
     "data": {
      "application/vnd.jupyter.widget-view+json": {
       "model_id": "540a69f2474c4736a1f7a2ba3b35bd58",
       "version_major": 2,
       "version_minor": 0
      },
      "text/plain": [
       "Canvas(toolbar=Toolbar(toolitems=[('Home', 'Reset original view', 'home', 'home'), ('Back', 'Back to previous …"
      ]
     },
     "metadata": {},
     "output_type": "display_data"
    },
    {
     "data": {
      "application/vnd.jupyter.widget-view+json": {
       "model_id": "7aa3795cc6c3494db11d652571c42b1b",
       "version_major": 2,
       "version_minor": 0
      },
      "text/plain": [
       "  0%|          | 0/201 [00:00<?, ?it/s]"
      ]
     },
     "metadata": {},
     "output_type": "display_data"
    }
   ],
   "source": [
    "rover_animation = RoverAnimation(world, rover, None)\n",
    "rover_animation.animate(\n",
    "    #xlim=[0-rover.mapper.grid_width/2, 20-rover.mapper.grid_width/2],\n",
    "    xlim=[0, 20],\n",
    "    #ylim=[0-rover.mapper.grid_width/2, 20-rover.mapper.grid_width/2],\n",
    "    ylim=[0, 20],\n",
    "    enlarge_obstacle=rover.r,\n",
    "    map_name='map',\n",
    "    #save_path=\"mapper.mp4\",\n",
    "    debug=False\n",
    ")"
   ]
  },
  {
   "cell_type": "code",
   "execution_count": null,
   "id": "db1812d2-4685-4e90-bf5f-02659929b7f2",
   "metadata": {},
   "outputs": [],
   "source": []
  }
 ],
 "metadata": {
  "kernelspec": {
   "display_name": "Python 3",
   "language": "python",
   "name": "python3"
  },
  "language_info": {
   "codemirror_mode": {
    "name": "ipython",
    "version": 3
   },
   "file_extension": ".py",
   "mimetype": "text/x-python",
   "name": "python",
   "nbconvert_exporter": "python",
   "pygments_lexer": "ipython3",
   "version": "3.7.10"
  }
 },
 "nbformat": 4,
 "nbformat_minor": 5
}
