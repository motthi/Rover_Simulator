{
 "cells": [
  {
   "cell_type": "code",
   "execution_count": 1,
   "id": "a0dd2750-6570-44b0-a2bc-7448f7397f72",
   "metadata": {
    "execution": {
     "iopub.execute_input": "2021-09-04T08:16:36.305130Z",
     "iopub.status.busy": "2021-09-04T08:16:36.305130Z",
     "iopub.status.idle": "2021-09-04T08:16:37.393282Z",
     "shell.execute_reply": "2021-09-04T08:16:37.393282Z",
     "shell.execute_reply.started": "2021-09-04T08:16:36.305130Z"
    },
    "tags": []
   },
   "outputs": [],
   "source": [
    "import sys\n",
    "sys.path.append('../')\n",
    "import numpy as np\n",
    "import matplotlib\n",
    "%matplotlib widget\n",
    "\n",
    "from rover_simulator.world import World\n",
    "from rover_simulator.rover import BasicRover, History\n",
    "from rover_simulator.navigation.localizer import NoisyLocalizer\n",
    "from rover_simulator.navigation.controller import ConstantSpeedController"
   ]
  },
  {
   "cell_type": "code",
   "execution_count": 2,
   "id": "c433f2ea-1ea3-410a-aa8a-2fd67c152078",
   "metadata": {
    "execution": {
     "iopub.execute_input": "2021-09-04T08:16:37.395240Z",
     "iopub.status.busy": "2021-09-04T08:16:37.395240Z",
     "iopub.status.idle": "2021-09-04T08:16:37.416183Z",
     "shell.execute_reply": "2021-09-04T08:16:37.409202Z",
     "shell.execute_reply.started": "2021-09-04T08:16:37.395240Z"
    },
    "tags": []
   },
   "outputs": [],
   "source": [
    "world = World(end_step=200)\n",
    "world.read_objects(\"../rover_simulator/examples/environment_simple.txt\")"
   ]
  },
  {
   "cell_type": "code",
   "execution_count": 3,
   "id": "03e644e5-01d4-4b3c-b5ca-65224562ff7c",
   "metadata": {
    "execution": {
     "iopub.execute_input": "2021-09-04T08:16:37.419175Z",
     "iopub.status.busy": "2021-09-04T08:16:37.418178Z",
     "iopub.status.idle": "2021-09-04T08:16:37.442131Z",
     "shell.execute_reply": "2021-09-04T08:16:37.441124Z",
     "shell.execute_reply.started": "2021-09-04T08:16:37.419175Z"
    },
    "tags": []
   },
   "outputs": [],
   "source": [
    "rover = BasicRover(\n",
    "    np.array([1.0, 1.0, 0.0]), 0.5,\n",
    "    localizer=NoisyLocalizer(),\n",
    "    controller=ConstantSpeedController(omega=np.pi/32),\n",
    "    history=History()\n",
    ")\n",
    "world.append_rover(rover)"
   ]
  },
  {
   "cell_type": "code",
   "execution_count": 4,
   "id": "d67c37b6-70f7-45d6-b0f2-b3ee5f3976ca",
   "metadata": {
    "execution": {
     "iopub.execute_input": "2021-09-04T08:16:37.445105Z",
     "iopub.status.busy": "2021-09-04T08:16:37.444110Z",
     "iopub.status.idle": "2021-09-04T08:16:37.551821Z",
     "shell.execute_reply": "2021-09-04T08:16:37.550821Z",
     "shell.execute_reply.started": "2021-09-04T08:16:37.445105Z"
    },
    "tags": []
   },
   "outputs": [
    {
     "data": {
      "application/vnd.jupyter.widget-view+json": {
       "model_id": "59f0a81a923842359479e2c84480c24f",
       "version_major": 2,
       "version_minor": 0
      },
      "text/plain": [
       "  0%|          | 0/200 [00:00<?, ?it/s]"
      ]
     },
     "metadata": {},
     "output_type": "display_data"
    }
   ],
   "source": [
    "world.simulate()"
   ]
  },
  {
   "cell_type": "code",
   "execution_count": 5,
   "id": "4ac71ce9-b3f2-4511-9275-0f465d416244",
   "metadata": {
    "execution": {
     "iopub.execute_input": "2021-09-04T08:16:37.552816Z",
     "iopub.status.busy": "2021-09-04T08:16:37.552816Z",
     "iopub.status.idle": "2021-09-04T08:16:37.630609Z",
     "shell.execute_reply": "2021-09-04T08:16:37.629612Z",
     "shell.execute_reply.started": "2021-09-04T08:16:37.552816Z"
    },
    "tags": []
   },
   "outputs": [
    {
     "data": {
      "application/vnd.jupyter.widget-view+json": {
       "model_id": "d08bfe2c09914d3b987f41425c6fe503",
       "version_major": 2,
       "version_minor": 0
      },
      "text/plain": [
       "Canvas(toolbar=Toolbar(toolitems=[('Home', 'Reset original view', 'home', 'home'), ('Back', 'Back to previous …"
      ]
     },
     "metadata": {},
     "output_type": "display_data"
    }
   ],
   "source": [
    "world.plot([0, 20], [0, 20], enlarge_obstacle=rover.r)"
   ]
  },
  {
   "cell_type": "code",
   "execution_count": 6,
   "id": "1e654586-dae7-4972-9021-d9cc71aaf2ca",
   "metadata": {
    "execution": {
     "iopub.execute_input": "2021-09-04T08:16:37.632604Z",
     "iopub.status.busy": "2021-09-04T08:16:37.632604Z",
     "iopub.status.idle": "2021-09-04T08:16:37.740826Z",
     "shell.execute_reply": "2021-09-04T08:16:37.740826Z",
     "shell.execute_reply.started": "2021-09-04T08:16:37.632604Z"
    },
    "tags": []
   },
   "outputs": [
    {
     "data": {
      "application/vnd.jupyter.widget-view+json": {
       "model_id": "477550f4609f4b7186f234f0fe75fcd3",
       "version_major": 2,
       "version_minor": 0
      },
      "text/plain": [
       "Canvas(toolbar=Toolbar(toolitems=[('Home', 'Reset original view', 'home', 'home'), ('Back', 'Back to previous …"
      ]
     },
     "metadata": {},
     "output_type": "display_data"
    },
    {
     "data": {
      "application/vnd.jupyter.widget-view+json": {
       "model_id": "42fbae82991747c4aca02601faae9b9a",
       "version_major": 2,
       "version_minor": 0
      },
      "text/plain": [
       "  0%|          | 0/200 [00:00<?, ?it/s]"
      ]
     },
     "metadata": {},
     "output_type": "display_data"
    }
   ],
   "source": [
    "world.animate(\n",
    "    xlim=[0, 20], ylim=[0, 20],\n",
    "    enlarge_obstacle=rover.r,\n",
    "    #save_path=\"log/localizer.mp4\",\n",
    "    debug=False\n",
    ")"
   ]
  },
  {
   "cell_type": "code",
   "execution_count": null,
   "id": "18e9fd4f-8fe1-4b94-bffb-d1f7b0d98480",
   "metadata": {},
   "outputs": [],
   "source": []
  }
 ],
 "metadata": {
  "kernelspec": {
   "display_name": "Python 3",
   "language": "python",
   "name": "python3"
  },
  "language_info": {
   "codemirror_mode": {
    "name": "ipython",
    "version": 3
   },
   "file_extension": ".py",
   "mimetype": "text/x-python",
   "name": "python",
   "nbconvert_exporter": "python",
   "pygments_lexer": "ipython3",
   "version": "3.7.10"
  }
 },
 "nbformat": 4,
 "nbformat_minor": 5
}
