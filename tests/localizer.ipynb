{
 "cells": [
  {
   "cell_type": "code",
   "execution_count": 1,
   "id": "a0dd2750-6570-44b0-a2bc-7448f7397f72",
   "metadata": {
    "execution": {
     "iopub.execute_input": "2021-09-22T03:41:40.507569Z",
     "iopub.status.busy": "2021-09-22T03:41:40.506572Z",
     "iopub.status.idle": "2021-09-22T03:41:41.583730Z",
     "shell.execute_reply": "2021-09-22T03:41:41.583730Z",
     "shell.execute_reply.started": "2021-09-22T03:41:40.507569Z"
    },
    "tags": []
   },
   "outputs": [],
   "source": [
    "import sys\n",
    "sys.path.append('../')\n",
    "import numpy as np\n",
    "import matplotlib\n",
    "%matplotlib widget\n",
    "\n",
    "from rover_simulator.world import World\n",
    "from rover_simulator.rover import BasicRover\n",
    "from rover_simulator.history import History\n",
    "from rover_simulator.navigation.localizer import NoisyLocalizer\n",
    "from rover_simulator.navigation.controller import ConstantSpeedController"
   ]
  },
  {
   "cell_type": "code",
   "execution_count": 2,
   "id": "c433f2ea-1ea3-410a-aa8a-2fd67c152078",
   "metadata": {
    "execution": {
     "iopub.execute_input": "2021-09-22T03:41:41.585688Z",
     "iopub.status.busy": "2021-09-22T03:41:41.584724Z",
     "iopub.status.idle": "2021-09-22T03:41:41.601644Z",
     "shell.execute_reply": "2021-09-22T03:41:41.599659Z",
     "shell.execute_reply.started": "2021-09-22T03:41:41.585688Z"
    },
    "tags": []
   },
   "outputs": [],
   "source": [
    "world = World(end_step=200)\n",
    "world.read_objects(\"../rover_simulator/examples/environment_simple.txt\")"
   ]
  },
  {
   "cell_type": "code",
   "execution_count": 3,
   "id": "03e644e5-01d4-4b3c-b5ca-65224562ff7c",
   "metadata": {
    "execution": {
     "iopub.execute_input": "2021-09-22T03:41:41.603638Z",
     "iopub.status.busy": "2021-09-22T03:41:41.603638Z",
     "iopub.status.idle": "2021-09-22T03:41:41.616604Z",
     "shell.execute_reply": "2021-09-22T03:41:41.615610Z",
     "shell.execute_reply.started": "2021-09-22T03:41:41.603638Z"
    },
    "tags": []
   },
   "outputs": [],
   "source": [
    "history = History()\n",
    "rover = BasicRover(\n",
    "    np.array([1.0, 1.0, 0.0]), 0.5,\n",
    "    localizer=NoisyLocalizer(),\n",
    "    controller=ConstantSpeedController(w=np.pi/32),\n",
    "    history=history\n",
    ")\n",
    "world.append_rover(rover)"
   ]
  },
  {
   "cell_type": "code",
   "execution_count": 4,
   "id": "d67c37b6-70f7-45d6-b0f2-b3ee5f3976ca",
   "metadata": {
    "execution": {
     "iopub.execute_input": "2021-09-22T03:41:41.619599Z",
     "iopub.status.busy": "2021-09-22T03:41:41.619599Z",
     "iopub.status.idle": "2021-09-22T03:41:41.726312Z",
     "shell.execute_reply": "2021-09-22T03:41:41.726312Z",
     "shell.execute_reply.started": "2021-09-22T03:41:41.619599Z"
    },
    "tags": []
   },
   "outputs": [
    {
     "data": {
      "application/vnd.jupyter.widget-view+json": {
       "model_id": "c65964b7a2a142d78339c41569e9f290",
       "version_major": 2,
       "version_minor": 0
      },
      "text/plain": [
       "  0%|          | 0/200 [00:00<?, ?it/s]"
      ]
     },
     "metadata": {},
     "output_type": "display_data"
    }
   ],
   "source": [
    "world.simulate()"
   ]
  },
  {
   "cell_type": "code",
   "execution_count": 5,
   "id": "4ac71ce9-b3f2-4511-9275-0f465d416244",
   "metadata": {
    "execution": {
     "iopub.execute_input": "2021-09-22T03:41:41.728304Z",
     "iopub.status.busy": "2021-09-22T03:41:41.728304Z",
     "iopub.status.idle": "2021-09-22T03:41:41.961737Z",
     "shell.execute_reply": "2021-09-22T03:41:41.958749Z",
     "shell.execute_reply.started": "2021-09-22T03:41:41.728304Z"
    },
    "tags": []
   },
   "outputs": [
    {
     "data": {
      "application/vnd.jupyter.widget-view+json": {
       "model_id": "1ff2ad22d41e45fcaa8c6e918ec4a60d",
       "version_major": 2,
       "version_minor": 0
      },
      "text/plain": [
       "Canvas(toolbar=Toolbar(toolitems=[('Home', 'Reset original view', 'home', 'home'), ('Back', 'Back to previous …"
      ]
     },
     "metadata": {},
     "output_type": "display_data"
    }
   ],
   "source": [
    "history.plot(\n",
    "    xlim=[0, 20], ylim=[0, 20],\n",
    "    obstacles=world.obstacles, enlarge_obstacle=rover.r,\n",
    "    draw_sensing_points=True\n",
    ")"
   ]
  },
  {
   "cell_type": "code",
   "execution_count": 6,
   "id": "1e654586-dae7-4972-9021-d9cc71aaf2ca",
   "metadata": {
    "execution": {
     "iopub.execute_input": "2021-09-22T03:41:41.964734Z",
     "iopub.status.busy": "2021-09-22T03:41:41.963760Z",
     "iopub.status.idle": "2021-09-22T03:41:42.053515Z",
     "shell.execute_reply": "2021-09-22T03:41:42.053515Z",
     "shell.execute_reply.started": "2021-09-22T03:41:41.963760Z"
    },
    "tags": []
   },
   "outputs": [
    {
     "data": {
      "application/vnd.jupyter.widget-view+json": {
       "model_id": "50dca17bde2f47ccbc3aabaf46fdac56",
       "version_major": 2,
       "version_minor": 0
      },
      "text/plain": [
       "Canvas(toolbar=Toolbar(toolitems=[('Home', 'Reset original view', 'home', 'home'), ('Back', 'Back to previous …"
      ]
     },
     "metadata": {},
     "output_type": "display_data"
    },
    {
     "data": {
      "application/vnd.jupyter.widget-view+json": {
       "model_id": "461cb21ca3394bc380b238e9b2942b19",
       "version_major": 2,
       "version_minor": 0
      },
      "text/plain": [
       "  0%|          | 0/200 [00:00<?, ?it/s]"
      ]
     },
     "metadata": {},
     "output_type": "display_data"
    }
   ],
   "source": [
    "history.animate(\n",
    "    xlim=[0, 20], ylim=[0, 20],\n",
    "    obstacles=world.obstacles,\n",
    "    enlarge_obstacle=rover.r,\n",
    "    #save_path=\"log/localizer.mp4\",\n",
    "    debug=False\n",
    ")"
   ]
  },
  {
   "cell_type": "code",
   "execution_count": null,
   "id": "18e9fd4f-8fe1-4b94-bffb-d1f7b0d98480",
   "metadata": {},
   "outputs": [],
   "source": []
  }
 ],
 "metadata": {
  "kernelspec": {
   "display_name": "Python 3",
   "language": "python",
   "name": "python3"
  },
  "language_info": {
   "codemirror_mode": {
    "name": "ipython",
    "version": 3
   },
   "file_extension": ".py",
   "mimetype": "text/x-python",
   "name": "python",
   "nbconvert_exporter": "python",
   "pygments_lexer": "ipython3",
   "version": "3.7.10"
  }
 },
 "nbformat": 4,
 "nbformat_minor": 5
}
