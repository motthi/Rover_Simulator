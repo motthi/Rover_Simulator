{
 "cells": [
  {
   "cell_type": "code",
   "execution_count": 1,
   "id": "a0dd2750-6570-44b0-a2bc-7448f7397f72",
   "metadata": {
    "execution": {
     "iopub.execute_input": "2021-09-04T08:02:58.800803Z",
     "iopub.status.busy": "2021-09-04T08:02:58.800803Z",
     "iopub.status.idle": "2021-09-04T08:02:59.561657Z",
     "shell.execute_reply": "2021-09-04T08:02:59.558653Z",
     "shell.execute_reply.started": "2021-09-04T08:02:58.800803Z"
    },
    "tags": []
   },
   "outputs": [],
   "source": [
    "import sys\n",
    "sys.path.append('../')\n",
    "import numpy as np\n",
    "import matplotlib\n",
    "%matplotlib widget\n",
    "\n",
    "from rover_simulator.world import World\n",
    "from rover_simulator.rover import BasicRover"
   ]
  },
  {
   "cell_type": "code",
   "execution_count": 2,
   "id": "c433f2ea-1ea3-410a-aa8a-2fd67c152078",
   "metadata": {
    "execution": {
     "iopub.execute_input": "2021-09-04T08:02:59.565644Z",
     "iopub.status.busy": "2021-09-04T08:02:59.565644Z",
     "iopub.status.idle": "2021-09-04T08:02:59.591573Z",
     "shell.execute_reply": "2021-09-04T08:02:59.589578Z",
     "shell.execute_reply.started": "2021-09-04T08:02:59.565644Z"
    },
    "tags": []
   },
   "outputs": [],
   "source": [
    "world = World()\n",
    "world.read_objects(\"../rover_simulator/examples/environment_simple.txt\")\n",
    "\n",
    "rover = BasicRover(np.array([10, 10, np.pi/4]), 0.5)\n",
    "world.append_rover(rover)"
   ]
  },
  {
   "cell_type": "code",
   "execution_count": 3,
   "id": "4ac71ce9-b3f2-4511-9275-0f465d416244",
   "metadata": {
    "execution": {
     "iopub.execute_input": "2021-09-04T08:02:59.596560Z",
     "iopub.status.busy": "2021-09-04T08:02:59.595562Z",
     "iopub.status.idle": "2021-09-04T08:02:59.684450Z",
     "shell.execute_reply": "2021-09-04T08:02:59.682517Z",
     "shell.execute_reply.started": "2021-09-04T08:02:59.596560Z"
    },
    "tags": []
   },
   "outputs": [
    {
     "data": {
      "application/vnd.jupyter.widget-view+json": {
       "model_id": "8f015fb4376047cf8a9f6d4ebe677e3a",
       "version_major": 2,
       "version_minor": 0
      },
      "text/plain": [
       "Canvas(toolbar=Toolbar(toolitems=[('Home', 'Reset original view', 'home', 'home'), ('Back', 'Back to previous …"
      ]
     },
     "metadata": {},
     "output_type": "display_data"
    }
   ],
   "source": [
    "world.plot([0, 20], [0, 20], enlarge_obstacle=rover.r)"
   ]
  },
  {
   "cell_type": "code",
   "execution_count": 4,
   "id": "1e654586-dae7-4972-9021-d9cc71aaf2ca",
   "metadata": {
    "execution": {
     "iopub.execute_input": "2021-09-04T08:03:07.346887Z",
     "iopub.status.busy": "2021-09-04T08:03:07.345884Z",
     "iopub.status.idle": "2021-09-04T08:03:07.446527Z",
     "shell.execute_reply": "2021-09-04T08:03:07.445799Z",
     "shell.execute_reply.started": "2021-09-04T08:03:07.345884Z"
    },
    "tags": []
   },
   "outputs": [],
   "source": [
    "# world.fig.savefig(\"log/world.jpg\")"
   ]
  },
  {
   "cell_type": "code",
   "execution_count": null,
   "id": "4c413bd8-f3c9-4a1c-8e9f-89f082dc2736",
   "metadata": {},
   "outputs": [],
   "source": []
  }
 ],
 "metadata": {
  "kernelspec": {
   "display_name": "Python 3",
   "language": "python",
   "name": "python3"
  },
  "language_info": {
   "codemirror_mode": {
    "name": "ipython",
    "version": 3
   },
   "file_extension": ".py",
   "mimetype": "text/x-python",
   "name": "python",
   "nbconvert_exporter": "python",
   "pygments_lexer": "ipython3",
   "version": "3.7.10"
  }
 },
 "nbformat": 4,
 "nbformat_minor": 5
}
