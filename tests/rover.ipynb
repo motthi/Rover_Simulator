{
 "cells": [
  {
   "cell_type": "code",
   "execution_count": 1,
   "id": "99f06cb0-59e5-4e97-8401-81ac592c4a13",
   "metadata": {
    "ExecuteTime": {
     "end_time": "2021-08-27T15:31:51.106937Z",
     "start_time": "2021-08-27T15:31:50.035422Z"
    },
    "execution": {
     "iopub.execute_input": "2021-09-04T08:03:32.433292Z",
     "iopub.status.busy": "2021-09-04T08:03:32.433292Z",
     "iopub.status.idle": "2021-09-04T08:03:33.716144Z",
     "shell.execute_reply": "2021-09-04T08:03:33.716144Z",
     "shell.execute_reply.started": "2021-09-04T08:03:32.433292Z"
    },
    "tags": []
   },
   "outputs": [],
   "source": [
    "import sys\n",
    "sys.path.append('../')\n",
    "import numpy as np\n",
    "import matplotlib\n",
    "%matplotlib widget\n",
    "\n",
    "from rover_simulator.world import World\n",
    "from rover_simulator.rover import BasicRover, History\n",
    "from rover_simulator.navigation.localizer import ImaginalLocalizer\n",
    "from rover_simulator.navigation.controller import ConstantSpeedController"
   ]
  },
  {
   "cell_type": "code",
   "execution_count": 2,
   "id": "347b5a38-feb4-4c02-9e42-12877175cde8",
   "metadata": {
    "ExecuteTime": {
     "end_time": "2021-08-27T15:31:51.121982Z",
     "start_time": "2021-08-27T15:31:51.108657Z"
    },
    "execution": {
     "iopub.execute_input": "2021-09-04T08:03:35.379568Z",
     "iopub.status.busy": "2021-09-04T08:03:35.379568Z",
     "iopub.status.idle": "2021-09-04T08:03:35.402507Z",
     "shell.execute_reply": "2021-09-04T08:03:35.401509Z",
     "shell.execute_reply.started": "2021-09-04T08:03:35.379568Z"
    },
    "tags": []
   },
   "outputs": [],
   "source": [
    "world = World(end_step=200)\n",
    "world.read_objects(\"../rover_simulator/examples/environment_simple.txt\")"
   ]
  },
  {
   "cell_type": "code",
   "execution_count": 3,
   "id": "a996be07-81d4-4a8f-8873-c7a026e15abf",
   "metadata": {
    "ExecuteTime": {
     "end_time": "2021-08-27T15:31:51.137348Z",
     "start_time": "2021-08-27T15:31:51.125001Z"
    },
    "execution": {
     "iopub.execute_input": "2021-09-04T08:03:48.665002Z",
     "iopub.status.busy": "2021-09-04T08:03:48.665002Z",
     "iopub.status.idle": "2021-09-04T08:03:48.671984Z",
     "shell.execute_reply": "2021-09-04T08:03:48.671021Z",
     "shell.execute_reply.started": "2021-09-04T08:03:48.665002Z"
    },
    "tags": []
   },
   "outputs": [],
   "source": [
    "rover = BasicRover(\n",
    "    np.array([1.0, 1.0, 0.0]), 0.5,\n",
    "    localizer=ImaginalLocalizer(),\n",
    "    controller=ConstantSpeedController(omega=np.pi/32),\n",
    "    history=History()\n",
    ")\n",
    "world.append_rover(rover)"
   ]
  },
  {
   "cell_type": "code",
   "execution_count": 4,
   "id": "b70113cc-5ce7-4638-9f57-f5b3c8fdb21e",
   "metadata": {
    "ExecuteTime": {
     "end_time": "2021-08-27T15:31:51.153307Z",
     "start_time": "2021-08-27T15:31:51.141339Z"
    },
    "execution": {
     "iopub.execute_input": "2021-09-04T08:03:51.637871Z",
     "iopub.status.busy": "2021-09-04T08:03:51.637871Z",
     "iopub.status.idle": "2021-09-04T08:03:51.710676Z",
     "shell.execute_reply": "2021-09-04T08:03:51.709680Z",
     "shell.execute_reply.started": "2021-09-04T08:03:51.637871Z"
    },
    "tags": []
   },
   "outputs": [
    {
     "data": {
      "application/vnd.jupyter.widget-view+json": {
       "model_id": "d70dbe26579245c7a5070d739c194c83",
       "version_major": 2,
       "version_minor": 0
      },
      "text/plain": [
       "  0%|          | 0/200 [00:00<?, ?it/s]"
      ]
     },
     "metadata": {},
     "output_type": "display_data"
    }
   ],
   "source": [
    "world.simulate()"
   ]
  },
  {
   "cell_type": "code",
   "execution_count": 5,
   "id": "2a639457-65c2-4435-98df-3ba63e7039ca",
   "metadata": {
    "ExecuteTime": {
     "end_time": "2021-08-27T15:31:51.199404Z",
     "start_time": "2021-08-27T15:31:51.183226Z"
    },
    "execution": {
     "iopub.execute_input": "2021-09-04T08:03:56.575884Z",
     "iopub.status.busy": "2021-09-04T08:03:56.575884Z",
     "iopub.status.idle": "2021-09-04T08:03:56.656708Z",
     "shell.execute_reply": "2021-09-04T08:03:56.654712Z",
     "shell.execute_reply.started": "2021-09-04T08:03:56.575884Z"
    },
    "tags": []
   },
   "outputs": [
    {
     "data": {
      "application/vnd.jupyter.widget-view+json": {
       "model_id": "6ad2468df0bf407d81ceaeb4849f5ce5",
       "version_major": 2,
       "version_minor": 0
      },
      "text/plain": [
       "Canvas(toolbar=Toolbar(toolitems=[('Home', 'Reset original view', 'home', 'home'), ('Back', 'Back to previous …"
      ]
     },
     "metadata": {},
     "output_type": "display_data"
    }
   ],
   "source": [
    "world.plot(xlim=[0, 20], ylim=[0, 20], enlarge_obstacle=rover.r)"
   ]
  },
  {
   "cell_type": "code",
   "execution_count": 6,
   "id": "820fd150-68ac-4a6c-a8bc-f9cdc9d14fad",
   "metadata": {
    "ExecuteTime": {
     "end_time": "2021-08-27T15:31:51.323439Z",
     "start_time": "2021-08-27T15:31:51.270616Z"
    },
    "execution": {
     "iopub.execute_input": "2021-09-04T08:04:06.292618Z",
     "iopub.status.busy": "2021-09-04T08:04:06.292618Z",
     "iopub.status.idle": "2021-09-04T08:04:06.385966Z",
     "shell.execute_reply": "2021-09-04T08:04:06.384969Z",
     "shell.execute_reply.started": "2021-09-04T08:04:06.292618Z"
    },
    "tags": []
   },
   "outputs": [
    {
     "data": {
      "application/vnd.jupyter.widget-view+json": {
       "model_id": "cbef5c1b9a6343b2ba5e9d9dc63511af",
       "version_major": 2,
       "version_minor": 0
      },
      "text/plain": [
       "Canvas(toolbar=Toolbar(toolitems=[('Home', 'Reset original view', 'home', 'home'), ('Back', 'Back to previous …"
      ]
     },
     "metadata": {},
     "output_type": "display_data"
    },
    {
     "data": {
      "application/vnd.jupyter.widget-view+json": {
       "model_id": "0774ddf6b3b44df88bd95bc90f822ce7",
       "version_major": 2,
       "version_minor": 0
      },
      "text/plain": [
       "  0%|          | 0/200 [00:00<?, ?it/s]"
      ]
     },
     "metadata": {},
     "output_type": "display_data"
    }
   ],
   "source": [
    "world.animate(\n",
    "    xlim=[0, 20], ylim=[0, 20],\n",
    "    enlarge_obstacle=rover.r,\n",
    "    #save_path=\"log/rover.mp4\",\n",
    "    debug=False\n",
    ")"
   ]
  },
  {
   "cell_type": "code",
   "execution_count": null,
   "id": "ccdc0d2d-42e5-4a0c-9392-62c7f277541b",
   "metadata": {},
   "outputs": [],
   "source": []
  }
 ],
 "metadata": {
  "kernelspec": {
   "display_name": "Python 3",
   "language": "python",
   "name": "python3"
  },
  "language_info": {
   "codemirror_mode": {
    "name": "ipython",
    "version": 3
   },
   "file_extension": ".py",
   "mimetype": "text/x-python",
   "name": "python",
   "nbconvert_exporter": "python",
   "pygments_lexer": "ipython3",
   "version": "3.7.10"
  }
 },
 "nbformat": 4,
 "nbformat_minor": 5
}
