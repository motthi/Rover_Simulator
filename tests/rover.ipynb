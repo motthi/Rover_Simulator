{
 "cells": [
  {
   "cell_type": "code",
   "execution_count": 1,
   "id": "99f06cb0-59e5-4e97-8401-81ac592c4a13",
   "metadata": {
    "ExecuteTime": {
     "end_time": "2021-08-27T15:31:51.106937Z",
     "start_time": "2021-08-27T15:31:50.035422Z"
    },
    "execution": {
     "iopub.execute_input": "2021-09-22T04:46:08.029030Z",
     "iopub.status.busy": "2021-09-22T04:46:08.028032Z",
     "iopub.status.idle": "2021-09-22T04:46:08.373925Z",
     "shell.execute_reply": "2021-09-22T04:46:08.373925Z",
     "shell.execute_reply.started": "2021-09-22T04:46:08.029030Z"
    },
    "tags": []
   },
   "outputs": [],
   "source": [
    "import sys\n",
    "sys.path.append('../')\n",
    "import numpy as np\n",
    "import matplotlib\n",
    "%matplotlib widget\n",
    "\n",
    "from rover_simulator.world import World\n",
    "from rover_simulator.rover import BasicRover\n",
    "from rover_simulator.history import History\n",
    "from rover_simulator.navigation.localizer import ImaginalLocalizer\n",
    "from rover_simulator.navigation.controller import ConstantSpeedController"
   ]
  },
  {
   "cell_type": "code",
   "execution_count": 2,
   "id": "347b5a38-feb4-4c02-9e42-12877175cde8",
   "metadata": {
    "ExecuteTime": {
     "end_time": "2021-08-27T15:31:51.121982Z",
     "start_time": "2021-08-27T15:31:51.108657Z"
    },
    "execution": {
     "iopub.execute_input": "2021-09-22T04:46:08.375885Z",
     "iopub.status.busy": "2021-09-22T04:46:08.375885Z",
     "iopub.status.idle": "2021-09-22T04:46:08.391872Z",
     "shell.execute_reply": "2021-09-22T04:46:08.389877Z",
     "shell.execute_reply.started": "2021-09-22T04:46:08.375885Z"
    },
    "tags": []
   },
   "outputs": [],
   "source": [
    "world = World(end_step=200)\n",
    "world.read_objects(\"../rover_simulator/examples/environment_simple.txt\")"
   ]
  },
  {
   "cell_type": "code",
   "execution_count": 4,
   "id": "a996be07-81d4-4a8f-8873-c7a026e15abf",
   "metadata": {
    "ExecuteTime": {
     "end_time": "2021-08-27T15:31:51.137348Z",
     "start_time": "2021-08-27T15:31:51.125001Z"
    },
    "execution": {
     "iopub.execute_input": "2021-09-22T04:46:14.148008Z",
     "iopub.status.busy": "2021-09-22T04:46:14.148008Z",
     "iopub.status.idle": "2021-09-22T04:46:14.157982Z",
     "shell.execute_reply": "2021-09-22T04:46:14.157023Z",
     "shell.execute_reply.started": "2021-09-22T04:46:14.148008Z"
    },
    "tags": []
   },
   "outputs": [],
   "source": [
    "rover = BasicRover(\n",
    "    np.array([1.0, 1.0, 0.0]), 0.5,\n",
    "    localizer=ImaginalLocalizer(),\n",
    "    controller=ConstantSpeedController(w=np.pi/32),\n",
    "    history=History()\n",
    ")\n",
    "world.append_rover(rover)"
   ]
  },
  {
   "cell_type": "code",
   "execution_count": 5,
   "id": "b70113cc-5ce7-4638-9f57-f5b3c8fdb21e",
   "metadata": {
    "ExecuteTime": {
     "end_time": "2021-08-27T15:31:51.153307Z",
     "start_time": "2021-08-27T15:31:51.141339Z"
    },
    "execution": {
     "iopub.execute_input": "2021-09-22T04:46:14.798303Z",
     "iopub.status.busy": "2021-09-22T04:46:14.797313Z",
     "iopub.status.idle": "2021-09-22T04:46:14.877269Z",
     "shell.execute_reply": "2021-09-22T04:46:14.876334Z",
     "shell.execute_reply.started": "2021-09-22T04:46:14.798303Z"
    },
    "tags": []
   },
   "outputs": [
    {
     "data": {
      "application/vnd.jupyter.widget-view+json": {
       "model_id": "03546ac8bd00452f9675e968fdf2af5e",
       "version_major": 2,
       "version_minor": 0
      },
      "text/plain": [
       "  0%|          | 0/200 [00:00<?, ?it/s]"
      ]
     },
     "metadata": {},
     "output_type": "display_data"
    }
   ],
   "source": [
    "world.simulate()"
   ]
  },
  {
   "cell_type": "code",
   "execution_count": 6,
   "id": "2a639457-65c2-4435-98df-3ba63e7039ca",
   "metadata": {
    "ExecuteTime": {
     "end_time": "2021-08-27T15:31:51.199404Z",
     "start_time": "2021-08-27T15:31:51.183226Z"
    },
    "execution": {
     "iopub.execute_input": "2021-09-22T04:46:17.227828Z",
     "iopub.status.busy": "2021-09-22T04:46:17.227828Z",
     "iopub.status.idle": "2021-09-22T04:46:17.421335Z",
     "shell.execute_reply": "2021-09-22T04:46:17.421335Z",
     "shell.execute_reply.started": "2021-09-22T04:46:17.227828Z"
    },
    "tags": []
   },
   "outputs": [
    {
     "data": {
      "application/vnd.jupyter.widget-view+json": {
       "model_id": "5ea0d34e354c4afb9684f0ac2f5598a1",
       "version_major": 2,
       "version_minor": 0
      },
      "text/plain": [
       "Canvas(toolbar=Toolbar(toolitems=[('Home', 'Reset original view', 'home', 'home'), ('Back', 'Back to previous …"
      ]
     },
     "metadata": {},
     "output_type": "display_data"
    }
   ],
   "source": [
    "world.plot(xlim=[0, 20], ylim=[0, 20], enlarge_obstacle=rover.r)"
   ]
  },
  {
   "cell_type": "code",
   "execution_count": 7,
   "id": "820fd150-68ac-4a6c-a8bc-f9cdc9d14fad",
   "metadata": {
    "ExecuteTime": {
     "end_time": "2021-08-27T15:31:51.323439Z",
     "start_time": "2021-08-27T15:31:51.270616Z"
    },
    "execution": {
     "iopub.execute_input": "2021-09-22T04:46:21.971050Z",
     "iopub.status.busy": "2021-09-22T04:46:21.971050Z",
     "iopub.status.idle": "2021-09-22T04:46:22.055789Z",
     "shell.execute_reply": "2021-09-22T04:46:22.055789Z",
     "shell.execute_reply.started": "2021-09-22T04:46:21.971050Z"
    },
    "tags": []
   },
   "outputs": [
    {
     "data": {
      "application/vnd.jupyter.widget-view+json": {
       "model_id": "5490d470812448689ff7a0c51b72d8ba",
       "version_major": 2,
       "version_minor": 0
      },
      "text/plain": [
       "Canvas(toolbar=Toolbar(toolitems=[('Home', 'Reset original view', 'home', 'home'), ('Back', 'Back to previous …"
      ]
     },
     "metadata": {},
     "output_type": "display_data"
    },
    {
     "data": {
      "application/vnd.jupyter.widget-view+json": {
       "model_id": "ca52ce0968b74d0ebaaddd39daca5145",
       "version_major": 2,
       "version_minor": 0
      },
      "text/plain": [
       "  0%|          | 0/200 [00:00<?, ?it/s]"
      ]
     },
     "metadata": {},
     "output_type": "display_data"
    }
   ],
   "source": [
    "world.animate(\n",
    "    xlim=[0, 20], ylim=[0, 20],\n",
    "    enlarge_obstacle=rover.r,\n",
    "    #save_path=\"log/rover.mp4\",\n",
    "    debug=False\n",
    ")"
   ]
  },
  {
   "cell_type": "code",
   "execution_count": null,
   "id": "ccdc0d2d-42e5-4a0c-9392-62c7f277541b",
   "metadata": {},
   "outputs": [],
   "source": []
  }
 ],
 "metadata": {
  "kernelspec": {
   "display_name": "Python 3",
   "language": "python",
   "name": "python3"
  },
  "language_info": {
   "codemirror_mode": {
    "name": "ipython",
    "version": 3
   },
   "file_extension": ".py",
   "mimetype": "text/x-python",
   "name": "python",
   "nbconvert_exporter": "python",
   "pygments_lexer": "ipython3",
   "version": "3.7.10"
  }
 },
 "nbformat": 4,
 "nbformat_minor": 5
}
