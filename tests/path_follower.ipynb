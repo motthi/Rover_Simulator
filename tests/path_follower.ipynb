{
 "cells": [
  {
   "cell_type": "code",
   "execution_count": 1,
   "id": "99f06cb0-59e5-4e97-8401-81ac592c4a13",
   "metadata": {
    "ExecuteTime": {
     "end_time": "2021-08-29T08:49:36.700149Z",
     "start_time": "2021-08-29T08:49:35.565542Z"
    },
    "execution": {
     "iopub.execute_input": "2021-09-23T12:51:20.161817Z",
     "iopub.status.busy": "2021-09-23T12:51:20.161817Z",
     "iopub.status.idle": "2021-09-23T12:51:21.264867Z",
     "shell.execute_reply": "2021-09-23T12:51:21.263905Z",
     "shell.execute_reply.started": "2021-09-23T12:51:20.161817Z"
    },
    "tags": []
   },
   "outputs": [],
   "source": [
    "import sys\n",
    "sys.path.append('../')\n",
    "import numpy as np\n",
    "import matplotlib\n",
    "%matplotlib widget\n",
    "\n",
    "from rover_simulator.world import World\n",
    "from rover_simulator.rover import FollowRover\n",
    "from rover_simulator.history import History\n",
    "from rover_simulator.sensor import ImaginalSensor\n",
    "from rover_simulator.collision_detector import CollisionDetector\n",
    "from rover_simulator.navigation.localizer import ImaginalLocalizer\n",
    "from rover_simulator.navigation.controller import ArcPathController\n",
    "from rover_simulator.navigation.mapper import GridMapper\n",
    "from rover_simulator.navigation.path_planner.grid_base import Dijkstra, Astar\n",
    "from rover_simulator.navigation.path_planner.sampling_base import RRT, RRTstar"
   ]
  },
  {
   "cell_type": "code",
   "execution_count": 2,
   "id": "347b5a38-feb4-4c02-9e42-12877175cde8",
   "metadata": {
    "ExecuteTime": {
     "end_time": "2021-08-29T08:49:36.716204Z",
     "start_time": "2021-08-29T08:49:36.702242Z"
    },
    "execution": {
     "iopub.execute_input": "2021-09-23T12:51:21.265862Z",
     "iopub.status.busy": "2021-09-23T12:51:21.265862Z",
     "iopub.status.idle": "2021-09-23T12:51:21.282819Z",
     "shell.execute_reply": "2021-09-23T12:51:21.279826Z",
     "shell.execute_reply.started": "2021-09-23T12:51:21.265862Z"
    },
    "tags": []
   },
   "outputs": [],
   "source": [
    "world = World(end_step=200)\n",
    "world.read_objects(\"../rover_simulator/examples/environment_simple.txt\")"
   ]
  },
  {
   "cell_type": "code",
   "execution_count": 3,
   "id": "a996be07-81d4-4a8f-8873-c7a026e15abf",
   "metadata": {
    "ExecuteTime": {
     "end_time": "2021-08-29T08:49:36.748274Z",
     "start_time": "2021-08-29T08:49:36.720194Z"
    },
    "execution": {
     "iopub.execute_input": "2021-09-23T12:51:21.285810Z",
     "iopub.status.busy": "2021-09-23T12:51:21.284813Z",
     "iopub.status.idle": "2021-09-23T12:51:24.447354Z",
     "shell.execute_reply": "2021-09-23T12:51:24.447354Z",
     "shell.execute_reply.started": "2021-09-23T12:51:21.284813Z"
    },
    "tags": []
   },
   "outputs": [],
   "source": [
    "grid_width = 0.5\n",
    "rover_r = 0.5\n",
    "start_pose = np.array([1.0, 1.0, 0.0])\n",
    "goal_pos = np.array([13, 18])\n",
    "sensor = ImaginalSensor(obstacles=world.obstacles, fov=np.pi)\n",
    "\n",
    "path_planner = Astar(map_grid_width=grid_width)\n",
    "astar_history = History()\n",
    "astar_rover = FollowRover(\n",
    "    start_pose, rover_r,\n",
    "    goal_pos=goal_pos,\n",
    "    sensor=sensor,\n",
    "    path_planner = path_planner,\n",
    "    mapper=GridMapper(grid_size=np.array([20, 20]), grid_width=grid_width, sensor=sensor, known_obstacles=world.obstacles, rover_r=0.5),\n",
    "    localizer=ImaginalLocalizer(),\n",
    "    collision_detector=CollisionDetector(world.obstacles),\n",
    "    controller=ArcPathController(rover_r=0.5),\n",
    "    history=astar_history,\n",
    "    color=\"black\", waypoint_color=\"gray\"\n",
    ")\n",
    "astar_rover.waypoints = astar_rover.path_planner.calculate_path()\n",
    "\n",
    "path_planner = RRT(enlarge_range=0.5, explore_region=[[0, 20], [0, 20]], known_obstacles=world.obstacles)\n",
    "rrt_history = History()\n",
    "rrt_rover = FollowRover(\n",
    "    start_pose, rover_r,\n",
    "    goal_pos=goal_pos,\n",
    "    sensor=sensor,\n",
    "    path_planner = path_planner,\n",
    "    mapper=GridMapper(grid_size=np.array([20, 20]), grid_width=grid_width, sensor=sensor, known_obstacles=world.obstacles, rover_r=0.5),\n",
    "    localizer=ImaginalLocalizer(),\n",
    "    collision_detector=CollisionDetector(world.obstacles),\n",
    "    history=rrt_history,\n",
    "    color=\"green\", waypoint_color=\"lawngreen\"\n",
    ")\n",
    "rrt_rover.waypoints = rrt_rover.path_planner.calculate_path(max_iter=300)\n",
    "\n",
    "path_planner = RRTstar(enlarge_range=0.7, explore_region=[[0, 20], [0, 20]], known_obstacles=world.obstacles)\n",
    "rrtstar_history = History()\n",
    "rrtstar_rover = FollowRover(\n",
    "    start_pose, rover_r,\n",
    "    sensor=sensor,\n",
    "    path_planner = path_planner,\n",
    "    mapper=GridMapper(grid_size=np.array([20, 20]), grid_width=grid_width, sensor=sensor, known_obstacles=world.obstacles, rover_r=0.5),\n",
    "    localizer=ImaginalLocalizer(),\n",
    "    collision_detector=CollisionDetector(world.obstacles),\n",
    "    history=rrtstar_history,\n",
    "    color=\"blue\", waypoint_color=\"aqua\",\n",
    "    goal_pos=goal_pos\n",
    ")\n",
    "rrtstar_rover.waypoints = rrtstar_rover.path_planner.calculate_path()\n",
    "\n",
    "world.append_rover(astar_rover)\n",
    "world.append_rover(rrt_rover)\n",
    "world.append_rover(rrtstar_rover)"
   ]
  },
  {
   "cell_type": "code",
   "execution_count": 4,
   "id": "b100e12d-9616-49bb-8026-70d14a9b858c",
   "metadata": {
    "execution": {
     "iopub.execute_input": "2021-09-23T12:51:24.449349Z",
     "iopub.status.busy": "2021-09-23T12:51:24.448352Z",
     "iopub.status.idle": "2021-09-23T12:51:24.542101Z",
     "shell.execute_reply": "2021-09-23T12:51:24.541104Z",
     "shell.execute_reply.started": "2021-09-23T12:51:24.449349Z"
    },
    "tags": []
   },
   "outputs": [
    {
     "data": {
      "application/vnd.jupyter.widget-view+json": {
       "model_id": "abdb6c7e7ae042e9ad44d9999f3e892a",
       "version_major": 2,
       "version_minor": 0
      },
      "text/plain": [
       "Canvas(toolbar=Toolbar(toolitems=[('Home', 'Reset original view', 'home', 'home'), ('Back', 'Back to previous …"
      ]
     },
     "metadata": {},
     "output_type": "display_data"
    }
   ],
   "source": [
    "world.plot(xlim=[0, 20], ylim=[0, 20], enlarge_obstacle=0.5, draw_waypoints=True)"
   ]
  },
  {
   "cell_type": "code",
   "execution_count": 5,
   "id": "fe6004a8-34f7-4700-ab2d-3d6016a7f324",
   "metadata": {
    "ExecuteTime": {
     "end_time": "2021-08-29T08:49:41.094353Z",
     "start_time": "2021-08-29T08:49:36.754260Z"
    },
    "execution": {
     "iopub.execute_input": "2021-09-23T12:51:24.543098Z",
     "iopub.status.busy": "2021-09-23T12:51:24.543098Z",
     "iopub.status.idle": "2021-09-23T12:51:26.971604Z",
     "shell.execute_reply": "2021-09-23T12:51:26.971604Z",
     "shell.execute_reply.started": "2021-09-23T12:51:24.543098Z"
    },
    "tags": []
   },
   "outputs": [
    {
     "data": {
      "application/vnd.jupyter.widget-view+json": {
       "model_id": "475ca1e16264497c87844e65f4b5c0ad",
       "version_major": 2,
       "version_minor": 0
      },
      "text/plain": [
       "  0%|          | 0/200 [00:00<?, ?it/s]"
      ]
     },
     "metadata": {},
     "output_type": "display_data"
    }
   ],
   "source": [
    "world.simulate()"
   ]
  },
  {
   "cell_type": "code",
   "execution_count": 6,
   "id": "2a639457-65c2-4435-98df-3ba63e7039ca",
   "metadata": {
    "ExecuteTime": {
     "end_time": "2021-08-29T08:49:41.188170Z",
     "start_time": "2021-08-29T08:49:41.131258Z"
    },
    "execution": {
     "iopub.execute_input": "2021-09-23T12:51:26.972601Z",
     "iopub.status.busy": "2021-09-23T12:51:26.972601Z",
     "iopub.status.idle": "2021-09-23T12:51:27.064596Z",
     "shell.execute_reply": "2021-09-23T12:51:27.063598Z",
     "shell.execute_reply.started": "2021-09-23T12:51:26.972601Z"
    },
    "tags": []
   },
   "outputs": [
    {
     "data": {
      "application/vnd.jupyter.widget-view+json": {
       "model_id": "20b2012b09fa487ba08506836ba4b626",
       "version_major": 2,
       "version_minor": 0
      },
      "text/plain": [
       "Canvas(toolbar=Toolbar(toolitems=[('Home', 'Reset original view', 'home', 'home'), ('Back', 'Back to previous …"
      ]
     },
     "metadata": {},
     "output_type": "display_data"
    }
   ],
   "source": [
    "world.plot(xlim=[0, 20], ylim=[0, 20], enlarge_obstacle=0.5, draw_sensing_points=False)"
   ]
  },
  {
   "cell_type": "code",
   "execution_count": 7,
   "id": "b4e5f6c2-6861-4271-9df4-f807f212634f",
   "metadata": {
    "execution": {
     "iopub.execute_input": "2021-09-23T12:51:27.066590Z",
     "iopub.status.busy": "2021-09-23T12:51:27.066590Z",
     "iopub.status.idle": "2021-09-23T12:51:27.159345Z",
     "shell.execute_reply": "2021-09-23T12:51:27.158346Z",
     "shell.execute_reply.started": "2021-09-23T12:51:27.066590Z"
    },
    "tags": []
   },
   "outputs": [
    {
     "data": {
      "application/vnd.jupyter.widget-view+json": {
       "model_id": "298204c6601e4f0cb3b6dc31547f8c34",
       "version_major": 2,
       "version_minor": 0
      },
      "text/plain": [
       "Canvas(toolbar=Toolbar(toolitems=[('Home', 'Reset original view', 'home', 'home'), ('Back', 'Back to previous …"
      ]
     },
     "metadata": {},
     "output_type": "display_data"
    },
    {
     "data": {
      "application/vnd.jupyter.widget-view+json": {
       "model_id": "e2319fad24e14f54b3f68fe66a748d1b",
       "version_major": 2,
       "version_minor": 0
      },
      "text/plain": [
       "  0%|          | 0/200 [00:00<?, ?it/s]"
      ]
     },
     "metadata": {},
     "output_type": "display_data"
    }
   ],
   "source": [
    "world.animate(\n",
    "    xlim=[0, 20], ylim=[0, 20],\n",
    "    enlarge_obstacle=0.5,\n",
    "    #save_path=\"path_follower.mp4\",\n",
    "    debug=False,\n",
    "    draw_sensing_points=False\n",
    ")"
   ]
  },
  {
   "cell_type": "code",
   "execution_count": 8,
   "id": "cb55a88e-2ad2-497a-945f-2a806aed03ff",
   "metadata": {
    "execution": {
     "iopub.execute_input": "2021-09-23T12:51:27.162334Z",
     "iopub.status.busy": "2021-09-23T12:51:27.162334Z",
     "iopub.status.idle": "2021-09-23T12:51:27.237135Z",
     "shell.execute_reply": "2021-09-23T12:51:27.237135Z",
     "shell.execute_reply.started": "2021-09-23T12:51:27.162334Z"
    },
    "tags": []
   },
   "outputs": [
    {
     "data": {
      "application/vnd.jupyter.widget-view+json": {
       "model_id": "8f17993dfc4a4ab2b0d882f412060646",
       "version_major": 2,
       "version_minor": 0
      },
      "text/plain": [
       "Canvas(toolbar=Toolbar(toolitems=[('Home', 'Reset original view', 'home', 'home'), ('Back', 'Back to previous …"
      ]
     },
     "metadata": {},
     "output_type": "display_data"
    }
   ],
   "source": [
    "astar_history.plot(\n",
    "    xlim=[0, 20], ylim=[0, 20],\n",
    "    obstacles=world.obstacles, enlarge_obstacle=0.5,\n",
    "    draw_sensing_points=False\n",
    ")"
   ]
  },
  {
   "cell_type": "code",
   "execution_count": 9,
   "id": "9efa268b-850a-4a65-8b14-1e11f350af02",
   "metadata": {
    "execution": {
     "iopub.execute_input": "2021-09-23T12:51:27.239129Z",
     "iopub.status.busy": "2021-09-23T12:51:27.238132Z",
     "iopub.status.idle": "2021-09-23T12:51:27.331880Z",
     "shell.execute_reply": "2021-09-23T12:51:27.331880Z",
     "shell.execute_reply.started": "2021-09-23T12:51:27.239129Z"
    }
   },
   "outputs": [
    {
     "data": {
      "application/vnd.jupyter.widget-view+json": {
       "model_id": "fc12ac3834644101a0689422e3325036",
       "version_major": 2,
       "version_minor": 0
      },
      "text/plain": [
       "Canvas(toolbar=Toolbar(toolitems=[('Home', 'Reset original view', 'home', 'home'), ('Back', 'Back to previous …"
      ]
     },
     "metadata": {},
     "output_type": "display_data"
    }
   ],
   "source": [
    "rrt_history.plot(\n",
    "    xlim=[0, 20], ylim=[0, 20],\n",
    "    obstacles=world.obstacles, enlarge_obstacle=0.5,\n",
    "    draw_sensing_points=False\n",
    ")"
   ]
  },
  {
   "cell_type": "code",
   "execution_count": 10,
   "id": "779458d5-8be2-48e8-9de1-99e041c8520e",
   "metadata": {
    "execution": {
     "iopub.execute_input": "2021-09-23T12:51:27.332879Z",
     "iopub.status.busy": "2021-09-23T12:51:27.332879Z",
     "iopub.status.idle": "2021-09-23T12:51:27.410669Z",
     "shell.execute_reply": "2021-09-23T12:51:27.409673Z",
     "shell.execute_reply.started": "2021-09-23T12:51:27.332879Z"
    }
   },
   "outputs": [
    {
     "data": {
      "application/vnd.jupyter.widget-view+json": {
       "model_id": "6a4c306ffc0b4df69219c0b8d20e1a7d",
       "version_major": 2,
       "version_minor": 0
      },
      "text/plain": [
       "Canvas(toolbar=Toolbar(toolitems=[('Home', 'Reset original view', 'home', 'home'), ('Back', 'Back to previous …"
      ]
     },
     "metadata": {},
     "output_type": "display_data"
    }
   ],
   "source": [
    "rrtstar_history.plot(\n",
    "    xlim=[0, 20], ylim=[0, 20],\n",
    "    obstacles=world.obstacles, enlarge_obstacle=0.5,\n",
    "    draw_sensing_points=False\n",
    ")"
   ]
  },
  {
   "cell_type": "code",
   "execution_count": null,
   "id": "965170ca-31fa-4e4a-a135-3dc5cb693cd8",
   "metadata": {},
   "outputs": [],
   "source": []
  }
 ],
 "metadata": {
  "kernelspec": {
   "display_name": "Python 3",
   "language": "python",
   "name": "python3"
  },
  "language_info": {
   "codemirror_mode": {
    "name": "ipython",
    "version": 3
   },
   "file_extension": ".py",
   "mimetype": "text/x-python",
   "name": "python",
   "nbconvert_exporter": "python",
   "pygments_lexer": "ipython3",
   "version": "3.7.10"
  }
 },
 "nbformat": 4,
 "nbformat_minor": 5
}
