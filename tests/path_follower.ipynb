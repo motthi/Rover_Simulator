{
 "cells": [
  {
   "cell_type": "code",
   "execution_count": 1,
   "id": "99f06cb0-59e5-4e97-8401-81ac592c4a13",
   "metadata": {
    "ExecuteTime": {
     "end_time": "2021-08-29T08:49:36.700149Z",
     "start_time": "2021-08-29T08:49:35.565542Z"
    },
    "execution": {
     "iopub.execute_input": "2021-09-05T03:19:10.707289Z",
     "iopub.status.busy": "2021-09-05T03:19:10.707289Z",
     "iopub.status.idle": "2021-09-05T03:19:12.279929Z",
     "shell.execute_reply": "2021-09-05T03:19:12.278959Z",
     "shell.execute_reply.started": "2021-09-05T03:19:10.707289Z"
    },
    "tags": []
   },
   "outputs": [],
   "source": [
    "import sys\n",
    "sys.path.append('../')\n",
    "import numpy as np\n",
    "import matplotlib\n",
    "%matplotlib widget\n",
    "\n",
    "from rover_simulator.world import World\n",
    "from rover_simulator.rover import FollowRover, History\n",
    "from rover_simulator.sensor import ImaginalSensor\n",
    "from rover_simulator.collision_detector import CollisionDetector\n",
    "from rover_simulator.navigation.localizer import ImaginalLocalizer\n",
    "from rover_simulator.navigation.controller import ArcPathController\n",
    "from rover_simulator.navigation.mapper import GridMapper\n",
    "from rover_simulator.navigation.path_planner.grid_base import Dijkstra, Astar\n",
    "from rover_simulator.navigation.path_planner.sampling_base import RRT, RRTstar"
   ]
  },
  {
   "cell_type": "code",
   "execution_count": 9,
   "id": "347b5a38-feb4-4c02-9e42-12877175cde8",
   "metadata": {
    "ExecuteTime": {
     "end_time": "2021-08-29T08:49:36.716204Z",
     "start_time": "2021-08-29T08:49:36.702242Z"
    },
    "execution": {
     "iopub.execute_input": "2021-09-05T03:19:49.293213Z",
     "iopub.status.busy": "2021-09-05T03:19:49.292219Z",
     "iopub.status.idle": "2021-09-05T03:19:49.309171Z",
     "shell.execute_reply": "2021-09-05T03:19:49.308208Z",
     "shell.execute_reply.started": "2021-09-05T03:19:49.293213Z"
    },
    "tags": []
   },
   "outputs": [],
   "source": [
    "world = World(end_step=200)\n",
    "world.read_objects(\"../rover_simulator/examples/environment_simple.txt\")"
   ]
  },
  {
   "cell_type": "code",
   "execution_count": 10,
   "id": "a996be07-81d4-4a8f-8873-c7a026e15abf",
   "metadata": {
    "ExecuteTime": {
     "end_time": "2021-08-29T08:49:36.748274Z",
     "start_time": "2021-08-29T08:49:36.720194Z"
    },
    "execution": {
     "iopub.execute_input": "2021-09-05T03:19:49.449668Z",
     "iopub.status.busy": "2021-09-05T03:19:49.449668Z",
     "iopub.status.idle": "2021-09-05T03:19:49.873264Z",
     "shell.execute_reply": "2021-09-05T03:19:49.872264Z",
     "shell.execute_reply.started": "2021-09-05T03:19:49.449668Z"
    },
    "tags": []
   },
   "outputs": [],
   "source": [
    "grid_width = 0.5\n",
    "sensor = ImaginalSensor(obstacles=world.obstacles, fov=np.pi)\n",
    "rover_r = 0.5\n",
    "start_pose = np.array([1.0, 1.0, 0.0])\n",
    "goal_pos = np.array([13, 18])\n",
    "\n",
    "path_planner = Astar(map_grid_width=grid_width)\n",
    "astar_rover = FollowRover(\n",
    "    start_pose, rover_r,\n",
    "    goal_pos=goal_pos,\n",
    "    sensor=sensor,\n",
    "    path_planner = path_planner,\n",
    "    mapper=GridMapper(grid_size=np.array([20, 20]), grid_width=grid_width, sensor=sensor, know_obstacles=world.obstacles, rover_r=0.5),\n",
    "    localizer=ImaginalLocalizer(),\n",
    "    collision_detector=CollisionDetector(world.obstacles),\n",
    "    controller=ArcPathController(),\n",
    "    history=History(),\n",
    "    color=\"black\", waypoint_color=\"gray\"\n",
    ")\n",
    "astar_rover.waypoints = astar_rover.path_planner.calculate_path()\n",
    "\n",
    "# path_planner = RRT(enlarge_range=0.5, explore_region=[[0, 20], [0, 20]], know_obstacles=world.obstacles)\n",
    "# rrt_rover = FollowRover(\n",
    "#     start_pose, rover_r,\n",
    "#     goal_pos=goal_pos,\n",
    "#     sensor=sensor,\n",
    "#     path_planner = path_planner,\n",
    "#     mapper=GridMapper(grid_size=np.array([20, 20]), grid_width=grid_width, sensor=sensor, know_obstacles=world.obstacles, rover_r=0.5),\n",
    "#     localizer=ImaginalLocalizer(),\n",
    "#     collision_detector=CollisionDetector(world.obstacles),\n",
    "#     history=History(),\n",
    "#     color=\"green\", waypoint_color=\"lawngreen\"\n",
    "# )\n",
    "# rrt_rover.waypoints = rrt_rover.path_planner.calculate_path(max_iter=300)\n",
    "\n",
    "# path_planner = RRTstar(enlarge_range=0.7, explore_region=[[0, 20], [0, 20]], know_obstacles=world.obstacles)\n",
    "# rrtstar_rover = FollowRover(\n",
    "#     start_pose, rover_r,\n",
    "#     sensor=sensor,\n",
    "#     path_planner = path_planner,\n",
    "#     mapper=GridMapper(grid_size=np.array([20, 20]), grid_width=grid_width, sensor=sensor, know_obstacles=world.obstacles, rover_r=0.5),\n",
    "#     localizer=ImaginalLocalizer(),\n",
    "#     collision_detector=CollisionDetector(world.obstacles),\n",
    "#     history=History(),\n",
    "#     color=\"red\", waypoint_color=\"tomato\",\n",
    "#     goal_pos=goal_pos\n",
    "# )\n",
    "# rrtstar_rover.waypoints = rrtstar_rover.path_planner.calculate_path()\n",
    "\n",
    "world.append_rover(astar_rover)\n",
    "# world.append_rover(rrt_rover)\n",
    "# world.append_rover(rrtstar_rover)"
   ]
  },
  {
   "cell_type": "code",
   "execution_count": 11,
   "id": "b100e12d-9616-49bb-8026-70d14a9b858c",
   "metadata": {
    "execution": {
     "iopub.execute_input": "2021-09-05T03:19:49.875259Z",
     "iopub.status.busy": "2021-09-05T03:19:49.874262Z",
     "iopub.status.idle": "2021-09-05T03:19:49.890220Z",
     "shell.execute_reply": "2021-09-05T03:19:49.888226Z",
     "shell.execute_reply.started": "2021-09-05T03:19:49.875259Z"
    },
    "tags": []
   },
   "outputs": [],
   "source": [
    "# world.plot(xlim=[0, 20], ylim=[0, 20], enlarge_obstacle=0.5, draw_waypoints=True)"
   ]
  },
  {
   "cell_type": "code",
   "execution_count": 12,
   "id": "fe6004a8-34f7-4700-ab2d-3d6016a7f324",
   "metadata": {
    "ExecuteTime": {
     "end_time": "2021-08-29T08:49:41.094353Z",
     "start_time": "2021-08-29T08:49:36.754260Z"
    },
    "execution": {
     "iopub.execute_input": "2021-09-05T03:19:49.894209Z",
     "iopub.status.busy": "2021-09-05T03:19:49.893212Z",
     "iopub.status.idle": "2021-09-05T03:19:51.450181Z",
     "shell.execute_reply": "2021-09-05T03:19:51.450181Z",
     "shell.execute_reply.started": "2021-09-05T03:19:49.894209Z"
    },
    "tags": []
   },
   "outputs": [
    {
     "data": {
      "application/vnd.jupyter.widget-view+json": {
       "model_id": "11a2333d6e024c229457de9cf3b1532c",
       "version_major": 2,
       "version_minor": 0
      },
      "text/plain": [
       "  0%|          | 0/200 [00:00<?, ?it/s]"
      ]
     },
     "metadata": {},
     "output_type": "display_data"
    }
   ],
   "source": [
    "world.simulate()"
   ]
  },
  {
   "cell_type": "code",
   "execution_count": 13,
   "id": "2a639457-65c2-4435-98df-3ba63e7039ca",
   "metadata": {
    "ExecuteTime": {
     "end_time": "2021-08-29T08:49:41.188170Z",
     "start_time": "2021-08-29T08:49:41.131258Z"
    },
    "execution": {
     "iopub.execute_input": "2021-09-05T03:19:52.287024Z",
     "iopub.status.busy": "2021-09-05T03:19:52.287024Z",
     "iopub.status.idle": "2021-09-05T03:19:52.386754Z",
     "shell.execute_reply": "2021-09-05T03:19:52.386754Z",
     "shell.execute_reply.started": "2021-09-05T03:19:52.287024Z"
    },
    "tags": []
   },
   "outputs": [
    {
     "data": {
      "application/vnd.jupyter.widget-view+json": {
       "model_id": "d41f94f504d241aeb406ed73a8e6e95c",
       "version_major": 2,
       "version_minor": 0
      },
      "text/plain": [
       "Canvas(toolbar=Toolbar(toolitems=[('Home', 'Reset original view', 'home', 'home'), ('Back', 'Back to previous …"
      ]
     },
     "metadata": {},
     "output_type": "display_data"
    }
   ],
   "source": [
    "world.plot(xlim=[0, 20], ylim=[0, 20], enlarge_obstacle=0.5)"
   ]
  },
  {
   "cell_type": "code",
   "execution_count": 14,
   "id": "b4e5f6c2-6861-4271-9df4-f807f212634f",
   "metadata": {
    "execution": {
     "iopub.execute_input": "2021-09-05T03:19:53.926226Z",
     "iopub.status.busy": "2021-09-05T03:19:53.926226Z",
     "iopub.status.idle": "2021-09-05T03:19:54.026987Z",
     "shell.execute_reply": "2021-09-05T03:19:54.026987Z",
     "shell.execute_reply.started": "2021-09-05T03:19:53.926226Z"
    },
    "tags": []
   },
   "outputs": [
    {
     "data": {
      "application/vnd.jupyter.widget-view+json": {
       "model_id": "594e77402ca34636829f83c190f7f43d",
       "version_major": 2,
       "version_minor": 0
      },
      "text/plain": [
       "Canvas(toolbar=Toolbar(toolitems=[('Home', 'Reset original view', 'home', 'home'), ('Back', 'Back to previous …"
      ]
     },
     "metadata": {},
     "output_type": "display_data"
    },
    {
     "data": {
      "application/vnd.jupyter.widget-view+json": {
       "model_id": "fe41a373b7d5431e96645bc9780ba93a",
       "version_major": 2,
       "version_minor": 0
      },
      "text/plain": [
       "  0%|          | 0/200 [00:00<?, ?it/s]"
      ]
     },
     "metadata": {},
     "output_type": "display_data"
    }
   ],
   "source": [
    "world.animate(\n",
    "    xlim=[0, 20], ylim=[0, 20],\n",
    "    enlarge_obstacle=0.5,\n",
    "    #save_path=\"path_follower.mp4\",\n",
    "    debug=False\n",
    ")"
   ]
  },
  {
   "cell_type": "code",
   "execution_count": null,
   "id": "cb55a88e-2ad2-497a-945f-2a806aed03ff",
   "metadata": {},
   "outputs": [],
   "source": []
  }
 ],
 "metadata": {
  "kernelspec": {
   "display_name": "Python 3",
   "language": "python",
   "name": "python3"
  },
  "language_info": {
   "codemirror_mode": {
    "name": "ipython",
    "version": 3
   },
   "file_extension": ".py",
   "mimetype": "text/x-python",
   "name": "python",
   "nbconvert_exporter": "python",
   "pygments_lexer": "ipython3",
   "version": "3.7.10"
  }
 },
 "nbformat": 4,
 "nbformat_minor": 5
}
