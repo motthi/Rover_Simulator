{
 "cells": [
  {
   "cell_type": "code",
   "execution_count": 1,
   "id": "99f06cb0-59e5-4e97-8401-81ac592c4a13",
   "metadata": {
    "ExecuteTime": {
     "end_time": "2021-08-29T08:49:36.700149Z",
     "start_time": "2021-08-29T08:49:35.565542Z"
    },
    "execution": {
     "iopub.execute_input": "2021-09-04T08:26:02.290196Z",
     "iopub.status.busy": "2021-09-04T08:26:02.289199Z",
     "iopub.status.idle": "2021-09-04T08:26:03.428177Z",
     "shell.execute_reply": "2021-09-04T08:26:03.427216Z",
     "shell.execute_reply.started": "2021-09-04T08:26:02.290196Z"
    },
    "tags": []
   },
   "outputs": [],
   "source": [
    "import sys\n",
    "sys.path.append('../')\n",
    "import numpy as np\n",
    "import matplotlib\n",
    "%matplotlib widget\n",
    "\n",
    "from rover_simulator.world import World\n",
    "from rover_simulator.rover import FollowRover, History\n",
    "from rover_simulator.sensor import ImaginalSensor\n",
    "from rover_simulator.collision_detector import CollisionDetector\n",
    "from rover_simulator.navigation.localizer import ImaginalLocalizer\n",
    "from rover_simulator.navigation.controller import ConstantSpeedController\n",
    "from rover_simulator.navigation.mapper import GridMapper\n",
    "from rover_simulator.navigation.path_planner.grid_base import Dijkstra\n",
    "from rover_simulator.navigation.path_planner.sampling_base import RRT, RRTstar"
   ]
  },
  {
   "cell_type": "code",
   "execution_count": 2,
   "id": "347b5a38-feb4-4c02-9e42-12877175cde8",
   "metadata": {
    "ExecuteTime": {
     "end_time": "2021-08-29T08:49:36.716204Z",
     "start_time": "2021-08-29T08:49:36.702242Z"
    },
    "execution": {
     "iopub.execute_input": "2021-09-04T08:26:03.429174Z",
     "iopub.status.busy": "2021-09-04T08:26:03.429174Z",
     "iopub.status.idle": "2021-09-04T08:26:03.444134Z",
     "shell.execute_reply": "2021-09-04T08:26:03.443138Z",
     "shell.execute_reply.started": "2021-09-04T08:26:03.429174Z"
    },
    "tags": []
   },
   "outputs": [],
   "source": [
    "world = World(end_step=200)\n",
    "world.read_objects(\"../rover_simulator/examples/environment_simple.txt\")"
   ]
  },
  {
   "cell_type": "code",
   "execution_count": 3,
   "id": "a996be07-81d4-4a8f-8873-c7a026e15abf",
   "metadata": {
    "ExecuteTime": {
     "end_time": "2021-08-29T08:49:36.748274Z",
     "start_time": "2021-08-29T08:49:36.720194Z"
    },
    "execution": {
     "iopub.execute_input": "2021-09-04T08:26:03.447127Z",
     "iopub.status.busy": "2021-09-04T08:26:03.446131Z",
     "iopub.status.idle": "2021-09-04T08:26:08.234598Z",
     "shell.execute_reply": "2021-09-04T08:26:08.233884Z",
     "shell.execute_reply.started": "2021-09-04T08:26:03.447127Z"
    },
    "tags": []
   },
   "outputs": [],
   "source": [
    "grid_width = 0.5\n",
    "sensor = ImaginalSensor(obstacles=world.obstacles)\n",
    "rover_r = 0.5\n",
    "start_pose = np.array([1.0, 1.0, 0.0])\n",
    "goal_pos = np.array([13, 18])\n",
    "\n",
    "path_planner = Dijkstra(map_grid_width=grid_width)\n",
    "dwa_rover = FollowRover(\n",
    "    start_pose, rover_r,\n",
    "    goal_pos=goal_pos,\n",
    "    sensor=sensor,\n",
    "    path_planner = path_planner,\n",
    "    mapper=GridMapper(grid_size=np.array([20, 20]), grid_width=grid_width, sensor=sensor, know_obstacles=world.obstacles, rover_r=0.5),\n",
    "    localizer=ImaginalLocalizer(),\n",
    "    collision_detector=CollisionDetector(world.obstacles),\n",
    "    history=History(),\n",
    "    color=\"black\", waypoint_color=\"gray\"\n",
    ")\n",
    "dwa_rover.waypoints = dwa_rover.path_planner.calculate_path()\n",
    "\n",
    "path_planner = RRT(enlarge_range=0.5, explore_region=[[0, 20], [0, 20]], know_obstacles=world.obstacles)\n",
    "rrt_rover = FollowRover(\n",
    "    start_pose, rover_r,\n",
    "    goal_pos=goal_pos,\n",
    "    sensor=sensor,\n",
    "    path_planner = path_planner,\n",
    "    mapper=GridMapper(grid_size=np.array([20, 20]), grid_width=grid_width, sensor=sensor, know_obstacles=world.obstacles, rover_r=0.5),\n",
    "    localizer=ImaginalLocalizer(),\n",
    "    collision_detector=CollisionDetector(world.obstacles),\n",
    "    history=History(),\n",
    "    color=\"green\", waypoint_color=\"lawngreen\"\n",
    ")\n",
    "rrt_rover.waypoints = rrt_rover.path_planner.calculate_path(max_iter=300)\n",
    "\n",
    "path_planner = RRTstar(enlarge_range=0.7, explore_region=[[0, 20], [0, 20]], know_obstacles=world.obstacles)\n",
    "rrtstar_rover = FollowRover(\n",
    "    start_pose, rover_r,\n",
    "    sensor=sensor,\n",
    "    path_planner = path_planner,\n",
    "    mapper=GridMapper(grid_size=np.array([20, 20]), grid_width=grid_width, sensor=sensor, know_obstacles=world.obstacles, rover_r=0.5),\n",
    "    localizer=ImaginalLocalizer(),\n",
    "    collision_detector=CollisionDetector(world.obstacles),\n",
    "    history=History(),\n",
    "    color=\"red\", waypoint_color=\"tomato\",\n",
    "    goal_pos=goal_pos\n",
    ")\n",
    "rrtstar_rover.waypoints = rrtstar_rover.path_planner.calculate_path()\n",
    "\n",
    "world.append_rover(dwa_rover)\n",
    "world.append_rover(rrt_rover)\n",
    "world.append_rover(rrtstar_rover)"
   ]
  },
  {
   "cell_type": "code",
   "execution_count": 4,
   "id": "b100e12d-9616-49bb-8026-70d14a9b858c",
   "metadata": {
    "execution": {
     "iopub.execute_input": "2021-09-04T08:26:08.236592Z",
     "iopub.status.busy": "2021-09-04T08:26:08.236592Z",
     "iopub.status.idle": "2021-09-04T08:26:08.312754Z",
     "shell.execute_reply": "2021-09-04T08:26:08.311752Z",
     "shell.execute_reply.started": "2021-09-04T08:26:08.236592Z"
    },
    "tags": []
   },
   "outputs": [
    {
     "data": {
      "application/vnd.jupyter.widget-view+json": {
       "model_id": "e47495a02be34ad6830a16babbda76f8",
       "version_major": 2,
       "version_minor": 0
      },
      "text/plain": [
       "Canvas(toolbar=Toolbar(toolitems=[('Home', 'Reset original view', 'home', 'home'), ('Back', 'Back to previous …"
      ]
     },
     "metadata": {},
     "output_type": "display_data"
    }
   ],
   "source": [
    "world.plot(xlim=[0, 20], ylim=[0, 20], enlarge_obstacle=0.5, draw_waypoints=True)"
   ]
  },
  {
   "cell_type": "code",
   "execution_count": 5,
   "id": "fe6004a8-34f7-4700-ab2d-3d6016a7f324",
   "metadata": {
    "ExecuteTime": {
     "end_time": "2021-08-29T08:49:41.094353Z",
     "start_time": "2021-08-29T08:49:36.754260Z"
    },
    "execution": {
     "iopub.execute_input": "2021-09-04T08:26:13.401646Z",
     "iopub.status.busy": "2021-09-04T08:26:13.401646Z",
     "iopub.status.idle": "2021-09-04T08:26:15.149182Z",
     "shell.execute_reply": "2021-09-04T08:26:15.148182Z",
     "shell.execute_reply.started": "2021-09-04T08:26:13.401646Z"
    },
    "tags": []
   },
   "outputs": [
    {
     "data": {
      "application/vnd.jupyter.widget-view+json": {
       "model_id": "2a800df479cd4ca7bb1709c89352f692",
       "version_major": 2,
       "version_minor": 0
      },
      "text/plain": [
       "  0%|          | 0/200 [00:00<?, ?it/s]"
      ]
     },
     "metadata": {},
     "output_type": "display_data"
    }
   ],
   "source": [
    "world.simulate()"
   ]
  },
  {
   "cell_type": "code",
   "execution_count": 6,
   "id": "2a639457-65c2-4435-98df-3ba63e7039ca",
   "metadata": {
    "ExecuteTime": {
     "end_time": "2021-08-29T08:49:41.188170Z",
     "start_time": "2021-08-29T08:49:41.131258Z"
    },
    "execution": {
     "iopub.execute_input": "2021-09-04T08:26:15.716205Z",
     "iopub.status.busy": "2021-09-04T08:26:15.715207Z",
     "iopub.status.idle": "2021-09-04T08:26:15.804964Z",
     "shell.execute_reply": "2021-09-04T08:26:15.802969Z",
     "shell.execute_reply.started": "2021-09-04T08:26:15.716205Z"
    },
    "tags": []
   },
   "outputs": [
    {
     "data": {
      "application/vnd.jupyter.widget-view+json": {
       "model_id": "5a4556a99bb34a7bb69a1ca678210284",
       "version_major": 2,
       "version_minor": 0
      },
      "text/plain": [
       "Canvas(toolbar=Toolbar(toolitems=[('Home', 'Reset original view', 'home', 'home'), ('Back', 'Back to previous …"
      ]
     },
     "metadata": {},
     "output_type": "display_data"
    }
   ],
   "source": [
    "world.plot(xlim=[0, 20], ylim=[0, 20], enlarge_obstacle=0.5)"
   ]
  },
  {
   "cell_type": "code",
   "execution_count": 7,
   "id": "b4e5f6c2-6861-4271-9df4-f807f212634f",
   "metadata": {
    "execution": {
     "iopub.execute_input": "2021-09-04T08:26:18.861391Z",
     "iopub.status.busy": "2021-09-04T08:26:18.861391Z",
     "iopub.status.idle": "2021-09-04T08:26:18.949194Z",
     "shell.execute_reply": "2021-09-04T08:26:18.948196Z",
     "shell.execute_reply.started": "2021-09-04T08:26:18.861391Z"
    },
    "tags": []
   },
   "outputs": [
    {
     "data": {
      "application/vnd.jupyter.widget-view+json": {
       "model_id": "545729d063b143749e658a61decbe0b4",
       "version_major": 2,
       "version_minor": 0
      },
      "text/plain": [
       "Canvas(toolbar=Toolbar(toolitems=[('Home', 'Reset original view', 'home', 'home'), ('Back', 'Back to previous …"
      ]
     },
     "metadata": {},
     "output_type": "display_data"
    },
    {
     "data": {
      "application/vnd.jupyter.widget-view+json": {
       "model_id": "8a93d5eb48c64b0c8afcf19b052b5c44",
       "version_major": 2,
       "version_minor": 0
      },
      "text/plain": [
       "  0%|          | 0/200 [00:00<?, ?it/s]"
      ]
     },
     "metadata": {},
     "output_type": "display_data"
    }
   ],
   "source": [
    "world.animate(\n",
    "    xlim=[0, 20], ylim=[0, 20],\n",
    "    enlarge_obstacle=0.5,\n",
    "    #save_path=\"path_follower.mp4\",\n",
    "    debug=False\n",
    ")"
   ]
  },
  {
   "cell_type": "code",
   "execution_count": null,
   "id": "cb55a88e-2ad2-497a-945f-2a806aed03ff",
   "metadata": {},
   "outputs": [],
   "source": []
  }
 ],
 "metadata": {
  "kernelspec": {
   "display_name": "Python 3",
   "language": "python",
   "name": "python3"
  },
  "language_info": {
   "codemirror_mode": {
    "name": "ipython",
    "version": 3
   },
   "file_extension": ".py",
   "mimetype": "text/x-python",
   "name": "python",
   "nbconvert_exporter": "python",
   "pygments_lexer": "ipython3",
   "version": "3.7.10"
  }
 },
 "nbformat": 4,
 "nbformat_minor": 5
}
