{
 "cells": [
  {
   "cell_type": "code",
   "execution_count": 1,
   "id": "99f06cb0-59e5-4e97-8401-81ac592c4a13",
   "metadata": {
    "ExecuteTime": {
     "end_time": "2021-08-27T15:31:51.106937Z",
     "start_time": "2021-08-27T15:31:50.035422Z"
    },
    "execution": {
     "iopub.execute_input": "2021-09-17T11:02:15.652296Z",
     "iopub.status.busy": "2021-09-17T11:02:15.652296Z",
     "iopub.status.idle": "2021-09-17T11:02:16.841050Z",
     "shell.execute_reply": "2021-09-17T11:02:16.840051Z",
     "shell.execute_reply.started": "2021-09-17T11:02:15.652296Z"
    },
    "tags": []
   },
   "outputs": [],
   "source": [
    "import sys\n",
    "sys.path.append('../')\n",
    "import numpy as np\n",
    "import matplotlib\n",
    "%matplotlib widget\n",
    "\n",
    "from rover_simulator.world import World\n",
    "from rover_simulator.rover import BasicRover, History\n",
    "from rover_simulator.sensor import ImaginalSensor, NoisySensor\n",
    "from rover_simulator.navigation.localizer import ImaginalLocalizer\n",
    "from rover_simulator.navigation.controller import ConstantSpeedController"
   ]
  },
  {
   "cell_type": "code",
   "execution_count": 2,
   "id": "347b5a38-feb4-4c02-9e42-12877175cde8",
   "metadata": {
    "ExecuteTime": {
     "end_time": "2021-08-27T15:31:51.121982Z",
     "start_time": "2021-08-27T15:31:51.108657Z"
    },
    "execution": {
     "iopub.execute_input": "2021-09-17T11:02:16.842046Z",
     "iopub.status.busy": "2021-09-17T11:02:16.842046Z",
     "iopub.status.idle": "2021-09-17T11:02:16.859997Z",
     "shell.execute_reply": "2021-09-17T11:02:16.856011Z",
     "shell.execute_reply.started": "2021-09-17T11:02:16.842046Z"
    },
    "tags": []
   },
   "outputs": [],
   "source": [
    "world = World(end_step=200)\n",
    "world.read_objects(\"../rover_simulator/examples/environment_simple.txt\")"
   ]
  },
  {
   "cell_type": "code",
   "execution_count": 4,
   "id": "a996be07-81d4-4a8f-8873-c7a026e15abf",
   "metadata": {
    "ExecuteTime": {
     "end_time": "2021-08-27T15:31:51.137348Z",
     "start_time": "2021-08-27T15:31:51.125001Z"
    },
    "execution": {
     "iopub.execute_input": "2021-09-17T11:02:24.806031Z",
     "iopub.status.busy": "2021-09-17T11:02:24.806031Z",
     "iopub.status.idle": "2021-09-17T11:02:24.838046Z",
     "shell.execute_reply": "2021-09-17T11:02:24.837083Z",
     "shell.execute_reply.started": "2021-09-17T11:02:24.806031Z"
    },
    "tags": []
   },
   "outputs": [],
   "source": [
    "rover = BasicRover(\n",
    "    np.array([1.0, 1.0, 0.0]), 0.5,\n",
    "    sensor=NoisySensor(obstacles=world.obstacles),\n",
    "    localizer=ImaginalLocalizer(),\n",
    "    controller=ConstantSpeedController(w=np.pi/32),\n",
    "    history=History()\n",
    ")\n",
    "world.append_rover(rover)"
   ]
  },
  {
   "cell_type": "code",
   "execution_count": 5,
   "id": "b70113cc-5ce7-4638-9f57-f5b3c8fdb21e",
   "metadata": {
    "ExecuteTime": {
     "end_time": "2021-08-27T15:31:51.153307Z",
     "start_time": "2021-08-27T15:31:51.141339Z"
    },
    "execution": {
     "iopub.execute_input": "2021-09-17T11:02:25.520184Z",
     "iopub.status.busy": "2021-09-17T11:02:25.519186Z",
     "iopub.status.idle": "2021-09-17T11:02:25.631885Z",
     "shell.execute_reply": "2021-09-17T11:02:25.630885Z",
     "shell.execute_reply.started": "2021-09-17T11:02:25.520184Z"
    },
    "tags": []
   },
   "outputs": [
    {
     "data": {
      "application/vnd.jupyter.widget-view+json": {
       "model_id": "6fa9f8ff67ae42369fcc567da83c496e",
       "version_major": 2,
       "version_minor": 0
      },
      "text/plain": [
       "  0%|          | 0/200 [00:00<?, ?it/s]"
      ]
     },
     "metadata": {},
     "output_type": "display_data"
    }
   ],
   "source": [
    "world.simulate()"
   ]
  },
  {
   "cell_type": "code",
   "execution_count": 6,
   "id": "2a639457-65c2-4435-98df-3ba63e7039ca",
   "metadata": {
    "ExecuteTime": {
     "end_time": "2021-08-27T15:31:51.199404Z",
     "start_time": "2021-08-27T15:31:51.183226Z"
    },
    "execution": {
     "iopub.execute_input": "2021-09-17T11:02:26.764928Z",
     "iopub.status.busy": "2021-09-17T11:02:26.764928Z",
     "iopub.status.idle": "2021-09-17T11:02:26.842719Z",
     "shell.execute_reply": "2021-09-17T11:02:26.841723Z",
     "shell.execute_reply.started": "2021-09-17T11:02:26.764928Z"
    },
    "tags": []
   },
   "outputs": [
    {
     "data": {
      "application/vnd.jupyter.widget-view+json": {
       "model_id": "543c703552bb4f8f8d060a10d8283452",
       "version_major": 2,
       "version_minor": 0
      },
      "text/plain": [
       "Canvas(toolbar=Toolbar(toolitems=[('Home', 'Reset original view', 'home', 'home'), ('Back', 'Back to previous …"
      ]
     },
     "metadata": {},
     "output_type": "display_data"
    }
   ],
   "source": [
    "world.plot(xlim=[0, 20], ylim=[0, 20], enlarge_obstacle=rover.r)"
   ]
  },
  {
   "cell_type": "code",
   "execution_count": 7,
   "id": "820fd150-68ac-4a6c-a8bc-f9cdc9d14fad",
   "metadata": {
    "ExecuteTime": {
     "end_time": "2021-08-27T15:31:51.323439Z",
     "start_time": "2021-08-27T15:31:51.270616Z"
    },
    "execution": {
     "iopub.execute_input": "2021-09-17T11:02:28.932172Z",
     "iopub.status.busy": "2021-09-17T11:02:28.932172Z",
     "iopub.status.idle": "2021-09-17T11:02:29.071761Z",
     "shell.execute_reply": "2021-09-17T11:02:29.070763Z",
     "shell.execute_reply.started": "2021-09-17T11:02:28.932172Z"
    },
    "tags": []
   },
   "outputs": [
    {
     "data": {
      "application/vnd.jupyter.widget-view+json": {
       "model_id": "ae28142b198f46f795df9504fc5ef61c",
       "version_major": 2,
       "version_minor": 0
      },
      "text/plain": [
       "Canvas(toolbar=Toolbar(toolitems=[('Home', 'Reset original view', 'home', 'home'), ('Back', 'Back to previous …"
      ]
     },
     "metadata": {},
     "output_type": "display_data"
    },
    {
     "data": {
      "application/vnd.jupyter.widget-view+json": {
       "model_id": "d166d5501ff2467a8c4d9010545ad490",
       "version_major": 2,
       "version_minor": 0
      },
      "text/plain": [
       "  0%|          | 0/200 [00:00<?, ?it/s]"
      ]
     },
     "metadata": {},
     "output_type": "display_data"
    }
   ],
   "source": [
    "world.animate(\n",
    "    xlim=[0, 20], ylim=[0, 20],\n",
    "    enlarge_obstacle=rover.r,\n",
    "    #save_path=\"log/sensor.mp4\",\n",
    "    debug=False\n",
    ")"
   ]
  },
  {
   "cell_type": "code",
   "execution_count": null,
   "id": "71a12e31-f241-4f50-a482-5870e3b82f29",
   "metadata": {},
   "outputs": [],
   "source": []
  }
 ],
 "metadata": {
  "kernelspec": {
   "display_name": "Python 3",
   "language": "python",
   "name": "python3"
  },
  "language_info": {
   "codemirror_mode": {
    "name": "ipython",
    "version": 3
   },
   "file_extension": ".py",
   "mimetype": "text/x-python",
   "name": "python",
   "nbconvert_exporter": "python",
   "pygments_lexer": "ipython3",
   "version": "3.7.10"
  }
 },
 "nbformat": 4,
 "nbformat_minor": 5
}
