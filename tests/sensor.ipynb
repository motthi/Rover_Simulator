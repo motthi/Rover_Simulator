{
 "cells": [
  {
   "cell_type": "code",
   "execution_count": 1,
   "id": "99f06cb0-59e5-4e97-8401-81ac592c4a13",
   "metadata": {
    "ExecuteTime": {
     "end_time": "2021-08-27T15:31:51.106937Z",
     "start_time": "2021-08-27T15:31:50.035422Z"
    },
    "execution": {
     "iopub.execute_input": "2021-09-22T05:04:31.956894Z",
     "iopub.status.busy": "2021-09-22T05:04:31.955896Z",
     "iopub.status.idle": "2021-09-22T05:04:33.455061Z",
     "shell.execute_reply": "2021-09-22T05:04:33.454057Z",
     "shell.execute_reply.started": "2021-09-22T05:04:31.956894Z"
    },
    "tags": []
   },
   "outputs": [],
   "source": [
    "import sys\n",
    "sys.path.append('../')\n",
    "import numpy as np\n",
    "import matplotlib\n",
    "%matplotlib widget\n",
    "\n",
    "from rover_simulator.world import World\n",
    "from rover_simulator.rover import BasicRover\n",
    "from rover_simulator.history import History\n",
    "from rover_simulator.sensor import ImaginalSensor, NoisySensor\n",
    "from rover_simulator.navigation.localizer import ImaginalLocalizer\n",
    "from rover_simulator.navigation.controller import ConstantSpeedController"
   ]
  },
  {
   "cell_type": "code",
   "execution_count": 2,
   "id": "347b5a38-feb4-4c02-9e42-12877175cde8",
   "metadata": {
    "ExecuteTime": {
     "end_time": "2021-08-27T15:31:51.121982Z",
     "start_time": "2021-08-27T15:31:51.108657Z"
    },
    "execution": {
     "iopub.execute_input": "2021-09-22T05:04:33.456055Z",
     "iopub.status.busy": "2021-09-22T05:04:33.456055Z",
     "iopub.status.idle": "2021-09-22T05:04:33.470018Z",
     "shell.execute_reply": "2021-09-22T05:04:33.469023Z",
     "shell.execute_reply.started": "2021-09-22T05:04:33.456055Z"
    },
    "tags": []
   },
   "outputs": [],
   "source": [
    "world = World(end_step=200)\n",
    "world.read_objects(\"../rover_simulator/examples/environment_simple.txt\")"
   ]
  },
  {
   "cell_type": "code",
   "execution_count": 3,
   "id": "a996be07-81d4-4a8f-8873-c7a026e15abf",
   "metadata": {
    "ExecuteTime": {
     "end_time": "2021-08-27T15:31:51.137348Z",
     "start_time": "2021-08-27T15:31:51.125001Z"
    },
    "execution": {
     "iopub.execute_input": "2021-09-22T05:04:33.473011Z",
     "iopub.status.busy": "2021-09-22T05:04:33.472014Z",
     "iopub.status.idle": "2021-09-22T05:04:33.485991Z",
     "shell.execute_reply": "2021-09-22T05:04:33.484979Z",
     "shell.execute_reply.started": "2021-09-22T05:04:33.473011Z"
    },
    "tags": []
   },
   "outputs": [],
   "source": [
    "history = History()\n",
    "rover = BasicRover(\n",
    "    np.array([1.0, 1.0, 0.0]), 0.5,\n",
    "    sensor=NoisySensor(obstacles=world.obstacles),\n",
    "    localizer=ImaginalLocalizer(),\n",
    "    controller=ConstantSpeedController(w=np.pi/32),\n",
    "    history=history\n",
    ")\n",
    "world.append_rover(rover)"
   ]
  },
  {
   "cell_type": "code",
   "execution_count": 4,
   "id": "b70113cc-5ce7-4638-9f57-f5b3c8fdb21e",
   "metadata": {
    "ExecuteTime": {
     "end_time": "2021-08-27T15:31:51.153307Z",
     "start_time": "2021-08-27T15:31:51.141339Z"
    },
    "execution": {
     "iopub.execute_input": "2021-09-22T05:04:33.488968Z",
     "iopub.status.busy": "2021-09-22T05:04:33.488968Z",
     "iopub.status.idle": "2021-09-22T05:04:33.595348Z",
     "shell.execute_reply": "2021-09-22T05:04:33.593341Z",
     "shell.execute_reply.started": "2021-09-22T05:04:33.488968Z"
    },
    "tags": []
   },
   "outputs": [
    {
     "data": {
      "application/vnd.jupyter.widget-view+json": {
       "model_id": "cb7a90ed350b4a45ab46add8e180ce32",
       "version_major": 2,
       "version_minor": 0
      },
      "text/plain": [
       "  0%|          | 0/200 [00:00<?, ?it/s]"
      ]
     },
     "metadata": {},
     "output_type": "display_data"
    }
   ],
   "source": [
    "world.simulate()"
   ]
  },
  {
   "cell_type": "code",
   "execution_count": 5,
   "id": "2a639457-65c2-4435-98df-3ba63e7039ca",
   "metadata": {
    "ExecuteTime": {
     "end_time": "2021-08-27T15:31:51.199404Z",
     "start_time": "2021-08-27T15:31:51.183226Z"
    },
    "execution": {
     "iopub.execute_input": "2021-09-22T05:04:33.598340Z",
     "iopub.status.busy": "2021-09-22T05:04:33.597338Z",
     "iopub.status.idle": "2021-09-22T05:04:33.828718Z",
     "shell.execute_reply": "2021-09-22T05:04:33.827758Z",
     "shell.execute_reply.started": "2021-09-22T05:04:33.598340Z"
    },
    "tags": []
   },
   "outputs": [
    {
     "data": {
      "application/vnd.jupyter.widget-view+json": {
       "model_id": "5b25fb15c3cd49c1a3a75817fa0c7d10",
       "version_major": 2,
       "version_minor": 0
      },
      "text/plain": [
       "Canvas(toolbar=Toolbar(toolitems=[('Home', 'Reset original view', 'home', 'home'), ('Back', 'Back to previous …"
      ]
     },
     "metadata": {},
     "output_type": "display_data"
    }
   ],
   "source": [
    "history.plot(\n",
    "    xlim=[0, 20], ylim=[0, 20],\n",
    "    obstacles=world.obstacles, enlarge_obstacle=rover.r,\n",
    "    draw_sensing_points=True\n",
    ")"
   ]
  },
  {
   "cell_type": "code",
   "execution_count": 6,
   "id": "820fd150-68ac-4a6c-a8bc-f9cdc9d14fad",
   "metadata": {
    "ExecuteTime": {
     "end_time": "2021-08-27T15:31:51.323439Z",
     "start_time": "2021-08-27T15:31:51.270616Z"
    },
    "execution": {
     "iopub.execute_input": "2021-09-22T05:04:33.829713Z",
     "iopub.status.busy": "2021-09-22T05:04:33.829713Z",
     "iopub.status.idle": "2021-09-22T05:04:33.938423Z",
     "shell.execute_reply": "2021-09-22T05:04:33.937452Z",
     "shell.execute_reply.started": "2021-09-22T05:04:33.829713Z"
    },
    "tags": []
   },
   "outputs": [
    {
     "data": {
      "application/vnd.jupyter.widget-view+json": {
       "model_id": "53d0ecda5405456f94f5d7d622bd35c0",
       "version_major": 2,
       "version_minor": 0
      },
      "text/plain": [
       "Canvas(toolbar=Toolbar(toolitems=[('Home', 'Reset original view', 'home', 'home'), ('Back', 'Back to previous …"
      ]
     },
     "metadata": {},
     "output_type": "display_data"
    },
    {
     "data": {
      "application/vnd.jupyter.widget-view+json": {
       "model_id": "f5f56e0d0c0e41339fe19fdc754998fd",
       "version_major": 2,
       "version_minor": 0
      },
      "text/plain": [
       "  0%|          | 0/200 [00:00<?, ?it/s]"
      ]
     },
     "metadata": {},
     "output_type": "display_data"
    }
   ],
   "source": [
    "history.animate(\n",
    "    xlim=[0, 20], ylim=[0, 20],\n",
    "    obstacles=world.obstacles,\n",
    "    enlarge_obstacle=rover.r,\n",
    "    # save_path=\"log/sensor.mp4\",\n",
    "    debug=False\n",
    ")"
   ]
  },
  {
   "cell_type": "code",
   "execution_count": null,
   "id": "71a12e31-f241-4f50-a482-5870e3b82f29",
   "metadata": {},
   "outputs": [],
   "source": []
  }
 ],
 "metadata": {
  "kernelspec": {
   "display_name": "Python 3",
   "language": "python",
   "name": "python3"
  },
  "language_info": {
   "codemirror_mode": {
    "name": "ipython",
    "version": 3
   },
   "file_extension": ".py",
   "mimetype": "text/x-python",
   "name": "python",
   "nbconvert_exporter": "python",
   "pygments_lexer": "ipython3",
   "version": "3.7.10"
  }
 },
 "nbformat": 4,
 "nbformat_minor": 5
}
