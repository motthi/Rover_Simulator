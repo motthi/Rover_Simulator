{
 "cells": [
  {
   "cell_type": "code",
   "execution_count": 1,
   "id": "1c15fcf2-37d9-4da1-a5a5-9c9d22d4012c",
   "metadata": {
    "execution": {
     "iopub.execute_input": "2021-09-22T05:06:08.395561Z",
     "iopub.status.busy": "2021-09-22T05:06:08.394563Z",
     "iopub.status.idle": "2021-09-22T05:06:09.598347Z",
     "shell.execute_reply": "2021-09-22T05:06:09.597347Z",
     "shell.execute_reply.started": "2021-09-22T05:06:08.395561Z"
    },
    "tags": []
   },
   "outputs": [],
   "source": [
    "import sys\n",
    "sys.path.append('../')\n",
    "import numpy as np\n",
    "import matplotlib\n",
    "%matplotlib widget\n",
    "\n",
    "from rover_simulator.world import World\n",
    "from rover_simulator.rover import BasicRover\n",
    "from rover_simulator.history import History\n",
    "from rover_simulator.collision_detector import CollisionDetector\n",
    "from rover_simulator.navigation.localizer import ImaginalLocalizer\n",
    "from rover_simulator.navigation.controller import ConstantSpeedController"
   ]
  },
  {
   "cell_type": "code",
   "execution_count": 2,
   "id": "4d95896f-6a4a-4a7e-8f60-80db9464e183",
   "metadata": {
    "execution": {
     "iopub.execute_input": "2021-09-22T05:06:09.600341Z",
     "iopub.status.busy": "2021-09-22T05:06:09.600341Z",
     "iopub.status.idle": "2021-09-22T05:06:09.615306Z",
     "shell.execute_reply": "2021-09-22T05:06:09.613306Z",
     "shell.execute_reply.started": "2021-09-22T05:06:09.600341Z"
    },
    "tags": []
   },
   "outputs": [],
   "source": [
    "world = World(end_step=200)\n",
    "world.read_objects(\"../rover_simulator/examples/environment_simple.txt\")"
   ]
  },
  {
   "cell_type": "code",
   "execution_count": 3,
   "id": "0462f9c8-6ae5-4119-b812-a4ad651c8551",
   "metadata": {
    "execution": {
     "iopub.execute_input": "2021-09-22T05:06:09.619290Z",
     "iopub.status.busy": "2021-09-22T05:06:09.617320Z",
     "iopub.status.idle": "2021-09-22T05:06:09.631255Z",
     "shell.execute_reply": "2021-09-22T05:06:09.628267Z",
     "shell.execute_reply.started": "2021-09-22T05:06:09.619290Z"
    },
    "tags": []
   },
   "outputs": [],
   "source": [
    "history = History()\n",
    "rover = BasicRover(\n",
    "    np.array([1.0, 1.0, 0.0]), 0.5,\n",
    "    localizer=ImaginalLocalizer(),\n",
    "    controller=ConstantSpeedController(w=np.pi/32),\n",
    "    collision_detector=CollisionDetector(world.obstacles),\n",
    "    history=history\n",
    ")\n",
    "world.append_rover(rover)"
   ]
  },
  {
   "cell_type": "code",
   "execution_count": 4,
   "id": "2a4c0812-15a6-442d-8f2b-07bba4451cac",
   "metadata": {
    "execution": {
     "iopub.execute_input": "2021-09-22T05:06:09.634249Z",
     "iopub.status.busy": "2021-09-22T05:06:09.634249Z",
     "iopub.status.idle": "2021-09-22T05:06:09.739965Z",
     "shell.execute_reply": "2021-09-22T05:06:09.738968Z",
     "shell.execute_reply.started": "2021-09-22T05:06:09.634249Z"
    },
    "tags": []
   },
   "outputs": [
    {
     "data": {
      "application/vnd.jupyter.widget-view+json": {
       "model_id": "bc8edbae55484892bd9856f1dd62ac29",
       "version_major": 2,
       "version_minor": 0
      },
      "text/plain": [
       "  0%|          | 0/200 [00:00<?, ?it/s]"
      ]
     },
     "metadata": {},
     "output_type": "display_data"
    }
   ],
   "source": [
    "world.simulate()"
   ]
  },
  {
   "cell_type": "code",
   "execution_count": 5,
   "id": "ed46ed8a-c7ea-4baa-bdf1-a7c4e00fd5dd",
   "metadata": {
    "execution": {
     "iopub.execute_input": "2021-09-22T05:06:09.740961Z",
     "iopub.status.busy": "2021-09-22T05:06:09.740961Z",
     "iopub.status.idle": "2021-09-22T05:06:09.993288Z",
     "shell.execute_reply": "2021-09-22T05:06:09.992288Z",
     "shell.execute_reply.started": "2021-09-22T05:06:09.740961Z"
    },
    "tags": []
   },
   "outputs": [
    {
     "data": {
      "application/vnd.jupyter.widget-view+json": {
       "model_id": "6d7502ecd4494eea8585c2e61341fe69",
       "version_major": 2,
       "version_minor": 0
      },
      "text/plain": [
       "Canvas(toolbar=Toolbar(toolitems=[('Home', 'Reset original view', 'home', 'home'), ('Back', 'Back to previous …"
      ]
     },
     "metadata": {},
     "output_type": "display_data"
    }
   ],
   "source": [
    "history.plot(\n",
    "    xlim=[0, 20], ylim=[0, 20],\n",
    "    obstacles=world.obstacles, enlarge_obstacle=rover.r,\n",
    "    draw_sensing_points=True\n",
    ")"
   ]
  },
  {
   "cell_type": "code",
   "execution_count": 6,
   "id": "6fc6ae3f-194f-46ba-96ef-f8aa4743c823",
   "metadata": {
    "execution": {
     "iopub.execute_input": "2021-09-22T05:06:09.994284Z",
     "iopub.status.busy": "2021-09-22T05:06:09.994284Z",
     "iopub.status.idle": "2021-09-22T05:06:11.366615Z",
     "shell.execute_reply": "2021-09-22T05:06:11.365616Z",
     "shell.execute_reply.started": "2021-09-22T05:06:09.994284Z"
    },
    "tags": []
   },
   "outputs": [
    {
     "data": {
      "application/vnd.jupyter.widget-view+json": {
       "model_id": "daf9110734bf40538deefefb283045c4",
       "version_major": 2,
       "version_minor": 0
      },
      "text/plain": [
       "Canvas(toolbar=Toolbar(toolitems=[('Home', 'Reset original view', 'home', 'home'), ('Back', 'Back to previous …"
      ]
     },
     "metadata": {},
     "output_type": "display_data"
    },
    {
     "data": {
      "application/vnd.jupyter.widget-view+json": {
       "model_id": "10e617afd67e4e2199da897103609a16",
       "version_major": 2,
       "version_minor": 0
      },
      "text/plain": [
       "  0%|          | 0/200 [00:00<?, ?it/s]"
      ]
     },
     "metadata": {},
     "output_type": "display_data"
    }
   ],
   "source": [
    "history.animate(\n",
    "    xlim=[0, 20], ylim=[0, 20],\n",
    "    obstacles=world.obstacles,\n",
    "    enlarge_obstacle=rover.r,\n",
    "    #save_path=\"log/collision_detector.mp4\",\n",
    "    debug=True\n",
    ")"
   ]
  },
  {
   "cell_type": "code",
   "execution_count": null,
   "id": "66274a7e-443e-4a97-9c67-7db2c7062121",
   "metadata": {},
   "outputs": [],
   "source": []
  }
 ],
 "metadata": {
  "kernelspec": {
   "display_name": "Python 3",
   "language": "python",
   "name": "python3"
  },
  "language_info": {
   "codemirror_mode": {
    "name": "ipython",
    "version": 3
   },
   "file_extension": ".py",
   "mimetype": "text/x-python",
   "name": "python",
   "nbconvert_exporter": "python",
   "pygments_lexer": "ipython3",
   "version": "3.7.10"
  }
 },
 "nbformat": 4,
 "nbformat_minor": 5
}
