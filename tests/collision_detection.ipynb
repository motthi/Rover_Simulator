{
 "cells": [
  {
   "cell_type": "code",
   "execution_count": 1,
   "id": "1c15fcf2-37d9-4da1-a5a5-9c9d22d4012c",
   "metadata": {
    "execution": {
     "iopub.execute_input": "2021-09-04T08:18:06.491914Z",
     "iopub.status.busy": "2021-09-04T08:18:06.491914Z",
     "iopub.status.idle": "2021-09-04T08:18:07.533911Z",
     "shell.execute_reply": "2021-09-04T08:18:07.532890Z",
     "shell.execute_reply.started": "2021-09-04T08:18:06.491914Z"
    },
    "tags": []
   },
   "outputs": [],
   "source": [
    "import sys\n",
    "sys.path.append('../')\n",
    "import numpy as np\n",
    "import matplotlib\n",
    "%matplotlib widget\n",
    "\n",
    "from rover_simulator.world import World\n",
    "from rover_simulator.rover import BasicRover, History\n",
    "from rover_simulator.collision_detector import CollisionDetector\n",
    "from rover_simulator.navigation.localizer import ImaginalLocalizer\n",
    "from rover_simulator.navigation.controller import ConstantSpeedController"
   ]
  },
  {
   "cell_type": "code",
   "execution_count": 2,
   "id": "4d95896f-6a4a-4a7e-8f60-80db9464e183",
   "metadata": {
    "execution": {
     "iopub.execute_input": "2021-09-04T08:18:07.534889Z",
     "iopub.status.busy": "2021-09-04T08:18:07.534889Z",
     "iopub.status.idle": "2021-09-04T08:18:07.548855Z",
     "shell.execute_reply": "2021-09-04T08:18:07.547858Z",
     "shell.execute_reply.started": "2021-09-04T08:18:07.534889Z"
    },
    "tags": []
   },
   "outputs": [],
   "source": [
    "world = World(end_step=200)\n",
    "world.read_objects(\"../rover_simulator/examples/environment_simple.txt\")"
   ]
  },
  {
   "cell_type": "code",
   "execution_count": 3,
   "id": "0462f9c8-6ae5-4119-b812-a4ad651c8551",
   "metadata": {
    "execution": {
     "iopub.execute_input": "2021-09-04T08:18:19.035367Z",
     "iopub.status.busy": "2021-09-04T08:18:19.035367Z",
     "iopub.status.idle": "2021-09-04T08:18:19.057308Z",
     "shell.execute_reply": "2021-09-04T08:18:19.056337Z",
     "shell.execute_reply.started": "2021-09-04T08:18:19.035367Z"
    },
    "tags": []
   },
   "outputs": [],
   "source": [
    "rover = BasicRover(\n",
    "    np.array([1.0, 1.0, 0.0]), 0.5,\n",
    "    localizer=ImaginalLocalizer(),\n",
    "    controller=ConstantSpeedController(omega=np.pi/32),\n",
    "    collision_detector=CollisionDetector(world.obstacles),\n",
    "    history=History()\n",
    ")\n",
    "world.append_rover(rover)"
   ]
  },
  {
   "cell_type": "code",
   "execution_count": 4,
   "id": "2a4c0812-15a6-442d-8f2b-07bba4451cac",
   "metadata": {
    "execution": {
     "iopub.execute_input": "2021-09-04T08:18:19.451257Z",
     "iopub.status.busy": "2021-09-04T08:18:19.451257Z",
     "iopub.status.idle": "2021-09-04T08:18:19.527053Z",
     "shell.execute_reply": "2021-09-04T08:18:19.526055Z",
     "shell.execute_reply.started": "2021-09-04T08:18:19.451257Z"
    },
    "tags": []
   },
   "outputs": [
    {
     "data": {
      "application/vnd.jupyter.widget-view+json": {
       "model_id": "ad7c101802364967bb0df571ec3eef64",
       "version_major": 2,
       "version_minor": 0
      },
      "text/plain": [
       "  0%|          | 0/200 [00:00<?, ?it/s]"
      ]
     },
     "metadata": {},
     "output_type": "display_data"
    }
   ],
   "source": [
    "world.simulate()"
   ]
  },
  {
   "cell_type": "code",
   "execution_count": 5,
   "id": "ed46ed8a-c7ea-4baa-bdf1-a7c4e00fd5dd",
   "metadata": {
    "execution": {
     "iopub.execute_input": "2021-09-04T08:18:22.274484Z",
     "iopub.status.busy": "2021-09-04T08:18:22.274484Z",
     "iopub.status.idle": "2021-09-04T08:18:22.347290Z",
     "shell.execute_reply": "2021-09-04T08:18:22.346292Z",
     "shell.execute_reply.started": "2021-09-04T08:18:22.274484Z"
    },
    "tags": []
   },
   "outputs": [
    {
     "data": {
      "application/vnd.jupyter.widget-view+json": {
       "model_id": "7edb53d4186642d1a74ba7a3fa343b63",
       "version_major": 2,
       "version_minor": 0
      },
      "text/plain": [
       "Canvas(toolbar=Toolbar(toolitems=[('Home', 'Reset original view', 'home', 'home'), ('Back', 'Back to previous …"
      ]
     },
     "metadata": {},
     "output_type": "display_data"
    }
   ],
   "source": [
    "world.plot(xlim=[0, 20], ylim=[0, 20], enlarge_obstacle=rover.r)"
   ]
  },
  {
   "cell_type": "code",
   "execution_count": 6,
   "id": "6fc6ae3f-194f-46ba-96ef-f8aa4743c823",
   "metadata": {
    "execution": {
     "iopub.execute_input": "2021-09-04T08:18:26.931213Z",
     "iopub.status.busy": "2021-09-04T08:18:26.931213Z",
     "iopub.status.idle": "2021-09-04T08:18:27.030201Z",
     "shell.execute_reply": "2021-09-04T08:18:27.028952Z",
     "shell.execute_reply.started": "2021-09-04T08:18:26.931213Z"
    },
    "tags": []
   },
   "outputs": [
    {
     "data": {
      "application/vnd.jupyter.widget-view+json": {
       "model_id": "362b1e0feb7a4da0ae77c73603590f86",
       "version_major": 2,
       "version_minor": 0
      },
      "text/plain": [
       "Canvas(toolbar=Toolbar(toolitems=[('Home', 'Reset original view', 'home', 'home'), ('Back', 'Back to previous …"
      ]
     },
     "metadata": {},
     "output_type": "display_data"
    },
    {
     "data": {
      "application/vnd.jupyter.widget-view+json": {
       "model_id": "1222d7af13fc4b7c93b9fee9c98cc57f",
       "version_major": 2,
       "version_minor": 0
      },
      "text/plain": [
       "  0%|          | 0/200 [00:00<?, ?it/s]"
      ]
     },
     "metadata": {},
     "output_type": "display_data"
    }
   ],
   "source": [
    "world.animate(\n",
    "    xlim=[0, 20], ylim=[0, 20],\n",
    "    enlarge_obstacle=rover.r,\n",
    "    #save_path=\"log/collision_detector.mp4\",\n",
    "    debug=False\n",
    ")"
   ]
  },
  {
   "cell_type": "code",
   "execution_count": null,
   "id": "66274a7e-443e-4a97-9c67-7db2c7062121",
   "metadata": {},
   "outputs": [],
   "source": []
  }
 ],
 "metadata": {
  "kernelspec": {
   "display_name": "Python 3",
   "language": "python",
   "name": "python3"
  },
  "language_info": {
   "codemirror_mode": {
    "name": "ipython",
    "version": 3
   },
   "file_extension": ".py",
   "mimetype": "text/x-python",
   "name": "python",
   "nbconvert_exporter": "python",
   "pygments_lexer": "ipython3",
   "version": "3.7.10"
  }
 },
 "nbformat": 4,
 "nbformat_minor": 5
}
