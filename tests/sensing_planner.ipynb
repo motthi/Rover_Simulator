{
 "cells": [
  {
   "cell_type": "code",
   "execution_count": 1,
   "id": "a0dd2750-6570-44b0-a2bc-7448f7397f72",
   "metadata": {
    "execution": {
     "iopub.execute_input": "2021-09-26T04:49:07.483968Z",
     "iopub.status.busy": "2021-09-26T04:49:07.483968Z",
     "iopub.status.idle": "2021-09-26T04:49:11.712469Z",
     "shell.execute_reply": "2021-09-26T04:49:11.711359Z",
     "shell.execute_reply.started": "2021-09-26T04:49:07.483968Z"
    },
    "tags": []
   },
   "outputs": [],
   "source": [
    "import sys\n",
    "sys.path.append('../')\n",
    "import numpy as np\n",
    "import matplotlib\n",
    "%matplotlib widget\n",
    "\n",
    "from rover_simulator.world import World\n",
    "from rover_simulator.sensor import ImaginalSensor\n",
    "from rover_simulator.rover import BasicRover\n",
    "from rover_simulator.history import History\n",
    "from rover_simulator.navigation.localizer import ImaginalLocalizer\n",
    "from rover_simulator.navigation.controller import ConstantSpeedController\n",
    "from rover_simulator.navigation.sensing_planner import SimpleSensingPlanner"
   ]
  },
  {
   "cell_type": "code",
   "execution_count": 2,
   "id": "c433f2ea-1ea3-410a-aa8a-2fd67c152078",
   "metadata": {
    "execution": {
     "iopub.execute_input": "2021-09-26T04:49:11.713469Z",
     "iopub.status.busy": "2021-09-26T04:49:11.712469Z",
     "iopub.status.idle": "2021-09-26T04:49:11.727433Z",
     "shell.execute_reply": "2021-09-26T04:49:11.726448Z",
     "shell.execute_reply.started": "2021-09-26T04:49:11.713469Z"
    },
    "tags": []
   },
   "outputs": [],
   "source": [
    "world = World(end_step=200)\n",
    "world.read_objects(\"../rover_simulator/examples/environment_complex.txt\")"
   ]
  },
  {
   "cell_type": "code",
   "execution_count": 3,
   "id": "03e644e5-01d4-4b3c-b5ca-65224562ff7c",
   "metadata": {
    "execution": {
     "iopub.execute_input": "2021-09-26T04:49:11.731423Z",
     "iopub.status.busy": "2021-09-26T04:49:11.730430Z",
     "iopub.status.idle": "2021-09-26T04:49:11.742393Z",
     "shell.execute_reply": "2021-09-26T04:49:11.741398Z",
     "shell.execute_reply.started": "2021-09-26T04:49:11.731423Z"
    },
    "tags": []
   },
   "outputs": [],
   "source": [
    "history = History()\n",
    "rover = BasicRover(\n",
    "    np.array([1.0, 1.0, 0.0]), 0.5,\n",
    "    sensor=ImaginalSensor(obstacles=world.obstacles),\n",
    "    sensing_planner=SimpleSensingPlanner(sense_interval_distance=8.0, sense_interval_angle=np.pi/4),\n",
    "    controller=ConstantSpeedController(w=np.pi/32),\n",
    "    localizer=ImaginalLocalizer(),\n",
    "    history=history\n",
    ")\n",
    "world.append_rover(rover)"
   ]
  },
  {
   "cell_type": "code",
   "execution_count": 4,
   "id": "d67c37b6-70f7-45d6-b0f2-b3ee5f3976ca",
   "metadata": {
    "execution": {
     "iopub.execute_input": "2021-09-26T04:49:11.746383Z",
     "iopub.status.busy": "2021-09-26T04:49:11.745388Z",
     "iopub.status.idle": "2021-09-26T04:49:11.851247Z",
     "shell.execute_reply": "2021-09-26T04:49:11.851247Z",
     "shell.execute_reply.started": "2021-09-26T04:49:11.746383Z"
    },
    "tags": []
   },
   "outputs": [
    {
     "data": {
      "application/vnd.jupyter.widget-view+json": {
       "model_id": "b234fc1727764a11aee23a17c5261f02",
       "version_major": 2,
       "version_minor": 0
      },
      "text/plain": [
       "  0%|          | 0/200 [00:00<?, ?it/s]"
      ]
     },
     "metadata": {},
     "output_type": "display_data"
    }
   ],
   "source": [
    "world.simulate()"
   ]
  },
  {
   "cell_type": "code",
   "execution_count": 5,
   "id": "24451901-d891-4fc0-8991-8fffe8548903",
   "metadata": {
    "execution": {
     "iopub.execute_input": "2021-09-26T04:49:11.853242Z",
     "iopub.status.busy": "2021-09-26T04:49:11.853242Z",
     "iopub.status.idle": "2021-09-26T04:49:11.977966Z",
     "shell.execute_reply": "2021-09-26T04:49:11.976968Z",
     "shell.execute_reply.started": "2021-09-26T04:49:11.853242Z"
    },
    "tags": []
   },
   "outputs": [
    {
     "data": {
      "application/vnd.jupyter.widget-view+json": {
       "model_id": "6bdddaf47c6b4c9a9fd8f69df2e4c947",
       "version_major": 2,
       "version_minor": 0
      },
      "text/plain": [
       "Canvas(toolbar=Toolbar(toolitems=[('Home', 'Reset original view', 'home', 'home'), ('Back', 'Back to previous …"
      ]
     },
     "metadata": {},
     "output_type": "display_data"
    }
   ],
   "source": [
    "history.plot(\n",
    "    xlim=[0, 20], ylim=[0, 20],\n",
    "    obstacles=world.obstacles, enlarge_obstacle=rover.r,\n",
    "    draw_sensing_points=True\n",
    ")"
   ]
  },
  {
   "cell_type": "code",
   "execution_count": 9,
   "id": "b4fa15ad-9a5e-4171-b316-17de7ad0e703",
   "metadata": {
    "execution": {
     "iopub.execute_input": "2021-09-22T04:49:51.752897Z",
     "iopub.status.busy": "2021-09-22T04:49:51.751901Z",
     "iopub.status.idle": "2021-09-22T04:49:51.943387Z",
     "shell.execute_reply": "2021-09-22T04:49:51.942390Z",
     "shell.execute_reply.started": "2021-09-22T04:49:51.752897Z"
    }
   },
   "outputs": [
    {
     "data": {
      "application/vnd.jupyter.widget-view+json": {
       "model_id": "6efa9beae4544b3e996cc900bd75aabf",
       "version_major": 2,
       "version_minor": 0
      },
      "text/plain": [
       "Canvas(toolbar=Toolbar(toolitems=[('Home', 'Reset original view', 'home', 'home'), ('Back', 'Back to previous …"
      ]
     },
     "metadata": {},
     "output_type": "display_data"
    },
    {
     "data": {
      "application/vnd.jupyter.widget-view+json": {
       "model_id": "e3ed85f13925470886a1ba6350df504a",
       "version_major": 2,
       "version_minor": 0
      },
      "text/plain": [
       "  0%|          | 0/200 [00:00<?, ?it/s]"
      ]
     },
     "metadata": {},
     "output_type": "display_data"
    }
   ],
   "source": [
    "history.animate(\n",
    "    xlim=[0, 20], ylim=[0, 20],\n",
    "    obstacles=world.obstacles,\n",
    "    enlarge_obstacle=rover.r,\n",
    "    #save_path=\"log/sensing_planner.mp4\",\n",
    "    debug=False\n",
    ")"
   ]
  },
  {
   "cell_type": "code",
   "execution_count": null,
   "id": "9396c14a-33eb-45e5-bd28-8d5c4eed6802",
   "metadata": {},
   "outputs": [],
   "source": []
  }
 ],
 "metadata": {
  "kernelspec": {
   "display_name": "Python 3",
   "language": "python",
   "name": "python3"
  },
  "language_info": {
   "codemirror_mode": {
    "name": "ipython",
    "version": 3
   },
   "file_extension": ".py",
   "mimetype": "text/x-python",
   "name": "python",
   "nbconvert_exporter": "python",
   "pygments_lexer": "ipython3",
   "version": "3.7.10"
  }
 },
 "nbformat": 4,
 "nbformat_minor": 5
}
