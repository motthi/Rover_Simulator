{
 "cells": [
  {
   "cell_type": "code",
   "execution_count": 1,
   "id": "a0dd2750-6570-44b0-a2bc-7448f7397f72",
   "metadata": {
    "execution": {
     "iopub.execute_input": "2021-09-17T11:49:30.758134Z",
     "iopub.status.busy": "2021-09-17T11:49:30.757138Z",
     "iopub.status.idle": "2021-09-17T11:49:32.069086Z",
     "shell.execute_reply": "2021-09-17T11:49:32.069086Z",
     "shell.execute_reply.started": "2021-09-17T11:49:30.757138Z"
    },
    "tags": []
   },
   "outputs": [],
   "source": [
    "import sys\n",
    "sys.path.append('../')\n",
    "import numpy as np\n",
    "import matplotlib\n",
    "%matplotlib widget\n",
    "\n",
    "from rover_simulator.world import World\n",
    "from rover_simulator.sensor import ImaginalSensor\n",
    "from rover_simulator.rover import BasicRover, History\n",
    "from rover_simulator.navigation.localizer import ImaginalLocalizer\n",
    "from rover_simulator.navigation.controller import ConstantSpeedController\n",
    "from rover_simulator.navigation.sensing_planner import SimpleSensingPlanner"
   ]
  },
  {
   "cell_type": "code",
   "execution_count": 28,
   "id": "c433f2ea-1ea3-410a-aa8a-2fd67c152078",
   "metadata": {
    "execution": {
     "iopub.execute_input": "2021-09-17T11:55:42.319941Z",
     "iopub.status.busy": "2021-09-17T11:55:42.319941Z",
     "iopub.status.idle": "2021-09-17T11:55:42.334898Z",
     "shell.execute_reply": "2021-09-17T11:55:42.333902Z",
     "shell.execute_reply.started": "2021-09-17T11:55:42.319941Z"
    },
    "tags": []
   },
   "outputs": [],
   "source": [
    "world = World(end_step=200)\n",
    "world.read_objects(\"../rover_simulator/examples/environment_complex.txt\")"
   ]
  },
  {
   "cell_type": "code",
   "execution_count": 29,
   "id": "03e644e5-01d4-4b3c-b5ca-65224562ff7c",
   "metadata": {
    "execution": {
     "iopub.execute_input": "2021-09-17T11:55:42.605455Z",
     "iopub.status.busy": "2021-09-17T11:55:42.605455Z",
     "iopub.status.idle": "2021-09-17T11:55:42.617421Z",
     "shell.execute_reply": "2021-09-17T11:55:42.616423Z",
     "shell.execute_reply.started": "2021-09-17T11:55:42.605455Z"
    },
    "tags": []
   },
   "outputs": [],
   "source": [
    "rover = BasicRover(\n",
    "    np.array([1.0, 1.0, 0.0]), 0.5,\n",
    "    sensor=ImaginalSensor(obstacles=world.obstacles),\n",
    "    sensing_planner=SimpleSensingPlanner(sense_interval_distance=8.0, sense_interval_angle=np.pi/4),\n",
    "    controller=ConstantSpeedController(w=np.pi/32),\n",
    "    localizer=ImaginalLocalizer(),\n",
    "    history=History()\n",
    ")\n",
    "world.append_rover(rover)"
   ]
  },
  {
   "cell_type": "code",
   "execution_count": 30,
   "id": "d67c37b6-70f7-45d6-b0f2-b3ee5f3976ca",
   "metadata": {
    "execution": {
     "iopub.execute_input": "2021-09-17T11:55:43.034568Z",
     "iopub.status.busy": "2021-09-17T11:55:43.034568Z",
     "iopub.status.idle": "2021-09-17T11:55:43.108368Z",
     "shell.execute_reply": "2021-09-17T11:55:43.107370Z",
     "shell.execute_reply.started": "2021-09-17T11:55:43.034568Z"
    },
    "tags": []
   },
   "outputs": [
    {
     "data": {
      "application/vnd.jupyter.widget-view+json": {
       "model_id": "f7549b6ec8af4a25816ea296866307c3",
       "version_major": 2,
       "version_minor": 0
      },
      "text/plain": [
       "  0%|          | 0/200 [00:00<?, ?it/s]"
      ]
     },
     "metadata": {},
     "output_type": "display_data"
    }
   ],
   "source": [
    "world.simulate()"
   ]
  },
  {
   "cell_type": "code",
   "execution_count": 31,
   "id": "4ac71ce9-b3f2-4511-9275-0f465d416244",
   "metadata": {
    "execution": {
     "iopub.execute_input": "2021-09-17T11:55:44.477063Z",
     "iopub.status.busy": "2021-09-17T11:55:44.477063Z",
     "iopub.status.idle": "2021-09-17T11:55:44.569964Z",
     "shell.execute_reply": "2021-09-17T11:55:44.569003Z",
     "shell.execute_reply.started": "2021-09-17T11:55:44.477063Z"
    },
    "tags": []
   },
   "outputs": [
    {
     "data": {
      "application/vnd.jupyter.widget-view+json": {
       "model_id": "093d73a70943429788e42755c0b9bede",
       "version_major": 2,
       "version_minor": 0
      },
      "text/plain": [
       "Canvas(toolbar=Toolbar(toolitems=[('Home', 'Reset original view', 'home', 'home'), ('Back', 'Back to previous …"
      ]
     },
     "metadata": {},
     "output_type": "display_data"
    }
   ],
   "source": [
    "world.plot([0, 20], [0, 20], enlarge_obstacle=rover.r)"
   ]
  },
  {
   "cell_type": "code",
   "execution_count": 32,
   "id": "1e654586-dae7-4972-9021-d9cc71aaf2ca",
   "metadata": {
    "execution": {
     "iopub.execute_input": "2021-09-17T11:56:11.592344Z",
     "iopub.status.busy": "2021-09-17T11:56:11.591308Z",
     "iopub.status.idle": "2021-09-17T11:56:11.695067Z",
     "shell.execute_reply": "2021-09-17T11:56:11.695067Z",
     "shell.execute_reply.started": "2021-09-17T11:56:11.592344Z"
    },
    "tags": []
   },
   "outputs": [
    {
     "data": {
      "application/vnd.jupyter.widget-view+json": {
       "model_id": "2d03676c591944e3af83f10465ac05d9",
       "version_major": 2,
       "version_minor": 0
      },
      "text/plain": [
       "Canvas(toolbar=Toolbar(toolitems=[('Home', 'Reset original view', 'home', 'home'), ('Back', 'Back to previous …"
      ]
     },
     "metadata": {},
     "output_type": "display_data"
    },
    {
     "data": {
      "application/vnd.jupyter.widget-view+json": {
       "model_id": "9a2a3a0ab1134c83b05048d496d6d15a",
       "version_major": 2,
       "version_minor": 0
      },
      "text/plain": [
       "  0%|          | 0/200 [00:00<?, ?it/s]"
      ]
     },
     "metadata": {},
     "output_type": "display_data"
    }
   ],
   "source": [
    "world.animate(\n",
    "    xlim=[0, 20], ylim=[0, 20],\n",
    "    enlarge_obstacle=rover.r,\n",
    "    #save_path=\"log/sensing_planner.mp4\",\n",
    "    debug=False\n",
    ")"
   ]
  },
  {
   "cell_type": "code",
   "execution_count": 7,
   "id": "24451901-d891-4fc0-8991-8fffe8548903",
   "metadata": {
    "execution": {
     "iopub.execute_input": "2021-09-17T11:49:32.461038Z",
     "iopub.status.busy": "2021-09-17T11:49:32.461038Z",
     "iopub.status.idle": "2021-09-17T11:49:32.475997Z",
     "shell.execute_reply": "2021-09-17T11:49:32.475001Z",
     "shell.execute_reply.started": "2021-09-17T11:49:32.461038Z"
    },
    "tags": []
   },
   "outputs": [
    {
     "data": {
      "text/plain": [
       "<rover_simulator.sensor.ImaginalSensor at 0x194e257d408>"
      ]
     },
     "execution_count": 7,
     "metadata": {},
     "output_type": "execute_result"
    }
   ],
   "source": [
    "rover.sensor"
   ]
  },
  {
   "cell_type": "code",
   "execution_count": 8,
   "id": "18e9fd4f-8fe1-4b94-bffb-d1f7b0d98480",
   "metadata": {
    "execution": {
     "iopub.execute_input": "2021-09-17T11:49:32.478991Z",
     "iopub.status.busy": "2021-09-17T11:49:32.478991Z",
     "iopub.status.idle": "2021-09-17T11:49:32.509907Z",
     "shell.execute_reply": "2021-09-17T11:49:32.506922Z",
     "shell.execute_reply.started": "2021-09-17T11:49:32.478991Z"
    },
    "tags": []
   },
   "outputs": [
    {
     "data": {
      "text/plain": [
       "[[{'distance': 7.810249675906654, 'angle': 0.6947382761967031, 'radius': 0.3},\n",
       "  {'distance': 8.602325267042627, 'angle': 0.6202494859828215, 'radius': 0.4},\n",
       "  {'distance': 9.219544457292887, 'angle': 0.7086262721276703, 'radius': 0.2}],\n",
       " None,\n",
       " None,\n",
       " None,\n",
       " None,\n",
       " None,\n",
       " None,\n",
       " None,\n",
       " None,\n",
       " None,\n",
       " None,\n",
       " None,\n",
       " None,\n",
       " None,\n",
       " None,\n",
       " None,\n",
       " None,\n",
       " None,\n",
       " None,\n",
       " None,\n",
       " None,\n",
       " None,\n",
       " None,\n",
       " None,\n",
       " None,\n",
       " None,\n",
       " None,\n",
       " None,\n",
       " None,\n",
       " None,\n",
       " None,\n",
       " None,\n",
       " None,\n",
       " None,\n",
       " None,\n",
       " None,\n",
       " None,\n",
       " None,\n",
       " None,\n",
       " None,\n",
       " None,\n",
       " None,\n",
       " None,\n",
       " None,\n",
       " None,\n",
       " None,\n",
       " None,\n",
       " None,\n",
       " None,\n",
       " None,\n",
       " None,\n",
       " None,\n",
       " None,\n",
       " None,\n",
       " None,\n",
       " None,\n",
       " None,\n",
       " None,\n",
       " None,\n",
       " None,\n",
       " None,\n",
       " None,\n",
       " None,\n",
       " None,\n",
       " None,\n",
       " None,\n",
       " None,\n",
       " None,\n",
       " None,\n",
       " None,\n",
       " None,\n",
       " None,\n",
       " None,\n",
       " None,\n",
       " None,\n",
       " None,\n",
       " None,\n",
       " None,\n",
       " None,\n",
       " None,\n",
       " None,\n",
       " None,\n",
       " None,\n",
       " None,\n",
       " None,\n",
       " None,\n",
       " None,\n",
       " None,\n",
       " None,\n",
       " None,\n",
       " None,\n",
       " None,\n",
       " None,\n",
       " None,\n",
       " None,\n",
       " None,\n",
       " None,\n",
       " None,\n",
       " None,\n",
       " None,\n",
       " None,\n",
       " [{'distance': 7.404944480692207, 'angle': 0.5149633273399652, 'radius': 0.8},\n",
       "  {'distance': 0.614818319506718, 'angle': -0.3051397928670564, 'radius': 0.6},\n",
       "  {'distance': 6.852457709148345, 'angle': 0.20960401983213206, 'radius': 1.0},\n",
       "  {'distance': 7.005651329405367,\n",
       "   'angle': -0.11377356351905898,\n",
       "   'radius': 1.0},\n",
       "  {'distance': 7.017904264641282,\n",
       "   'angle': -0.31580062160134414,\n",
       "   'radius': 1.0},\n",
       "  {'distance': 7.8231786661645275,\n",
       "   'angle': -0.39584000303071576,\n",
       "   'radius': 1.3},\n",
       "  {'distance': 7.710705705466736, 'angle': -0.743974012536245, 'radius': 0.5},\n",
       "  {'distance': 9.772252967189065,\n",
       "   'angle': -0.7445251456768134,\n",
       "   'radius': 0.8}],\n",
       " None,\n",
       " None,\n",
       " None,\n",
       " None,\n",
       " None,\n",
       " None,\n",
       " None,\n",
       " None,\n",
       " None,\n",
       " None,\n",
       " None,\n",
       " None,\n",
       " None,\n",
       " None,\n",
       " None,\n",
       " None,\n",
       " None,\n",
       " None,\n",
       " None,\n",
       " None,\n",
       " None,\n",
       " None,\n",
       " None,\n",
       " None,\n",
       " None,\n",
       " None,\n",
       " None,\n",
       " None,\n",
       " None,\n",
       " None,\n",
       " None,\n",
       " None,\n",
       " None,\n",
       " None,\n",
       " None,\n",
       " None,\n",
       " None,\n",
       " None,\n",
       " None,\n",
       " None,\n",
       " None,\n",
       " None,\n",
       " None,\n",
       " None,\n",
       " None,\n",
       " None,\n",
       " None,\n",
       " None,\n",
       " None,\n",
       " None,\n",
       " None,\n",
       " None,\n",
       " None,\n",
       " None,\n",
       " None,\n",
       " None,\n",
       " None,\n",
       " None,\n",
       " None,\n",
       " None,\n",
       " None,\n",
       " None,\n",
       " None,\n",
       " None,\n",
       " None,\n",
       " None,\n",
       " None,\n",
       " None,\n",
       " None,\n",
       " None,\n",
       " None,\n",
       " None,\n",
       " None,\n",
       " None,\n",
       " None,\n",
       " None,\n",
       " None,\n",
       " None,\n",
       " None,\n",
       " None,\n",
       " None,\n",
       " None,\n",
       " None,\n",
       " None,\n",
       " None,\n",
       " None,\n",
       " None,\n",
       " None,\n",
       " None,\n",
       " None,\n",
       " None,\n",
       " None,\n",
       " None,\n",
       " None,\n",
       " None,\n",
       " None,\n",
       " None,\n",
       " None]"
      ]
     },
     "execution_count": 8,
     "metadata": {},
     "output_type": "execute_result"
    }
   ],
   "source": [
    "rover.history.sensing_results"
   ]
  },
  {
   "cell_type": "code",
   "execution_count": null,
   "id": "b4fa15ad-9a5e-4171-b316-17de7ad0e703",
   "metadata": {},
   "outputs": [],
   "source": []
  }
 ],
 "metadata": {
  "kernelspec": {
   "display_name": "Python 3",
   "language": "python",
   "name": "python3"
  },
  "language_info": {
   "codemirror_mode": {
    "name": "ipython",
    "version": 3
   },
   "file_extension": ".py",
   "mimetype": "text/x-python",
   "name": "python",
   "nbconvert_exporter": "python",
   "pygments_lexer": "ipython3",
   "version": "3.7.10"
  }
 },
 "nbformat": 4,
 "nbformat_minor": 5
}
