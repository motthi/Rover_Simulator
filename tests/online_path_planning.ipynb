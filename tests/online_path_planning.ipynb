{
 "cells": [
  {
   "cell_type": "code",
   "execution_count": 1,
   "id": "7a4c274f-2704-4a83-b0c5-cf69a9422cf0",
   "metadata": {
    "execution": {
     "iopub.execute_input": "2021-09-11T06:42:38.705807Z",
     "iopub.status.busy": "2021-09-11T06:42:38.705807Z",
     "iopub.status.idle": "2021-09-11T06:42:40.275151Z",
     "shell.execute_reply": "2021-09-11T06:42:40.274152Z",
     "shell.execute_reply.started": "2021-09-11T06:42:38.705807Z"
    },
    "tags": []
   },
   "outputs": [],
   "source": [
    "import sys\n",
    "sys.path.append('../')\n",
    "import numpy as np\n",
    "import matplotlib\n",
    "%matplotlib widget\n",
    "\n",
    "from rover_simulator.core import Obstacle, SensingPlanner\n",
    "from rover_simulator.sensor import ImaginalSensor, NoisySensor\n",
    "from rover_simulator.world import World\n",
    "from rover_simulator.rover import OnlinePathPlanningRover, History, RoverAnimation\n",
    "from rover_simulator.collision_detector import CollisionDetector\n",
    "from rover_simulator.navigation.localizer import ImaginalLocalizer, NoisyLocalizer\n",
    "from rover_simulator.navigation.controller import DWAController, PathFollower, ArcPathController\n",
    "from rover_simulator.navigation.mapper import GridMapper\n",
    "from rover_simulator.navigation.path_planner.grid_base import DstarLite"
   ]
  },
  {
   "cell_type": "code",
   "execution_count": 2,
   "id": "f1af8248-3d12-4ea1-9730-068df6df2a0f",
   "metadata": {
    "execution": {
     "iopub.execute_input": "2021-09-11T06:42:40.276149Z",
     "iopub.status.busy": "2021-09-11T06:42:40.276149Z",
     "iopub.status.idle": "2021-09-11T06:42:40.293103Z",
     "shell.execute_reply": "2021-09-11T06:42:40.290111Z",
     "shell.execute_reply.started": "2021-09-11T06:42:40.276149Z"
    },
    "tags": []
   },
   "outputs": [],
   "source": [
    "world = World(end_step=200)\n",
    "world.read_objects(\"../rover_simulator/examples/environment_deadend.txt\")"
   ]
  },
  {
   "cell_type": "code",
   "execution_count": 3,
   "id": "226b25f0-54e2-44d2-9018-482ef2f77b4a",
   "metadata": {
    "execution": {
     "iopub.execute_input": "2021-09-11T06:42:40.299087Z",
     "iopub.status.busy": "2021-09-11T06:42:40.298092Z",
     "iopub.status.idle": "2021-09-11T06:42:42.184129Z",
     "shell.execute_reply": "2021-09-11T06:42:42.184129Z",
     "shell.execute_reply.started": "2021-09-11T06:42:40.299087Z"
    },
    "tags": []
   },
   "outputs": [],
   "source": [
    "grid_width = 0.5\n",
    "sensor = ImaginalSensor(obstacles=world.obstacles, fov=np.pi)\n",
    "goal_pos = np.array([13, 18])\n",
    "\n",
    "rover = OnlinePathPlanningRover(\n",
    "    np.array([1.0, 1.0, 0.0]), 0.5,\n",
    "    sensor=sensor,\n",
    "    path_planner = DstarLite(np.array([1.0, 1.0, 0.0]), map_grid_width=grid_width, goal_pos=goal_pos),\n",
    "    mapper = GridMapper(grid_size=np.array([20, 20]), grid_width=grid_width, sensor=sensor, rover_r=0.5),\n",
    "    #controller = PathFollower(),\n",
    "    controller=ArcPathController(rover_r=0.5),\n",
    "    localizer = ImaginalLocalizer(),\n",
    "    collision_detector = CollisionDetector(world.obstacles),\n",
    "    sensing_planner = SensingPlanner(),\n",
    "    history=History(),\n",
    "    color=\"black\",\n",
    "    goal_pos=goal_pos\n",
    ")\n",
    "\n",
    "rover.path_planner.set_map(rover.mapper)\n",
    "rover.waypoints = rover.path_planner.calculate_path()\n",
    "\n",
    "world.append_rover(rover)"
   ]
  },
  {
   "cell_type": "code",
   "execution_count": 4,
   "id": "eb02f160-7db2-4f8c-aff7-3576a676b84a",
   "metadata": {
    "execution": {
     "iopub.execute_input": "2021-09-11T06:42:42.186157Z",
     "iopub.status.busy": "2021-09-11T06:42:42.186157Z",
     "iopub.status.idle": "2021-09-11T06:43:13.443950Z",
     "shell.execute_reply": "2021-09-11T06:43:13.443950Z",
     "shell.execute_reply.started": "2021-09-11T06:42:42.186157Z"
    },
    "tags": []
   },
   "outputs": [
    {
     "data": {
      "application/vnd.jupyter.widget-view+json": {
       "model_id": "52ba1e0884894d9683cead006bffef47",
       "version_major": 2,
       "version_minor": 0
      },
      "text/plain": [
       "  0%|          | 0/200 [00:00<?, ?it/s]"
      ]
     },
     "metadata": {},
     "output_type": "display_data"
    }
   ],
   "source": [
    "world.simulate()"
   ]
  },
  {
   "cell_type": "code",
   "execution_count": 5,
   "id": "e1474de7-f67c-44f0-9ad2-2faa1c812e0d",
   "metadata": {
    "execution": {
     "iopub.execute_input": "2021-09-11T06:43:13.445976Z",
     "iopub.status.busy": "2021-09-11T06:43:13.445976Z",
     "iopub.status.idle": "2021-09-11T06:43:13.555135Z",
     "shell.execute_reply": "2021-09-11T06:43:13.555135Z",
     "shell.execute_reply.started": "2021-09-11T06:43:13.445976Z"
    },
    "tags": []
   },
   "outputs": [
    {
     "data": {
      "application/vnd.jupyter.widget-view+json": {
       "model_id": "2687e1dc436a46aa9c2d30d99fc611cd",
       "version_major": 2,
       "version_minor": 0
      },
      "text/plain": [
       "Canvas(toolbar=Toolbar(toolitems=[('Home', 'Reset original view', 'home', 'home'), ('Back', 'Back to previous …"
      ]
     },
     "metadata": {},
     "output_type": "display_data"
    }
   ],
   "source": [
    "world.plot(xlim=[0, 20], ylim=[0, 20], enlarge_obstacle=rover.r)"
   ]
  },
  {
   "cell_type": "code",
   "execution_count": 6,
   "id": "3dfb42d1-47e7-4380-a56c-9779a21b08d1",
   "metadata": {
    "execution": {
     "iopub.execute_input": "2021-09-11T06:43:13.558096Z",
     "iopub.status.busy": "2021-09-11T06:43:13.557097Z",
     "iopub.status.idle": "2021-09-11T06:43:13.651844Z",
     "shell.execute_reply": "2021-09-11T06:43:13.650846Z",
     "shell.execute_reply.started": "2021-09-11T06:43:13.558096Z"
    },
    "tags": []
   },
   "outputs": [
    {
     "data": {
      "application/vnd.jupyter.widget-view+json": {
       "model_id": "4495077047b04741aa0a9a789fc72c2f",
       "version_major": 2,
       "version_minor": 0
      },
      "text/plain": [
       "Canvas(toolbar=Toolbar(toolitems=[('Home', 'Reset original view', 'home', 'home'), ('Back', 'Back to previous …"
      ]
     },
     "metadata": {},
     "output_type": "display_data"
    },
    {
     "data": {
      "application/vnd.jupyter.widget-view+json": {
       "model_id": "da02b35db5af4d5daa39ae5121e411fd",
       "version_major": 2,
       "version_minor": 0
      },
      "text/plain": [
       "  0%|          | 0/200 [00:00<?, ?it/s]"
      ]
     },
     "metadata": {},
     "output_type": "display_data"
    }
   ],
   "source": [
    "world.animate(\n",
    "    xlim=[0, 20], ylim=[0, 20],\n",
    "    enlarge_obstacle=rover.r, \n",
    "    #save_path=\"online_path_planner.mp4\",\n",
    "    debug=False\n",
    ")"
   ]
  },
  {
   "cell_type": "code",
   "execution_count": 9,
   "id": "27621ac0-36a7-4133-951d-ab4e160f7a8d",
   "metadata": {
    "execution": {
     "iopub.execute_input": "2021-09-11T06:56:19.891414Z",
     "iopub.status.busy": "2021-09-11T06:56:19.891414Z",
     "iopub.status.idle": "2021-09-11T07:00:56.018534Z",
     "shell.execute_reply": "2021-09-11T07:00:56.017589Z",
     "shell.execute_reply.started": "2021-09-11T06:56:19.891414Z"
    },
    "tags": []
   },
   "outputs": [
    {
     "data": {
      "application/vnd.jupyter.widget-view+json": {
       "model_id": "e4a89a57aa62449b9a65531ab87cd272",
       "version_major": 2,
       "version_minor": 0
      },
      "text/plain": [
       "Canvas(toolbar=Toolbar(toolitems=[('Home', 'Reset original view', 'home', 'home'), ('Back', 'Back to previous …"
      ]
     },
     "metadata": {},
     "output_type": "display_data"
    },
    {
     "data": {
      "application/vnd.jupyter.widget-view+json": {
       "model_id": "d3823ef565954dc3a0873506fadf7dc8",
       "version_major": 2,
       "version_minor": 0
      },
      "text/plain": [
       "  0%|          | 0/201 [00:00<?, ?it/s]"
      ]
     },
     "metadata": {},
     "output_type": "display_data"
    },
    {
     "name": "stderr",
     "output_type": "stream",
     "text": [
      "C:\\Users\\k1100\\anaconda3\\lib\\site-packages\\matplotlib\\transforms.py:1997: RuntimeWarning: invalid value encountered in double_scalars\n",
      "  self._mtx[0, 1] *= sx\n",
      "C:\\Users\\k1100\\anaconda3\\lib\\site-packages\\matplotlib\\transforms.py:1998: RuntimeWarning: invalid value encountered in double_scalars\n",
      "  self._mtx[0, 2] *= sx\n",
      "C:\\Users\\k1100\\anaconda3\\lib\\site-packages\\matplotlib\\transforms.py:1999: RuntimeWarning: invalid value encountered in double_scalars\n",
      "  self._mtx[1, 0] *= sy\n",
      "C:\\Users\\k1100\\anaconda3\\lib\\site-packages\\matplotlib\\transforms.py:2001: RuntimeWarning: invalid value encountered in double_scalars\n",
      "  self._mtx[1, 2] *= sy\n"
     ]
    }
   ],
   "source": [
    "path_planner = DstarLite(np.array([1.0, 1.0, 0.0]), map_grid_width=grid_width, goal_pos=goal_pos)\n",
    "rover_animation = RoverAnimation(world, rover, path_planner)\n",
    "map_name = 'map'\n",
    "rover_animation.animate(\n",
    "    xlim=[0-rover.mapper.grid_width/2, 20-rover.mapper.grid_width/2],\n",
    "    ylim=[0-rover.mapper.grid_width/2, 20-rover.mapper.grid_width/2],\n",
    "    map_name=map_name,\n",
    "    enlarge_obstacle=rover.r, \n",
    "    save_path=\"online_path_follower_\" + map_name + \".mp4\",\n",
    "    debug=False\n",
    ")"
   ]
  },
  {
   "cell_type": "code",
   "execution_count": null,
   "id": "9490e4b5-3ba5-42c1-8e89-b75996c2e6b6",
   "metadata": {},
   "outputs": [],
   "source": []
  }
 ],
 "metadata": {
  "kernelspec": {
   "display_name": "Python 3",
   "language": "python",
   "name": "python3"
  },
  "language_info": {
   "codemirror_mode": {
    "name": "ipython",
    "version": 3
   },
   "file_extension": ".py",
   "mimetype": "text/x-python",
   "name": "python",
   "nbconvert_exporter": "python",
   "pygments_lexer": "ipython3",
   "version": "3.7.10"
  }
 },
 "nbformat": 4,
 "nbformat_minor": 5
}
