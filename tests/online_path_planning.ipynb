{
 "cells": [
  {
   "cell_type": "code",
   "execution_count": 1,
   "id": "7a4c274f-2704-4a83-b0c5-cf69a9422cf0",
   "metadata": {
    "execution": {
     "iopub.execute_input": "2021-09-12T07:43:02.137811Z",
     "iopub.status.busy": "2021-09-12T07:43:02.137811Z",
     "iopub.status.idle": "2021-09-12T07:43:03.510108Z",
     "shell.execute_reply": "2021-09-12T07:43:03.510108Z",
     "shell.execute_reply.started": "2021-09-12T07:43:02.137811Z"
    },
    "tags": []
   },
   "outputs": [],
   "source": [
    "import sys\n",
    "sys.path.append('../')\n",
    "import numpy as np\n",
    "import matplotlib\n",
    "%matplotlib widget\n",
    "\n",
    "from rover_simulator.core import Obstacle, SensingPlanner\n",
    "from rover_simulator.sensor import ImaginalSensor, NoisySensor\n",
    "from rover_simulator.world import World\n",
    "from rover_simulator.rover import OnlinePathPlanningRover, History, RoverAnimation\n",
    "from rover_simulator.collision_detector import CollisionDetector\n",
    "from rover_simulator.navigation.localizer import ImaginalLocalizer, NoisyLocalizer\n",
    "from rover_simulator.navigation.controller import DWAController, PathFollower, ArcPathController\n",
    "from rover_simulator.navigation.mapper import GridMapper\n",
    "from rover_simulator.navigation.path_planner.grid_base import DstarLite"
   ]
  },
  {
   "cell_type": "code",
   "execution_count": 2,
   "id": "f1af8248-3d12-4ea1-9730-068df6df2a0f",
   "metadata": {
    "execution": {
     "iopub.execute_input": "2021-09-12T07:43:03.512066Z",
     "iopub.status.busy": "2021-09-12T07:43:03.511106Z",
     "iopub.status.idle": "2021-09-12T07:43:03.528024Z",
     "shell.execute_reply": "2021-09-12T07:43:03.526028Z",
     "shell.execute_reply.started": "2021-09-12T07:43:03.512066Z"
    },
    "tags": []
   },
   "outputs": [],
   "source": [
    "world = World(end_step=200)\n",
    "world.read_objects(\"../rover_simulator/examples/environment_complex.txt\")"
   ]
  },
  {
   "cell_type": "code",
   "execution_count": 3,
   "id": "226b25f0-54e2-44d2-9018-482ef2f77b4a",
   "metadata": {
    "execution": {
     "iopub.execute_input": "2021-09-12T07:43:03.532014Z",
     "iopub.status.busy": "2021-09-12T07:43:03.531018Z",
     "iopub.status.idle": "2021-09-12T07:43:04.714932Z",
     "shell.execute_reply": "2021-09-12T07:43:04.713932Z",
     "shell.execute_reply.started": "2021-09-12T07:43:03.532014Z"
    },
    "tags": []
   },
   "outputs": [],
   "source": [
    "grid_width = 0.5\n",
    "sensor = ImaginalSensor(obstacles=world.obstacles, fov=np.pi)\n",
    "goal_pos = np.array([13, 18])\n",
    "\n",
    "rover = OnlinePathPlanningRover(\n",
    "    np.array([1.0, 1.0, 0.0]), 0.5,\n",
    "    sensor=sensor,\n",
    "    path_planner = DstarLite(np.array([1.0, 1.0, 0.0]), map_grid_width=grid_width, goal_pos=goal_pos),\n",
    "    mapper = GridMapper(grid_size=np.array([20, 20]), grid_width=grid_width, sensor=sensor, rover_r=0.5),\n",
    "    #controller = PathFollower(),\n",
    "    controller=ArcPathController(rover_r=0.5),\n",
    "    localizer = ImaginalLocalizer(),\n",
    "    collision_detector = CollisionDetector(world.obstacles),\n",
    "    sensing_planner = SensingPlanner(),\n",
    "    history=History(),\n",
    "    color=\"black\",\n",
    "    goal_pos=goal_pos,\n",
    "    waypoint_dist=1.0\n",
    ")\n",
    "\n",
    "rover.path_planner.set_map(rover.mapper)\n",
    "rover.waypoints = rover.path_planner.calculate_path()\n",
    "\n",
    "world.append_rover(rover)"
   ]
  },
  {
   "cell_type": "code",
   "execution_count": 4,
   "id": "eb02f160-7db2-4f8c-aff7-3576a676b84a",
   "metadata": {
    "execution": {
     "iopub.execute_input": "2021-09-12T07:43:04.716925Z",
     "iopub.status.busy": "2021-09-12T07:43:04.715927Z",
     "iopub.status.idle": "2021-09-12T07:43:26.852263Z",
     "shell.execute_reply": "2021-09-12T07:43:26.851264Z",
     "shell.execute_reply.started": "2021-09-12T07:43:04.716925Z"
    },
    "tags": []
   },
   "outputs": [
    {
     "data": {
      "application/vnd.jupyter.widget-view+json": {
       "model_id": "b40b28d1733e490ab345d273f3820d7d",
       "version_major": 2,
       "version_minor": 0
      },
      "text/plain": [
       "  0%|          | 0/200 [00:00<?, ?it/s]"
      ]
     },
     "metadata": {},
     "output_type": "display_data"
    }
   ],
   "source": [
    "world.simulate()"
   ]
  },
  {
   "cell_type": "code",
   "execution_count": 5,
   "id": "e1474de7-f67c-44f0-9ad2-2faa1c812e0d",
   "metadata": {
    "execution": {
     "iopub.execute_input": "2021-09-12T07:43:26.854258Z",
     "iopub.status.busy": "2021-09-12T07:43:26.853258Z",
     "iopub.status.idle": "2021-09-12T07:43:26.977618Z",
     "shell.execute_reply": "2021-09-12T07:43:26.974628Z",
     "shell.execute_reply.started": "2021-09-12T07:43:26.854258Z"
    },
    "tags": []
   },
   "outputs": [
    {
     "data": {
      "application/vnd.jupyter.widget-view+json": {
       "model_id": "ad746769ecf14986a074dcdedf8c3b4a",
       "version_major": 2,
       "version_minor": 0
      },
      "text/plain": [
       "Canvas(toolbar=Toolbar(toolitems=[('Home', 'Reset original view', 'home', 'home'), ('Back', 'Back to previous …"
      ]
     },
     "metadata": {},
     "output_type": "display_data"
    }
   ],
   "source": [
    "world.plot(xlim=[0, 20], ylim=[0, 20], enlarge_obstacle=rover.r)"
   ]
  },
  {
   "cell_type": "code",
   "execution_count": 8,
   "id": "a7512caa-db2b-41b1-a4ae-f8adb937f0b2",
   "metadata": {
    "execution": {
     "iopub.execute_input": "2021-09-12T07:44:55.090466Z",
     "iopub.status.busy": "2021-09-12T07:44:55.090466Z",
     "iopub.status.idle": "2021-09-12T07:44:55.361436Z",
     "shell.execute_reply": "2021-09-12T07:44:55.359433Z",
     "shell.execute_reply.started": "2021-09-12T07:44:55.090466Z"
    },
    "tags": []
   },
   "outputs": [
    {
     "data": {
      "application/vnd.jupyter.widget-view+json": {
       "model_id": "05f91ed27eca4924ab71a0602b2de0ac",
       "version_major": 2,
       "version_minor": 0
      },
      "text/plain": [
       "Canvas(toolbar=Toolbar(toolitems=[('Home', 'Reset original view', 'home', 'home'), ('Back', 'Back to previous …"
      ]
     },
     "metadata": {},
     "output_type": "display_data"
    }
   ],
   "source": [
    "rover.mapper.draw_map(\n",
    "    xlim=[0, 20],\n",
    "    ylim=[0, 20],\n",
    "    enlarge_obstacle = rover.r,\n",
    "    obstacles=world.obstacles\n",
    ")"
   ]
  },
  {
   "cell_type": "code",
   "execution_count": 7,
   "id": "6af3aa9e-f561-437e-aebf-10ab7de77523",
   "metadata": {
    "execution": {
     "iopub.execute_input": "2021-09-12T07:44:51.795943Z",
     "iopub.status.busy": "2021-09-12T07:44:51.795943Z",
     "iopub.status.idle": "2021-09-12T07:44:52.768205Z",
     "shell.execute_reply": "2021-09-12T07:44:52.767205Z",
     "shell.execute_reply.started": "2021-09-12T07:44:51.795943Z"
    },
    "tags": []
   },
   "outputs": [
    {
     "data": {
      "application/vnd.jupyter.widget-view+json": {
       "model_id": "7daa9df319624c6fa0e90fa371974741",
       "version_major": 2,
       "version_minor": 0
      },
      "text/plain": [
       "Canvas(toolbar=Toolbar(toolitems=[('Home', 'Reset original view', 'home', 'home'), ('Back', 'Back to previous …"
      ]
     },
     "metadata": {},
     "output_type": "display_data"
    }
   ],
   "source": [
    "rover.path_planner.draw_map(\n",
    "    xlim=[0, 20],\n",
    "    ylim=[0, 20],\n",
    "    map_name='local',\n",
    "    enlarge_obstacle=rover.r,\n",
    "    obstacles=world.obstacles\n",
    ")"
   ]
  },
  {
   "cell_type": "code",
   "execution_count": 6,
   "id": "3dfb42d1-47e7-4380-a56c-9779a21b08d1",
   "metadata": {
    "execution": {
     "iopub.execute_input": "2021-09-12T07:43:31.432340Z",
     "iopub.status.busy": "2021-09-12T07:43:31.431342Z",
     "iopub.status.idle": "2021-09-12T07:43:31.547034Z",
     "shell.execute_reply": "2021-09-12T07:43:31.547034Z",
     "shell.execute_reply.started": "2021-09-12T07:43:31.432340Z"
    },
    "tags": []
   },
   "outputs": [
    {
     "data": {
      "application/vnd.jupyter.widget-view+json": {
       "model_id": "b71d40c7d6534959b416f659caa83cd8",
       "version_major": 2,
       "version_minor": 0
      },
      "text/plain": [
       "Canvas(toolbar=Toolbar(toolitems=[('Home', 'Reset original view', 'home', 'home'), ('Back', 'Back to previous …"
      ]
     },
     "metadata": {},
     "output_type": "display_data"
    },
    {
     "data": {
      "application/vnd.jupyter.widget-view+json": {
       "model_id": "cc5054af0d6e47f6b3eb44f13d160e74",
       "version_major": 2,
       "version_minor": 0
      },
      "text/plain": [
       "  0%|          | 0/200 [00:00<?, ?it/s]"
      ]
     },
     "metadata": {},
     "output_type": "display_data"
    }
   ],
   "source": [
    "world.animate(\n",
    "    xlim=[0, 20], ylim=[0, 20],\n",
    "    enlarge_obstacle=rover.r, \n",
    "    #save_path=\"online_path_planner.mp4\",\n",
    "    debug=False\n",
    ")"
   ]
  },
  {
   "cell_type": "code",
   "execution_count": 8,
   "id": "27621ac0-36a7-4133-951d-ab4e160f7a8d",
   "metadata": {
    "execution": {
     "iopub.execute_input": "2021-09-12T07:17:15.642095Z",
     "iopub.status.busy": "2021-09-12T07:17:15.642095Z",
     "iopub.status.idle": "2021-09-12T07:21:58.064503Z",
     "shell.execute_reply": "2021-09-12T07:21:58.063560Z",
     "shell.execute_reply.started": "2021-09-12T07:17:15.642095Z"
    },
    "tags": []
   },
   "outputs": [
    {
     "data": {
      "application/vnd.jupyter.widget-view+json": {
       "model_id": "98bbee2f740f4b5a907ea4956efca8e2",
       "version_major": 2,
       "version_minor": 0
      },
      "text/plain": [
       "Canvas(toolbar=Toolbar(toolitems=[('Home', 'Reset original view', 'home', 'home'), ('Back', 'Back to previous …"
      ]
     },
     "metadata": {},
     "output_type": "display_data"
    },
    {
     "data": {
      "application/vnd.jupyter.widget-view+json": {
       "model_id": "179999faa13840a2abe918551ba8cfa3",
       "version_major": 2,
       "version_minor": 0
      },
      "text/plain": [
       "0it [00:00, ?it/s]"
      ]
     },
     "metadata": {},
     "output_type": "display_data"
    },
    {
     "data": {
      "application/vnd.jupyter.widget-view+json": {
       "model_id": "0ba67019d22c4fba8117226f2032584f",
       "version_major": 2,
       "version_minor": 0
      },
      "text/plain": [
       "  0%|          | 0/201 [00:00<?, ?it/s]"
      ]
     },
     "metadata": {},
     "output_type": "display_data"
    },
    {
     "name": "stderr",
     "output_type": "stream",
     "text": [
      "C:\\Users\\k1100\\anaconda3\\lib\\site-packages\\matplotlib\\transforms.py:1997: RuntimeWarning: invalid value encountered in double_scalars\n",
      "  self._mtx[0, 1] *= sx\n",
      "C:\\Users\\k1100\\anaconda3\\lib\\site-packages\\matplotlib\\transforms.py:1998: RuntimeWarning: invalid value encountered in double_scalars\n",
      "  self._mtx[0, 2] *= sx\n",
      "C:\\Users\\k1100\\anaconda3\\lib\\site-packages\\matplotlib\\transforms.py:1999: RuntimeWarning: invalid value encountered in double_scalars\n",
      "  self._mtx[1, 0] *= sy\n",
      "C:\\Users\\k1100\\anaconda3\\lib\\site-packages\\matplotlib\\transforms.py:2001: RuntimeWarning: invalid value encountered in double_scalars\n",
      "  self._mtx[1, 2] *= sy\n"
     ]
    }
   ],
   "source": [
    "path_planner = DstarLite(np.array([1.0, 1.0, 0.0]), map_grid_width=grid_width, goal_pos=goal_pos)\n",
    "rover_animation = RoverAnimation(world, rover, path_planner)\n",
    "map_name = 'local'\n",
    "rover_animation.animate(\n",
    "    xlim=[0-rover.mapper.grid_width/2, 20-rover.mapper.grid_width/2],\n",
    "    ylim=[0-rover.mapper.grid_width/2, 20-rover.mapper.grid_width/2],\n",
    "    map_name=map_name,\n",
    "    enlarge_obstacle=rover.r, \n",
    "    save_path=\"online_path_follower_\" + map_name + \".mp4\",\n",
    "    debug=False\n",
    ")"
   ]
  },
  {
   "cell_type": "code",
   "execution_count": 8,
   "id": "9490e4b5-3ba5-42c1-8e89-b75996c2e6b6",
   "metadata": {
    "execution": {
     "iopub.execute_input": "2021-09-12T07:36:39.779027Z",
     "iopub.status.busy": "2021-09-12T07:36:39.779027Z",
     "iopub.status.idle": "2021-09-12T07:36:39.797131Z",
     "shell.execute_reply": "2021-09-12T07:36:39.796202Z",
     "shell.execute_reply.started": "2021-09-12T07:36:39.779027Z"
    },
    "tags": []
   },
   "outputs": [
    {
     "name": "stdout",
     "output_type": "stream",
     "text": [
      "[array([13., 18.])]\n",
      "[array([13., 18.])]\n"
     ]
    }
   ],
   "source": [
    "for waypoints in rover.history.waypoints:\n",
    "    if len(waypoints) == 1:\n",
    "        print(waypoints)"
   ]
  },
  {
   "cell_type": "code",
   "execution_count": null,
   "id": "3954ddc8-c777-4866-a3cb-4297dc7cb0a7",
   "metadata": {},
   "outputs": [],
   "source": []
  }
 ],
 "metadata": {
  "kernelspec": {
   "display_name": "Python 3",
   "language": "python",
   "name": "python3"
  },
  "language_info": {
   "codemirror_mode": {
    "name": "ipython",
    "version": 3
   },
   "file_extension": ".py",
   "mimetype": "text/x-python",
   "name": "python",
   "nbconvert_exporter": "python",
   "pygments_lexer": "ipython3",
   "version": "3.7.10"
  }
 },
 "nbformat": 4,
 "nbformat_minor": 5
}
