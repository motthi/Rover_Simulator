{
 "cells": [
  {
   "cell_type": "code",
   "execution_count": 1,
   "id": "7a4c274f-2704-4a83-b0c5-cf69a9422cf0",
   "metadata": {
    "execution": {
     "iopub.execute_input": "2021-09-26T05:37:59.411553Z",
     "iopub.status.busy": "2021-09-26T05:37:59.411553Z",
     "iopub.status.idle": "2021-09-26T05:38:00.511229Z",
     "shell.execute_reply": "2021-09-26T05:38:00.509222Z",
     "shell.execute_reply.started": "2021-09-26T05:37:59.411553Z"
    },
    "tags": []
   },
   "outputs": [],
   "source": [
    "import sys\n",
    "sys.path.append('../')\n",
    "import numpy as np\n",
    "import matplotlib\n",
    "%matplotlib widget\n",
    "\n",
    "from rover_simulator.core import Obstacle, SensingPlanner\n",
    "from rover_simulator.sensor import ImaginalSensor, NoisySensor\n",
    "from rover_simulator.world import World\n",
    "from rover_simulator.rover import OnlinePathPlanningRover, History, RoverAnimation\n",
    "from rover_simulator.collision_detector import CollisionDetector\n",
    "from rover_simulator.navigation.sensing_planner import SimpleSensingPlanner\n",
    "from rover_simulator.navigation.localizer import ImaginalLocalizer, NoisyLocalizer\n",
    "from rover_simulator.navigation.controller import DWAController, PathFollower, ArcPathController\n",
    "from rover_simulator.navigation.mapper import GridMapper\n",
    "from rover_simulator.navigation.path_planner.grid_base import DstarLite"
   ]
  },
  {
   "cell_type": "code",
   "execution_count": 2,
   "id": "f1af8248-3d12-4ea1-9730-068df6df2a0f",
   "metadata": {
    "execution": {
     "iopub.execute_input": "2021-09-26T05:38:00.516214Z",
     "iopub.status.busy": "2021-09-26T05:38:00.515221Z",
     "iopub.status.idle": "2021-09-26T05:38:00.540144Z",
     "shell.execute_reply": "2021-09-26T05:38:00.539146Z",
     "shell.execute_reply.started": "2021-09-26T05:38:00.516214Z"
    },
    "tags": []
   },
   "outputs": [],
   "source": [
    "world = World(end_step=200)\n",
    "world.read_objects(\"../rover_simulator/examples/environment_complex.txt\")"
   ]
  },
  {
   "cell_type": "code",
   "execution_count": 12,
   "id": "226b25f0-54e2-44d2-9018-482ef2f77b4a",
   "metadata": {
    "execution": {
     "iopub.execute_input": "2021-09-26T06:00:49.959514Z",
     "iopub.status.busy": "2021-09-26T06:00:49.959514Z",
     "iopub.status.idle": "2021-09-26T06:00:50.659642Z",
     "shell.execute_reply": "2021-09-26T06:00:50.658681Z",
     "shell.execute_reply.started": "2021-09-26T06:00:49.959514Z"
    },
    "tags": []
   },
   "outputs": [],
   "source": [
    "world.reset_world(reset_obstacles=False)\n",
    "\n",
    "grid_width = 0.5\n",
    "sensor = ImaginalSensor(obstacles=world.obstacles, fov=np.pi/2)\n",
    "goal_pos = np.array([13, 18])\n",
    "\n",
    "history = History(\n",
    "    sensor_range = sensor.range,\n",
    "    sensor_fov = sensor.fov\n",
    ")\n",
    "rover = OnlinePathPlanningRover(\n",
    "    np.array([1.0, 2.0, 0.0]), 0.5,\n",
    "    sensor=sensor,\n",
    "    path_planner = DstarLite(np.array([1.0, 1.0, 0.0]), map_grid_width=grid_width, goal_pos=goal_pos),\n",
    "    mapper = GridMapper(grid_size=np.array([20, 20]), grid_width=grid_width, sensor=sensor, rover_r=0.5),\n",
    "    #controller = PathFollower(),\n",
    "    controller=ArcPathController(rover_r=0.5),\n",
    "    localizer = ImaginalLocalizer(),\n",
    "    collision_detector = CollisionDetector(world.obstacles),\n",
    "    sensing_planner = SimpleSensingPlanner(sense_interval_distance=9.0, sense_interval_angle=np.pi/4.5),\n",
    "    history=history,\n",
    "    color=\"black\",\n",
    "    goal_pos=goal_pos,\n",
    "    waypoint_dist=1.0\n",
    ")\n",
    "\n",
    "rover.path_planner.set_map(rover.mapper)\n",
    "rover.waypoints = rover.path_planner.calculate_path()\n",
    "\n",
    "world.append_rover(rover)"
   ]
  },
  {
   "cell_type": "code",
   "execution_count": 13,
   "id": "eb02f160-7db2-4f8c-aff7-3576a676b84a",
   "metadata": {
    "execution": {
     "iopub.execute_input": "2021-09-26T06:00:50.660639Z",
     "iopub.status.busy": "2021-09-26T06:00:50.660639Z",
     "iopub.status.idle": "2021-09-26T06:00:55.346108Z",
     "shell.execute_reply": "2021-09-26T06:00:55.346108Z",
     "shell.execute_reply.started": "2021-09-26T06:00:50.660639Z"
    },
    "tags": []
   },
   "outputs": [
    {
     "data": {
      "application/vnd.jupyter.widget-view+json": {
       "model_id": "6bf11fadd8a84ad78887d0f1d6342c76",
       "version_major": 2,
       "version_minor": 0
      },
      "text/plain": [
       "  0%|          | 0/200 [00:00<?, ?it/s]"
      ]
     },
     "metadata": {},
     "output_type": "display_data"
    }
   ],
   "source": [
    "world.simulate()"
   ]
  },
  {
   "cell_type": "code",
   "execution_count": 14,
   "id": "b6242c60-8760-4fe7-a06c-0a929da7dfac",
   "metadata": {
    "execution": {
     "iopub.execute_input": "2021-09-26T06:00:55.349100Z",
     "iopub.status.busy": "2021-09-26T06:00:55.348104Z",
     "iopub.status.idle": "2021-09-26T06:00:55.456812Z",
     "shell.execute_reply": "2021-09-26T06:00:55.456075Z",
     "shell.execute_reply.started": "2021-09-26T06:00:55.349100Z"
    },
    "tags": []
   },
   "outputs": [
    {
     "data": {
      "application/vnd.jupyter.widget-view+json": {
       "model_id": "17aeb660841043978c00ee49eeb8474e",
       "version_major": 2,
       "version_minor": 0
      },
      "text/plain": [
       "Canvas(toolbar=Toolbar(toolitems=[('Home', 'Reset original view', 'home', 'home'), ('Back', 'Back to previous …"
      ]
     },
     "metadata": {},
     "output_type": "display_data"
    }
   ],
   "source": [
    "history.plot(\n",
    "    xlim=[0, 20], ylim=[0, 20],\n",
    "    obstacles=world.obstacles,\n",
    "    enlarge_obstacle=rover.r\n",
    ")"
   ]
  },
  {
   "cell_type": "code",
   "execution_count": 15,
   "id": "e1474de7-f67c-44f0-9ad2-2faa1c812e0d",
   "metadata": {
    "execution": {
     "iopub.execute_input": "2021-09-26T06:00:55.457811Z",
     "iopub.status.busy": "2021-09-26T06:00:55.457811Z",
     "iopub.status.idle": "2021-09-26T06:00:55.583474Z",
     "shell.execute_reply": "2021-09-26T06:00:55.581481Z",
     "shell.execute_reply.started": "2021-09-26T06:00:55.457811Z"
    },
    "tags": []
   },
   "outputs": [
    {
     "data": {
      "application/vnd.jupyter.widget-view+json": {
       "model_id": "10b55484af66471ba09d42b0129558ef",
       "version_major": 2,
       "version_minor": 0
      },
      "text/plain": [
       "Canvas(toolbar=Toolbar(toolitems=[('Home', 'Reset original view', 'home', 'home'), ('Back', 'Back to previous …"
      ]
     },
     "metadata": {},
     "output_type": "display_data"
    },
    {
     "data": {
      "application/vnd.jupyter.widget-view+json": {
       "model_id": "f1743fe1331f4fc48c0aae6f01ea7092",
       "version_major": 2,
       "version_minor": 0
      },
      "text/plain": [
       "  0%|          | 0/200 [00:00<?, ?it/s]"
      ]
     },
     "metadata": {},
     "output_type": "display_data"
    }
   ],
   "source": [
    "history.animate(\n",
    "    xlim=[0, 20], ylim=[0, 20],\n",
    "    obstacles=world.obstacles,\n",
    "    enlarge_obstacle=rover.r, \n",
    "    #save_path=\"online_path_planner.mp4\",\n",
    "    debug=False\n",
    ")"
   ]
  },
  {
   "cell_type": "code",
   "execution_count": 16,
   "id": "a7512caa-db2b-41b1-a4ae-f8adb937f0b2",
   "metadata": {
    "execution": {
     "iopub.execute_input": "2021-09-26T06:01:26.934482Z",
     "iopub.status.busy": "2021-09-26T06:01:26.933494Z",
     "iopub.status.idle": "2021-09-26T06:01:27.067098Z",
     "shell.execute_reply": "2021-09-26T06:01:27.066099Z",
     "shell.execute_reply.started": "2021-09-26T06:01:26.934482Z"
    },
    "tags": []
   },
   "outputs": [
    {
     "data": {
      "application/vnd.jupyter.widget-view+json": {
       "model_id": "0f5fd0be179640328313ef1c30745379",
       "version_major": 2,
       "version_minor": 0
      },
      "text/plain": [
       "Canvas(toolbar=Toolbar(toolitems=[('Home', 'Reset original view', 'home', 'home'), ('Back', 'Back to previous …"
      ]
     },
     "metadata": {},
     "output_type": "display_data"
    }
   ],
   "source": [
    "rover.mapper.draw_map(\n",
    "    xlim=[0-rover.mapper.grid_width/2, 20-rover.mapper.grid_width/2],\n",
    "    ylim=[0-rover.mapper.grid_width/2, 20-rover.mapper.grid_width/2],\n",
    "    enlarge_obstacle = rover.r,\n",
    "    obstacles=world.obstacles\n",
    ")"
   ]
  },
  {
   "cell_type": "code",
   "execution_count": 7,
   "id": "6af3aa9e-f561-437e-aebf-10ab7de77523",
   "metadata": {
    "execution": {
     "iopub.execute_input": "2021-09-16T04:00:25.589278Z",
     "iopub.status.busy": "2021-09-16T04:00:25.588285Z",
     "iopub.status.idle": "2021-09-16T04:00:25.693998Z",
     "shell.execute_reply": "2021-09-16T04:00:25.693003Z",
     "shell.execute_reply.started": "2021-09-16T04:00:25.589278Z"
    },
    "tags": []
   },
   "outputs": [
    {
     "data": {
      "application/vnd.jupyter.widget-view+json": {
       "model_id": "b13e06aec7d34aeda27c3a5dc19ed035",
       "version_major": 2,
       "version_minor": 0
      },
      "text/plain": [
       "Canvas(toolbar=Toolbar(toolitems=[('Home', 'Reset original view', 'home', 'home'), ('Back', 'Back to previous …"
      ]
     },
     "metadata": {},
     "output_type": "display_data"
    }
   ],
   "source": [
    "rover.path_planner.draw_map(\n",
    "    xlim=[0-rover.path_planner.grid_width/2, 20-rover.path_planner.grid_width/2],\n",
    "    ylim=[0-rover.path_planner.grid_width/2, 20-rover.path_planner.grid_width/2],\n",
    "    map_name='metric',\n",
    "    enlarge_obstacle=rover.r,\n",
    "    obstacles=world.obstacles\n",
    ")"
   ]
  },
  {
   "cell_type": "code",
   "execution_count": 8,
   "id": "856d476c-fc52-4468-8774-eded4475ca2a",
   "metadata": {
    "execution": {
     "iopub.execute_input": "2021-09-16T04:00:25.695995Z",
     "iopub.status.busy": "2021-09-16T04:00:25.695995Z",
     "iopub.status.idle": "2021-09-16T04:00:25.803704Z",
     "shell.execute_reply": "2021-09-16T04:00:25.803704Z",
     "shell.execute_reply.started": "2021-09-16T04:00:25.695995Z"
    },
    "tags": []
   },
   "outputs": [
    {
     "data": {
      "application/vnd.jupyter.widget-view+json": {
       "model_id": "a11ac883503c4aa2a26298b562441ac1",
       "version_major": 2,
       "version_minor": 0
      },
      "text/plain": [
       "Canvas(toolbar=Toolbar(toolitems=[('Home', 'Reset original view', 'home', 'home'), ('Back', 'Back to previous …"
      ]
     },
     "metadata": {},
     "output_type": "display_data"
    }
   ],
   "source": [
    "rover.path_planner.draw_map(\n",
    "    xlim=[0-rover.path_planner.grid_width/2, 20-rover.path_planner.grid_width/2],\n",
    "    ylim=[0-rover.path_planner.grid_width/2, 20-rover.path_planner.grid_width/2],\n",
    "    map_name='local',\n",
    "    enlarge_obstacle=rover.r,\n",
    "    obstacles=world.obstacles\n",
    ")"
   ]
  },
  {
   "cell_type": "code",
   "execution_count": 9,
   "id": "352b9ae2-2bf2-480e-a63e-bcb1b6693d90",
   "metadata": {
    "execution": {
     "iopub.execute_input": "2021-09-16T04:00:25.805701Z",
     "iopub.status.busy": "2021-09-16T04:00:25.804702Z",
     "iopub.status.idle": "2021-09-16T04:00:25.914651Z",
     "shell.execute_reply": "2021-09-16T04:00:25.914651Z",
     "shell.execute_reply.started": "2021-09-16T04:00:25.804702Z"
    },
    "tags": []
   },
   "outputs": [
    {
     "data": {
      "application/vnd.jupyter.widget-view+json": {
       "model_id": "53b0131307a348be8be129365c6db12e",
       "version_major": 2,
       "version_minor": 0
      },
      "text/plain": [
       "Canvas(toolbar=Toolbar(toolitems=[('Home', 'Reset original view', 'home', 'home'), ('Back', 'Back to previous …"
      ]
     },
     "metadata": {},
     "output_type": "display_data"
    }
   ],
   "source": [
    "rover.path_planner.draw_map(\n",
    "    xlim=[0-rover.path_planner.grid_width/2, 20-rover.path_planner.grid_width/2],\n",
    "    ylim=[0-rover.path_planner.grid_width/2, 20-rover.path_planner.grid_width/2],\n",
    "    map_name='cost',\n",
    "    enlarge_obstacle=rover.r,\n",
    "    obstacles=world.obstacles\n",
    ")"
   ]
  },
  {
   "cell_type": "code",
   "execution_count": 10,
   "id": "3dfb42d1-47e7-4380-a56c-9779a21b08d1",
   "metadata": {
    "execution": {
     "iopub.execute_input": "2021-09-16T04:00:25.915675Z",
     "iopub.status.busy": "2021-09-16T04:00:25.915675Z",
     "iopub.status.idle": "2021-09-16T04:00:25.930610Z",
     "shell.execute_reply": "2021-09-16T04:00:25.929612Z",
     "shell.execute_reply.started": "2021-09-16T04:00:25.915675Z"
    },
    "tags": []
   },
   "outputs": [],
   "source": [
    "# world.animate(\n",
    "#     xlim=[0, 20], ylim=[0, 20],\n",
    "#     enlarge_obstacle=rover.r, \n",
    "#     #save_path=\"online_path_planner.mp4\",\n",
    "#     debug=False\n",
    "# )"
   ]
  },
  {
   "cell_type": "code",
   "execution_count": 11,
   "id": "27621ac0-36a7-4133-951d-ab4e160f7a8d",
   "metadata": {
    "execution": {
     "iopub.execute_input": "2021-09-16T04:00:25.932602Z",
     "iopub.status.busy": "2021-09-16T04:00:25.932602Z",
     "iopub.status.idle": "2021-09-16T04:00:25.946570Z",
     "shell.execute_reply": "2021-09-16T04:00:25.945568Z",
     "shell.execute_reply.started": "2021-09-16T04:00:25.932602Z"
    },
    "tags": []
   },
   "outputs": [],
   "source": [
    "# path_planner = DstarLite(np.array([1.0, 1.0, 0.0]), map_grid_width=grid_width, goal_pos=goal_pos)\n",
    "# rover_animation = RoverAnimation(world, rover, path_planner)\n",
    "# map_name = 'local'\n",
    "# rover_animation.animate(\n",
    "#     xlim=[0-rover.mapper.grid_width/2, 20-rover.mapper.grid_width/2],\n",
    "#     ylim=[0-rover.mapper.grid_width/2, 20-rover.mapper.grid_width/2],\n",
    "#     map_name=map_name,\n",
    "#     enlarge_obstacle=rover.r, \n",
    "#     save_path=\"online_path_follower_\" + map_name + \".mp4\",\n",
    "#     debug=False\n",
    "# )"
   ]
  },
  {
   "cell_type": "code",
   "execution_count": null,
   "id": "d49be589-f5c9-4b08-af6d-8f6d6c9a05f0",
   "metadata": {},
   "outputs": [],
   "source": []
  }
 ],
 "metadata": {
  "kernelspec": {
   "display_name": "Python 3",
   "language": "python",
   "name": "python3"
  },
  "language_info": {
   "codemirror_mode": {
    "name": "ipython",
    "version": 3
   },
   "file_extension": ".py",
   "mimetype": "text/x-python",
   "name": "python",
   "nbconvert_exporter": "python",
   "pygments_lexer": "ipython3",
   "version": "3.7.10"
  }
 },
 "nbformat": 4,
 "nbformat_minor": 5
}
