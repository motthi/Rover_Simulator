{
 "cells": [
  {
   "cell_type": "code",
   "execution_count": 1,
   "id": "7a4c274f-2704-4a83-b0c5-cf69a9422cf0",
   "metadata": {
    "execution": {
     "iopub.execute_input": "2021-09-12T15:16:10.158474Z",
     "iopub.status.busy": "2021-09-12T15:16:10.158474Z",
     "iopub.status.idle": "2021-09-12T15:16:11.727555Z",
     "shell.execute_reply": "2021-09-12T15:16:11.726558Z",
     "shell.execute_reply.started": "2021-09-12T15:16:10.158474Z"
    },
    "tags": []
   },
   "outputs": [],
   "source": [
    "import sys\n",
    "sys.path.append('../')\n",
    "import numpy as np\n",
    "import matplotlib\n",
    "%matplotlib widget\n",
    "\n",
    "from rover_simulator.core import Obstacle, SensingPlanner\n",
    "from rover_simulator.sensor import ImaginalSensor, NoisySensor\n",
    "from rover_simulator.world import World\n",
    "from rover_simulator.rover import OnlinePathPlanningRover, History, RoverAnimation\n",
    "from rover_simulator.collision_detector import CollisionDetector\n",
    "from rover_simulator.navigation.localizer import ImaginalLocalizer, NoisyLocalizer\n",
    "from rover_simulator.navigation.controller import DWAController, PathFollower, ArcPathController\n",
    "from rover_simulator.navigation.mapper import GridMapper\n",
    "from rover_simulator.navigation.path_planner.grid_base import DstarLite"
   ]
  },
  {
   "cell_type": "code",
   "execution_count": 2,
   "id": "f1af8248-3d12-4ea1-9730-068df6df2a0f",
   "metadata": {
    "execution": {
     "iopub.execute_input": "2021-09-12T15:16:11.729549Z",
     "iopub.status.busy": "2021-09-12T15:16:11.728553Z",
     "iopub.status.idle": "2021-09-12T15:16:11.759470Z",
     "shell.execute_reply": "2021-09-12T15:16:11.758472Z",
     "shell.execute_reply.started": "2021-09-12T15:16:11.729549Z"
    },
    "tags": []
   },
   "outputs": [],
   "source": [
    "world = World(end_step=200)\n",
    "world.read_objects(\"../rover_simulator/examples/environment_complex.txt\")"
   ]
  },
  {
   "cell_type": "code",
   "execution_count": 3,
   "id": "226b25f0-54e2-44d2-9018-482ef2f77b4a",
   "metadata": {
    "execution": {
     "iopub.execute_input": "2021-09-12T15:16:11.771438Z",
     "iopub.status.busy": "2021-09-12T15:16:11.764461Z",
     "iopub.status.idle": "2021-09-12T15:16:13.831445Z",
     "shell.execute_reply": "2021-09-12T15:16:13.830450Z",
     "shell.execute_reply.started": "2021-09-12T15:16:11.771438Z"
    },
    "tags": []
   },
   "outputs": [],
   "source": [
    "grid_width = 0.5\n",
    "sensor = ImaginalSensor(obstacles=world.obstacles, fov=np.pi)\n",
    "goal_pos = np.array([13, 18])\n",
    "\n",
    "rover = OnlinePathPlanningRover(\n",
    "    np.array([1.0, 1.0, 0.0]), 0.5,\n",
    "    sensor=sensor,\n",
    "    path_planner = DstarLite(np.array([1.0, 1.0, 0.0]), map_grid_width=grid_width, goal_pos=goal_pos),\n",
    "    mapper = GridMapper(grid_size=np.array([20, 20]), grid_width=grid_width, sensor=sensor, rover_r=0.5),\n",
    "    #controller = PathFollower(),\n",
    "    controller=ArcPathController(rover_r=0.5),\n",
    "    localizer = ImaginalLocalizer(),\n",
    "    collision_detector = CollisionDetector(world.obstacles),\n",
    "    sensing_planner = SensingPlanner(),\n",
    "    history=History(),\n",
    "    color=\"black\",\n",
    "    goal_pos=goal_pos,\n",
    "    waypoint_dist=1.0\n",
    ")\n",
    "\n",
    "rover.path_planner.set_map(rover.mapper)\n",
    "rover.waypoints = rover.path_planner.calculate_path()\n",
    "\n",
    "world.append_rover(rover)"
   ]
  },
  {
   "cell_type": "code",
   "execution_count": 4,
   "id": "eb02f160-7db2-4f8c-aff7-3576a676b84a",
   "metadata": {
    "execution": {
     "iopub.execute_input": "2021-09-12T15:16:13.833439Z",
     "iopub.status.busy": "2021-09-12T15:16:13.832442Z",
     "iopub.status.idle": "2021-09-12T15:16:41.903840Z",
     "shell.execute_reply": "2021-09-12T15:16:41.902845Z",
     "shell.execute_reply.started": "2021-09-12T15:16:13.833439Z"
    },
    "tags": []
   },
   "outputs": [
    {
     "data": {
      "application/vnd.jupyter.widget-view+json": {
       "model_id": "cbd3a0a219884e078facf600aeadcaaa",
       "version_major": 2,
       "version_minor": 0
      },
      "text/plain": [
       "  0%|          | 0/200 [00:00<?, ?it/s]"
      ]
     },
     "metadata": {},
     "output_type": "display_data"
    }
   ],
   "source": [
    "world.simulate()"
   ]
  },
  {
   "cell_type": "code",
   "execution_count": 5,
   "id": "e1474de7-f67c-44f0-9ad2-2faa1c812e0d",
   "metadata": {
    "execution": {
     "iopub.execute_input": "2021-09-12T15:16:41.904838Z",
     "iopub.status.busy": "2021-09-12T15:16:41.904838Z",
     "iopub.status.idle": "2021-09-12T15:16:42.027520Z",
     "shell.execute_reply": "2021-09-12T15:16:42.026685Z",
     "shell.execute_reply.started": "2021-09-12T15:16:41.904838Z"
    },
    "tags": []
   },
   "outputs": [
    {
     "data": {
      "application/vnd.jupyter.widget-view+json": {
       "model_id": "e1e2e59ac58849baa540dbd193dfe506",
       "version_major": 2,
       "version_minor": 0
      },
      "text/plain": [
       "Canvas(toolbar=Toolbar(toolitems=[('Home', 'Reset original view', 'home', 'home'), ('Back', 'Back to previous …"
      ]
     },
     "metadata": {},
     "output_type": "display_data"
    }
   ],
   "source": [
    "world.plot(xlim=[0, 20], ylim=[0, 20], enlarge_obstacle=rover.r)"
   ]
  },
  {
   "cell_type": "code",
   "execution_count": 6,
   "id": "a7512caa-db2b-41b1-a4ae-f8adb937f0b2",
   "metadata": {
    "execution": {
     "iopub.execute_input": "2021-09-12T15:16:42.029514Z",
     "iopub.status.busy": "2021-09-12T15:16:42.029514Z",
     "iopub.status.idle": "2021-09-12T15:16:42.166305Z",
     "shell.execute_reply": "2021-09-12T15:16:42.164364Z",
     "shell.execute_reply.started": "2021-09-12T15:16:42.029514Z"
    },
    "tags": []
   },
   "outputs": [
    {
     "data": {
      "application/vnd.jupyter.widget-view+json": {
       "model_id": "dcc4a380326b413d866d5079af77003f",
       "version_major": 2,
       "version_minor": 0
      },
      "text/plain": [
       "Canvas(toolbar=Toolbar(toolitems=[('Home', 'Reset original view', 'home', 'home'), ('Back', 'Back to previous …"
      ]
     },
     "metadata": {},
     "output_type": "display_data"
    }
   ],
   "source": [
    "rover.mapper.draw_map(\n",
    "    xlim=[0-rover.mapper.grid_width/2, 20-rover.mapper.grid_width/2],\n",
    "    ylim=[0-rover.mapper.grid_width/2, 20-rover.mapper.grid_width/2],\n",
    "    enlarge_obstacle = rover.r,\n",
    "    obstacles=world.obstacles\n",
    ")"
   ]
  },
  {
   "cell_type": "code",
   "execution_count": 7,
   "id": "6af3aa9e-f561-437e-aebf-10ab7de77523",
   "metadata": {
    "execution": {
     "iopub.execute_input": "2021-09-12T15:16:42.171298Z",
     "iopub.status.busy": "2021-09-12T15:16:42.170291Z",
     "iopub.status.idle": "2021-09-12T15:16:42.305927Z",
     "shell.execute_reply": "2021-09-12T15:16:42.304968Z",
     "shell.execute_reply.started": "2021-09-12T15:16:42.171298Z"
    },
    "tags": []
   },
   "outputs": [
    {
     "data": {
      "application/vnd.jupyter.widget-view+json": {
       "model_id": "74b60addd682484bae6a78c55d0d7efe",
       "version_major": 2,
       "version_minor": 0
      },
      "text/plain": [
       "Canvas(toolbar=Toolbar(toolitems=[('Home', 'Reset original view', 'home', 'home'), ('Back', 'Back to previous …"
      ]
     },
     "metadata": {},
     "output_type": "display_data"
    }
   ],
   "source": [
    "rover.path_planner.draw_map(\n",
    "    xlim=[0-rover.path_planner.grid_width/2, 20-rover.path_planner.grid_width/2],\n",
    "    ylim=[0-rover.path_planner.grid_width/2, 20-rover.path_planner.grid_width/2],\n",
    "    map_name='metric',\n",
    "    enlarge_obstacle=rover.r,\n",
    "    obstacles=world.obstacles\n",
    ")"
   ]
  },
  {
   "cell_type": "code",
   "execution_count": 8,
   "id": "856d476c-fc52-4468-8774-eded4475ca2a",
   "metadata": {
    "execution": {
     "iopub.execute_input": "2021-09-12T15:16:42.307923Z",
     "iopub.status.busy": "2021-09-12T15:16:42.307923Z",
     "iopub.status.idle": "2021-09-12T15:16:42.427628Z",
     "shell.execute_reply": "2021-09-12T15:16:42.427628Z",
     "shell.execute_reply.started": "2021-09-12T15:16:42.307923Z"
    }
   },
   "outputs": [
    {
     "data": {
      "application/vnd.jupyter.widget-view+json": {
       "model_id": "5c088c310cdb4445ae8660479a203925",
       "version_major": 2,
       "version_minor": 0
      },
      "text/plain": [
       "Canvas(toolbar=Toolbar(toolitems=[('Home', 'Reset original view', 'home', 'home'), ('Back', 'Back to previous …"
      ]
     },
     "metadata": {},
     "output_type": "display_data"
    }
   ],
   "source": [
    "rover.path_planner.draw_map(\n",
    "    xlim=[0-rover.path_planner.grid_width/2, 20-rover.path_planner.grid_width/2],\n",
    "    ylim=[0-rover.path_planner.grid_width/2, 20-rover.path_planner.grid_width/2],\n",
    "    map_name='local',\n",
    "    enlarge_obstacle=rover.r,\n",
    "    obstacles=world.obstacles\n",
    ")"
   ]
  },
  {
   "cell_type": "code",
   "execution_count": 9,
   "id": "352b9ae2-2bf2-480e-a63e-bcb1b6693d90",
   "metadata": {
    "execution": {
     "iopub.execute_input": "2021-09-12T15:16:42.429597Z",
     "iopub.status.busy": "2021-09-12T15:16:42.429597Z",
     "iopub.status.idle": "2021-09-12T15:16:42.552272Z",
     "shell.execute_reply": "2021-09-12T15:16:42.549277Z",
     "shell.execute_reply.started": "2021-09-12T15:16:42.429597Z"
    }
   },
   "outputs": [
    {
     "data": {
      "application/vnd.jupyter.widget-view+json": {
       "model_id": "ffae8256bcb44fb29811249158c5c8a4",
       "version_major": 2,
       "version_minor": 0
      },
      "text/plain": [
       "Canvas(toolbar=Toolbar(toolitems=[('Home', 'Reset original view', 'home', 'home'), ('Back', 'Back to previous …"
      ]
     },
     "metadata": {},
     "output_type": "display_data"
    }
   ],
   "source": [
    "rover.path_planner.draw_map(\n",
    "    xlim=[0-rover.path_planner.grid_width/2, 20-rover.path_planner.grid_width/2],\n",
    "    ylim=[0-rover.path_planner.grid_width/2, 20-rover.path_planner.grid_width/2],\n",
    "    map_name='cost',\n",
    "    enlarge_obstacle=rover.r,\n",
    "    obstacles=world.obstacles\n",
    ")"
   ]
  },
  {
   "cell_type": "code",
   "execution_count": 10,
   "id": "3dfb42d1-47e7-4380-a56c-9779a21b08d1",
   "metadata": {
    "execution": {
     "iopub.execute_input": "2021-09-12T15:16:42.557264Z",
     "iopub.status.busy": "2021-09-12T15:16:42.556259Z",
     "iopub.status.idle": "2021-09-12T15:16:42.582190Z",
     "shell.execute_reply": "2021-09-12T15:16:42.580195Z",
     "shell.execute_reply.started": "2021-09-12T15:16:42.557264Z"
    },
    "tags": []
   },
   "outputs": [],
   "source": [
    "# world.animate(\n",
    "#     xlim=[0, 20], ylim=[0, 20],\n",
    "#     enlarge_obstacle=rover.r, \n",
    "#     #save_path=\"online_path_planner.mp4\",\n",
    "#     debug=False\n",
    "# )"
   ]
  },
  {
   "cell_type": "code",
   "execution_count": 11,
   "id": "27621ac0-36a7-4133-951d-ab4e160f7a8d",
   "metadata": {
    "execution": {
     "iopub.execute_input": "2021-09-12T15:16:42.586185Z",
     "iopub.status.busy": "2021-09-12T15:16:42.585182Z",
     "iopub.status.idle": "2021-09-12T15:16:42.628066Z",
     "shell.execute_reply": "2021-09-12T15:16:42.627069Z",
     "shell.execute_reply.started": "2021-09-12T15:16:42.586185Z"
    },
    "tags": []
   },
   "outputs": [],
   "source": [
    "# path_planner = DstarLite(np.array([1.0, 1.0, 0.0]), map_grid_width=grid_width, goal_pos=goal_pos)\n",
    "# rover_animation = RoverAnimation(world, rover, path_planner)\n",
    "# map_name = 'local'\n",
    "# rover_animation.animate(\n",
    "#     xlim=[0-rover.mapper.grid_width/2, 20-rover.mapper.grid_width/2],\n",
    "#     ylim=[0-rover.mapper.grid_width/2, 20-rover.mapper.grid_width/2],\n",
    "#     map_name=map_name,\n",
    "#     enlarge_obstacle=rover.r, \n",
    "#     save_path=\"online_path_follower_\" + map_name + \".mp4\",\n",
    "#     debug=False\n",
    "# )"
   ]
  },
  {
   "cell_type": "code",
   "execution_count": null,
   "id": "d49be589-f5c9-4b08-af6d-8f6d6c9a05f0",
   "metadata": {},
   "outputs": [],
   "source": []
  }
 ],
 "metadata": {
  "kernelspec": {
   "display_name": "Python 3",
   "language": "python",
   "name": "python3"
  },
  "language_info": {
   "codemirror_mode": {
    "name": "ipython",
    "version": 3
   },
   "file_extension": ".py",
   "mimetype": "text/x-python",
   "name": "python",
   "nbconvert_exporter": "python",
   "pygments_lexer": "ipython3",
   "version": "3.7.10"
  }
 },
 "nbformat": 4,
 "nbformat_minor": 5
}
