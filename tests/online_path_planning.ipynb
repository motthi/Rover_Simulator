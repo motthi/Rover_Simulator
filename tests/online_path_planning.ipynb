{
 "cells": [
  {
   "cell_type": "code",
   "execution_count": 8,
   "id": "7a4c274f-2704-4a83-b0c5-cf69a9422cf0",
   "metadata": {
    "execution": {
     "iopub.execute_input": "2021-09-04T08:39:12.531651Z",
     "iopub.status.busy": "2021-09-04T08:39:12.531651Z",
     "iopub.status.idle": "2021-09-04T08:39:12.549602Z",
     "shell.execute_reply": "2021-09-04T08:39:12.546610Z",
     "shell.execute_reply.started": "2021-09-04T08:39:12.531651Z"
    },
    "tags": []
   },
   "outputs": [],
   "source": [
    "import sys\n",
    "sys.path.append('../')\n",
    "import numpy as np\n",
    "import matplotlib\n",
    "%matplotlib widget\n",
    "\n",
    "from rover_simulator.core import Obstacle, SensingPlanner\n",
    "from rover_simulator.sensor import ImaginalSensor, NoisySensor\n",
    "from rover_simulator.world import World\n",
    "from rover_simulator.rover import OnlinePathPlanningRover, History, RoverAnimation\n",
    "from rover_simulator.collision_detector import CollisionDetector\n",
    "from rover_simulator.navigation.localizer import ImaginalLocalizer, NoisyLocalizer\n",
    "from rover_simulator.navigation.controller import DWAController, PathFollower\n",
    "from rover_simulator.navigation.mapper import GridMapper\n",
    "from rover_simulator.navigation.path_planner.grid_base import DstarLite"
   ]
  },
  {
   "cell_type": "code",
   "execution_count": 9,
   "id": "f1af8248-3d12-4ea1-9730-068df6df2a0f",
   "metadata": {
    "execution": {
     "iopub.execute_input": "2021-09-04T08:39:13.468733Z",
     "iopub.status.busy": "2021-09-04T08:39:13.468733Z",
     "iopub.status.idle": "2021-09-04T08:39:13.488680Z",
     "shell.execute_reply": "2021-09-04T08:39:13.486685Z",
     "shell.execute_reply.started": "2021-09-04T08:39:13.468733Z"
    },
    "tags": []
   },
   "outputs": [],
   "source": [
    "world = World(end_step=200)\n",
    "world.read_objects(\"../rover_simulator/examples/environment_deadend.txt\")"
   ]
  },
  {
   "cell_type": "code",
   "execution_count": 10,
   "id": "226b25f0-54e2-44d2-9018-482ef2f77b4a",
   "metadata": {
    "execution": {
     "iopub.execute_input": "2021-09-04T08:39:13.490675Z",
     "iopub.status.busy": "2021-09-04T08:39:13.490675Z",
     "iopub.status.idle": "2021-09-04T08:39:14.876033Z",
     "shell.execute_reply": "2021-09-04T08:39:14.876033Z",
     "shell.execute_reply.started": "2021-09-04T08:39:13.490675Z"
    },
    "tags": []
   },
   "outputs": [],
   "source": [
    "grid_width = 0.5\n",
    "sensor = ImaginalSensor(obstacles=world.obstacles)\n",
    "goal_pos = np.array([13, 18])\n",
    "\n",
    "rover = OnlinePathPlanningRover(\n",
    "    np.array([1.0, 1.0, 0.0]), 0.5,\n",
    "    sensor=sensor,\n",
    "    path_planner = DstarLite(np.array([1.0, 1.0, 0.0]), map_grid_width=grid_width, goal_pos=goal_pos),\n",
    "    mapper = GridMapper(grid_size=np.array([20, 20]), grid_width=grid_width, sensor=sensor, rover_r=0.5),\n",
    "    controller = PathFollower(),\n",
    "    localizer = ImaginalLocalizer(),\n",
    "    collision_detector = CollisionDetector(world.obstacles),\n",
    "    sensing_planner = SensingPlanner(),\n",
    "    history=History(),\n",
    "    color=\"black\",\n",
    "    goal_pos=goal_pos\n",
    ")\n",
    "\n",
    "rover.path_planner.set_map(rover.mapper)\n",
    "rover.waypoints = rover.path_planner.calculate_path()\n",
    "\n",
    "world.append_rover(rover)"
   ]
  },
  {
   "cell_type": "code",
   "execution_count": 11,
   "id": "eb02f160-7db2-4f8c-aff7-3576a676b84a",
   "metadata": {
    "execution": {
     "iopub.execute_input": "2021-09-04T08:39:14.877984Z",
     "iopub.status.busy": "2021-09-04T08:39:14.876987Z",
     "iopub.status.idle": "2021-09-04T08:39:42.960407Z",
     "shell.execute_reply": "2021-09-04T08:39:42.958407Z",
     "shell.execute_reply.started": "2021-09-04T08:39:14.876987Z"
    },
    "tags": []
   },
   "outputs": [
    {
     "data": {
      "application/vnd.jupyter.widget-view+json": {
       "model_id": "cb503d00b8664ac1bf27b360da0ab21c",
       "version_major": 2,
       "version_minor": 0
      },
      "text/plain": [
       "  0%|          | 0/200 [00:00<?, ?it/s]"
      ]
     },
     "metadata": {},
     "output_type": "display_data"
    }
   ],
   "source": [
    "world.simulate()"
   ]
  },
  {
   "cell_type": "code",
   "execution_count": 12,
   "id": "e1474de7-f67c-44f0-9ad2-2faa1c812e0d",
   "metadata": {
    "execution": {
     "iopub.execute_input": "2021-09-04T08:39:42.962396Z",
     "iopub.status.busy": "2021-09-04T08:39:42.961398Z",
     "iopub.status.idle": "2021-09-04T08:39:43.085065Z",
     "shell.execute_reply": "2021-09-04T08:39:43.084067Z",
     "shell.execute_reply.started": "2021-09-04T08:39:42.961398Z"
    },
    "tags": []
   },
   "outputs": [
    {
     "data": {
      "application/vnd.jupyter.widget-view+json": {
       "model_id": "51c915be6f974528a57f3b01956ee344",
       "version_major": 2,
       "version_minor": 0
      },
      "text/plain": [
       "Canvas(toolbar=Toolbar(toolitems=[('Home', 'Reset original view', 'home', 'home'), ('Back', 'Back to previous …"
      ]
     },
     "metadata": {},
     "output_type": "display_data"
    }
   ],
   "source": [
    "world.plot(xlim=[0, 20], ylim=[0, 20], enlarge_obstacle=rover.r)"
   ]
  },
  {
   "cell_type": "code",
   "execution_count": 13,
   "id": "3dfb42d1-47e7-4380-a56c-9779a21b08d1",
   "metadata": {
    "execution": {
     "iopub.execute_input": "2021-09-04T08:39:44.112657Z",
     "iopub.status.busy": "2021-09-04T08:39:44.112657Z",
     "iopub.status.idle": "2021-09-04T08:39:44.207403Z",
     "shell.execute_reply": "2021-09-04T08:39:44.207403Z",
     "shell.execute_reply.started": "2021-09-04T08:39:44.112657Z"
    },
    "tags": []
   },
   "outputs": [
    {
     "data": {
      "application/vnd.jupyter.widget-view+json": {
       "model_id": "c12ed8999c98440697bf69330fdf4a3f",
       "version_major": 2,
       "version_minor": 0
      },
      "text/plain": [
       "Canvas(toolbar=Toolbar(toolitems=[('Home', 'Reset original view', 'home', 'home'), ('Back', 'Back to previous …"
      ]
     },
     "metadata": {},
     "output_type": "display_data"
    },
    {
     "data": {
      "application/vnd.jupyter.widget-view+json": {
       "model_id": "17dfb7ce750b44b3879cb22b70319ff6",
       "version_major": 2,
       "version_minor": 0
      },
      "text/plain": [
       "  0%|          | 0/200 [00:00<?, ?it/s]"
      ]
     },
     "metadata": {},
     "output_type": "display_data"
    }
   ],
   "source": [
    "world.animate(\n",
    "    xlim=[0, 20], ylim=[0, 20],\n",
    "    enlarge_obstacle=rover.r, \n",
    "    #save_path=\"log/online_path_planner.mp4\",\n",
    "    debug=False\n",
    ")"
   ]
  },
  {
   "cell_type": "code",
   "execution_count": 14,
   "id": "27621ac0-36a7-4133-951d-ab4e160f7a8d",
   "metadata": {
    "execution": {
     "iopub.execute_input": "2021-09-04T08:39:44.214386Z",
     "iopub.status.busy": "2021-09-04T08:39:44.214386Z",
     "iopub.status.idle": "2021-09-04T08:39:45.676989Z",
     "shell.execute_reply": "2021-09-04T08:39:45.676027Z",
     "shell.execute_reply.started": "2021-09-04T08:39:44.214386Z"
    },
    "tags": []
   },
   "outputs": [
    {
     "data": {
      "application/vnd.jupyter.widget-view+json": {
       "model_id": "6610c85a2ebb44aab8d32593a136c534",
       "version_major": 2,
       "version_minor": 0
      },
      "text/plain": [
       "Canvas(toolbar=Toolbar(toolitems=[('Home', 'Reset original view', 'home', 'home'), ('Back', 'Back to previous …"
      ]
     },
     "metadata": {},
     "output_type": "display_data"
    },
    {
     "data": {
      "application/vnd.jupyter.widget-view+json": {
       "model_id": "f679cf84fd4b4271881ed2db5f55ffd7",
       "version_major": 2,
       "version_minor": 0
      },
      "text/plain": [
       "  0%|          | 0/201 [00:00<?, ?it/s]"
      ]
     },
     "metadata": {},
     "output_type": "display_data"
    }
   ],
   "source": [
    "path_planner = DstarLite(np.array([1.0, 1.0, 0.0]), map_grid_width=grid_width, goal_pos=goal_pos)\n",
    "rover_animation = RoverAnimation(world, rover, path_planner)\n",
    "map_name = 'metric'\n",
    "rover_animation.animate(\n",
    "    xlim=[0-rover.mapper.grid_width/2, 20-rover.mapper.grid_width/2],\n",
    "    ylim=[0-rover.mapper.grid_width/2, 20-rover.mapper.grid_width/2],\n",
    "    map_name=map_name,\n",
    "    #save_path=\"log/online_path_follower_\" + map_name + \".mp4\",\n",
    "    debug=False\n",
    ")"
   ]
  },
  {
   "cell_type": "code",
   "execution_count": null,
   "id": "9490e4b5-3ba5-42c1-8e89-b75996c2e6b6",
   "metadata": {},
   "outputs": [],
   "source": []
  }
 ],
 "metadata": {
  "kernelspec": {
   "display_name": "Python 3",
   "language": "python",
   "name": "python3"
  },
  "language_info": {
   "codemirror_mode": {
    "name": "ipython",
    "version": 3
   },
   "file_extension": ".py",
   "mimetype": "text/x-python",
   "name": "python",
   "nbconvert_exporter": "python",
   "pygments_lexer": "ipython3",
   "version": "3.7.10"
  }
 },
 "nbformat": 4,
 "nbformat_minor": 5
}
