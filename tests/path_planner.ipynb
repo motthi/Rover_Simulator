{
 "cells": [
  {
   "cell_type": "code",
   "execution_count": 1,
   "id": "99f06cb0-59e5-4e97-8401-81ac592c4a13",
   "metadata": {
    "ExecuteTime": {
     "end_time": "2021-08-29T08:49:36.700149Z",
     "start_time": "2021-08-29T08:49:35.565542Z"
    },
    "execution": {
     "iopub.execute_input": "2021-09-23T12:52:11.057172Z",
     "iopub.status.busy": "2021-09-23T12:52:11.056174Z",
     "iopub.status.idle": "2021-09-23T12:52:12.250979Z",
     "shell.execute_reply": "2021-09-23T12:52:12.250979Z",
     "shell.execute_reply.started": "2021-09-23T12:52:11.056174Z"
    },
    "tags": []
   },
   "outputs": [],
   "source": [
    "import sys\n",
    "sys.path.append('../')\n",
    "import numpy as np\n",
    "import matplotlib\n",
    "%matplotlib widget\n",
    "\n",
    "from rover_simulator.world import World\n",
    "from rover_simulator.rover import BasicRover\n",
    "from rover_simulator.history import History\n",
    "from rover_simulator.sensor import ImaginalSensor\n",
    "from rover_simulator.navigation.localizer import ImaginalLocalizer\n",
    "from rover_simulator.navigation.controller import ConstantSpeedController\n",
    "from rover_simulator.navigation.mapper import GridMapper\n",
    "from rover_simulator.navigation.path_planner.grid_base import Dijkstra, Astar\n",
    "from rover_simulator.navigation.path_planner.sampling_base import RRT, RRTstar"
   ]
  },
  {
   "cell_type": "code",
   "execution_count": 2,
   "id": "347b5a38-feb4-4c02-9e42-12877175cde8",
   "metadata": {
    "ExecuteTime": {
     "end_time": "2021-08-29T08:49:36.716204Z",
     "start_time": "2021-08-29T08:49:36.702242Z"
    },
    "execution": {
     "iopub.execute_input": "2021-09-23T12:52:12.252976Z",
     "iopub.status.busy": "2021-09-23T12:52:12.251976Z",
     "iopub.status.idle": "2021-09-23T12:52:12.284895Z",
     "shell.execute_reply": "2021-09-23T12:52:12.282899Z",
     "shell.execute_reply.started": "2021-09-23T12:52:12.252976Z"
    },
    "tags": []
   },
   "outputs": [],
   "source": [
    "world = World(end_step=200)\n",
    "world.read_objects(\"../rover_simulator/examples/environment_deadend.txt\")"
   ]
  },
  {
   "cell_type": "code",
   "execution_count": 3,
   "id": "a996be07-81d4-4a8f-8873-c7a026e15abf",
   "metadata": {
    "ExecuteTime": {
     "end_time": "2021-08-29T08:49:36.748274Z",
     "start_time": "2021-08-29T08:49:36.720194Z"
    },
    "execution": {
     "iopub.execute_input": "2021-09-23T12:52:12.287880Z",
     "iopub.status.busy": "2021-09-23T12:52:12.287880Z",
     "iopub.status.idle": "2021-09-23T12:52:12.378669Z",
     "shell.execute_reply": "2021-09-23T12:52:12.378669Z",
     "shell.execute_reply.started": "2021-09-23T12:52:12.287880Z"
    },
    "tags": []
   },
   "outputs": [],
   "source": [
    "rover_r = 0.5\n",
    "start_pose = np.array([1.0, 1.0, 0.0])\n",
    "goal_pos = np.array([13.0, 15.0])\n",
    "\n",
    "sensor = ImaginalSensor(obstacles=world.obstacles)\n",
    "mapper = GridMapper(\n",
    "    grid_size=np.array([20, 20]),\n",
    "    grid_width=0.5,\n",
    "    sensor=sensor,\n",
    "    known_obstacles=world.obstacles,\n",
    "    rover_r=rover_r\n",
    ")\n",
    "\n",
    "path_planner = Dijkstra(\n",
    "    start_pose,\n",
    "    goal_pos,\n",
    "    mapper.map, \n",
    "    mapper.grid_width\n",
    ")\n",
    "\n",
    "# path_planner = Astar(\n",
    "#     start_pose,\n",
    "#     goal_pos,\n",
    "#     mapper.map, \n",
    "#     mapper.grid_width\n",
    "# )\n",
    "\n",
    "# path_planner = RRTstar(\n",
    "#     start_pose,\n",
    "#     goal_pos,\n",
    "#     enlarge_range=rover_r,\n",
    "#     explore_region=[[0, 20], [0, 20]],\n",
    "#     known_obstacles=world.obstacles\n",
    "# )\n",
    "\n",
    "path_planner.set_map(mapper)\n",
    "\n",
    "rover = BasicRover(\n",
    "    start_pose, rover_r,\n",
    "    sensor=sensor,\n",
    "    mapper=mapper,\n",
    "    path_planner=path_planner,\n",
    "    localizer=ImaginalLocalizer(),\n",
    "    controller=ConstantSpeedController(w=np.pi/32),\n",
    "    history=History()\n",
    ")\n",
    "\n",
    "world.append_rover(rover)"
   ]
  },
  {
   "cell_type": "code",
   "execution_count": 4,
   "id": "fe6004a8-34f7-4700-ab2d-3d6016a7f324",
   "metadata": {
    "ExecuteTime": {
     "end_time": "2021-08-29T08:49:41.094353Z",
     "start_time": "2021-08-29T08:49:36.754260Z"
    },
    "execution": {
     "iopub.execute_input": "2021-09-23T12:52:12.379635Z",
     "iopub.status.busy": "2021-09-23T12:52:12.379635Z",
     "iopub.status.idle": "2021-09-23T12:52:12.756627Z",
     "shell.execute_reply": "2021-09-23T12:52:12.755665Z",
     "shell.execute_reply.started": "2021-09-23T12:52:12.379635Z"
    },
    "tags": []
   },
   "outputs": [],
   "source": [
    "rover.waypoints = rover.path_planner.calculate_path(500)"
   ]
  },
  {
   "cell_type": "code",
   "execution_count": 5,
   "id": "2a639457-65c2-4435-98df-3ba63e7039ca",
   "metadata": {
    "ExecuteTime": {
     "end_time": "2021-08-29T08:49:41.188170Z",
     "start_time": "2021-08-29T08:49:41.131258Z"
    },
    "execution": {
     "iopub.execute_input": "2021-09-23T12:52:12.757624Z",
     "iopub.status.busy": "2021-09-23T12:52:12.757624Z",
     "iopub.status.idle": "2021-09-23T12:52:12.851381Z",
     "shell.execute_reply": "2021-09-23T12:52:12.850377Z",
     "shell.execute_reply.started": "2021-09-23T12:52:12.757624Z"
    },
    "tags": []
   },
   "outputs": [
    {
     "data": {
      "application/vnd.jupyter.widget-view+json": {
       "model_id": "0f8e215f534b40089d2d6ff7ae382b4d",
       "version_major": 2,
       "version_minor": 0
      },
      "text/plain": [
       "Canvas(toolbar=Toolbar(toolitems=[('Home', 'Reset original view', 'home', 'home'), ('Back', 'Back to previous …"
      ]
     },
     "metadata": {},
     "output_type": "display_data"
    }
   ],
   "source": [
    "world.plot(xlim=[0, 20], ylim=[0, 20], enlarge_obstacle=rover.r, draw_waypoints=True)"
   ]
  },
  {
   "cell_type": "code",
   "execution_count": 6,
   "id": "820fd150-68ac-4a6c-a8bc-f9cdc9d14fad",
   "metadata": {
    "ExecuteTime": {
     "end_time": "2021-08-27T15:31:51.323439Z",
     "start_time": "2021-08-27T15:31:51.270616Z"
    },
    "execution": {
     "iopub.execute_input": "2021-09-23T12:52:12.853371Z",
     "iopub.status.busy": "2021-09-23T12:52:12.853371Z",
     "iopub.status.idle": "2021-09-23T12:52:12.991998Z",
     "shell.execute_reply": "2021-09-23T12:52:12.990999Z",
     "shell.execute_reply.started": "2021-09-23T12:52:12.853371Z"
    },
    "tags": []
   },
   "outputs": [
    {
     "data": {
      "application/vnd.jupyter.widget-view+json": {
       "model_id": "a09a9d1e5d7a485893aadae995c38a0d",
       "version_major": 2,
       "version_minor": 0
      },
      "text/plain": [
       "Canvas(toolbar=Toolbar(toolitems=[('Home', 'Reset original view', 'home', 'home'), ('Back', 'Back to previous …"
      ]
     },
     "metadata": {},
     "output_type": "display_data"
    }
   ],
   "source": [
    "path_planner.draw_map(\n",
    "    xlim=[0-path_planner.grid_width/2, 20-path_planner.grid_width/2],\n",
    "    ylim=[0-path_planner.grid_width/2, 20-path_planner.grid_width/2],\n",
    "    obstacles=world.obstacles, enlarge_obstacle=rover.r,\n",
    "    map_name='cost'\n",
    ")"
   ]
  },
  {
   "cell_type": "code",
   "execution_count": null,
   "id": "d3954ff4-fb27-442a-9f86-81ed1e26df78",
   "metadata": {},
   "outputs": [],
   "source": []
  }
 ],
 "metadata": {
  "kernelspec": {
   "display_name": "Python 3",
   "language": "python",
   "name": "python3"
  },
  "language_info": {
   "codemirror_mode": {
    "name": "ipython",
    "version": 3
   },
   "file_extension": ".py",
   "mimetype": "text/x-python",
   "name": "python",
   "nbconvert_exporter": "python",
   "pygments_lexer": "ipython3",
   "version": "3.7.10"
  }
 },
 "nbformat": 4,
 "nbformat_minor": 5
}
