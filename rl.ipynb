{
 "cells": [
  {
   "cell_type": "code",
   "execution_count": 1,
   "metadata": {},
   "outputs": [
    {
     "name": "stderr",
     "output_type": "stream",
     "text": [
      "2025-01-16 12:59:52.624167: I tensorflow/core/util/port.cc:113] oneDNN custom operations are on. You may see slightly different numerical results due to floating-point round-off errors from different computation orders. To turn them off, set the environment variable `TF_ENABLE_ONEDNN_OPTS=0`.\n",
      "2025-01-16 12:59:52.645842: E external/local_xla/xla/stream_executor/cuda/cuda_dnn.cc:9261] Unable to register cuDNN factory: Attempting to register factory for plugin cuDNN when one has already been registered\n",
      "2025-01-16 12:59:52.645861: E external/local_xla/xla/stream_executor/cuda/cuda_fft.cc:607] Unable to register cuFFT factory: Attempting to register factory for plugin cuFFT when one has already been registered\n",
      "2025-01-16 12:59:52.646380: E external/local_xla/xla/stream_executor/cuda/cuda_blas.cc:1515] Unable to register cuBLAS factory: Attempting to register factory for plugin cuBLAS when one has already been registered\n",
      "2025-01-16 12:59:52.650082: I tensorflow/core/platform/cpu_feature_guard.cc:182] This TensorFlow binary is optimized to use available CPU instructions in performance-critical operations.\n",
      "To enable the following instructions: AVX2 AVX512F AVX512_VNNI FMA, in other operations, rebuild TensorFlow with the appropriate compiler flags.\n",
      "2025-01-16 12:59:53.119247: W tensorflow/compiler/tf2tensorrt/utils/py_utils.cc:38] TF-TRT Warning: Could not find TensorRT\n"
     ]
    }
   ],
   "source": [
    "import sys\n",
    "sys.path.append('../')\n",
    "import numpy as np\n",
    "from IPython.display import HTML\n",
    "\n",
    "from rover_simulator.core import *\n",
    "from rover_simulator.collision_detector import *\n",
    "from rover_simulator.utils.motion import state_transition\n",
    "from rover_simulator.world import World\n",
    "from rover_simulator.rover import BasicRover\n",
    "from rover_simulator.history import SimpleHistory\n",
    "from rover_simulator.sensor import ImaginalLiDAR\n",
    "from rover_simulator.navigation.localizer import ImaginalLocalizer\n",
    "from stable_baselines3 import PPO\n",
    "from gymnasium import spaces\n",
    "from gymnasium import Env"
   ]
  },
  {
   "cell_type": "code",
   "execution_count": 2,
   "metadata": {},
   "outputs": [],
   "source": [
    "class RlRover(BasicRover):\n",
    "    def __init__(\n",
    "        self,\n",
    "        pose: np.ndarray, radius: float,\n",
    "        sensor: Sensor = None, localizer: Localizer = ImaginalLocalizer(),\n",
    "        sensing_planner: SensingPlanner = SensingPlanner(), collision_detector: CollisionDetector = None,\n",
    "        history: SimpleHistory = None,\n",
    "        color: str = \"black\", waypoint_color: str = 'blue'\n",
    "    ) -> None:\n",
    "        super().__init__(pose, radius, sensor, localizer, None, None, sensing_planner, None, collision_detector, history, color, waypoint_color)\n",
    "\n",
    "    def reset(self, x_range: list, y_range: list) -> None:\n",
    "        x = np.random.uniform(x_range[0], x_range[1])\n",
    "        y = np.random.uniform(y_range[0], y_range[1])\n",
    "        th = np.random.uniform(-np.pi, np.pi)\n",
    "        pose = np.array([x, y, th])\n",
    "        pose = np.array([5, 5, 0])\n",
    "        self.real_pose = pose\n",
    "        self.estimated_pose = pose\n",
    "        \n",
    "class RobotNavigationEnv(Env):\n",
    "    def __init__(self, world: World, rover: RlRover, world_range: list = [[0, 20], [0, 20]], min_v: float = 0.0, max_v: float = 1.0, min_w = -np.pi, max_w: float = np.pi):\n",
    "        super(RobotNavigationEnv, self).__init__()\n",
    "        self.world = world\n",
    "        self.rover = rover\n",
    "        self.x_range = world_range[0]\n",
    "        self.y_range = world_range[1]\n",
    "        self.action_space = spaces.Box(low=np.float32(np.array([min_v, min_w])), high=np.float32(np.array([max_v, max_w])))\n",
    "        self.observation_space = spaces.Box(\n",
    "            low=np.float32(np.array([0, -np.pi] + [0] * self.rover.sensor.smp_num)), \n",
    "            high=np.float32(np.array([20, np.pi] + [self.rover.sensor.range] * self.rover.sensor.smp_num)), \n",
    "        )\n",
    "        self.goal = np.array([18.0, 18.0])\n",
    "        \n",
    "    def reset(self, seed=None, return_info=False, options=None):\n",
    "        self.world.reset(reset_rovers=False, reset_obstacles=False)\n",
    "        self.rover.reset(self.x_range, self.y_range)\n",
    "        self.rover.history.reset()\n",
    "    \n",
    "        sensed_obstacles = self.rover.sensor.sense(self.rover)\n",
    "        pts_dists = sensed_obstacles[:, 0]\n",
    "        pts_dists = np.where(np.isinf(pts_dists), 100, pts_dists)\n",
    "        \n",
    "        dist_to_goal = np.linalg.norm(self.goal - self.rover.real_pose[:2])\n",
    "        if dist_to_goal > 20:\n",
    "            dist_to_goal = 20\n",
    "        ang_to_goal = np.arctan2(self.goal[1] - self.rover.real_pose[1], self.goal[0] - self.rover.real_pose[0])\n",
    "        while ang_to_goal < -np.pi:\n",
    "            ang_to_goal += 2 * np.pi\n",
    "        while ang_to_goal > np.pi:\n",
    "            ang_to_goal -= 2 * np.pi\n",
    "        state = np.concatenate([[dist_to_goal], [ang_to_goal], pts_dists])\n",
    "        return state, {}\n",
    "        \n",
    "    def step(self, action):\n",
    "        v, w = action\n",
    "        self.rover.real_pose = state_transition(self.rover.real_pose, v, w, self.world.time_interval)\n",
    "\n",
    "        done = False\n",
    "        reward = 0\n",
    "        sensed_obstacles = self.rover.sensor.sense(self.rover)\n",
    "        self.rover.history.append(real_pose=self.rover.real_pose, estimated_pose=self.rover.estimated_pose, sensing_result=sensed_obstacles) if self.rover.history is not None else None\n",
    "        \n",
    "        pts_dists = sensed_obstacles[:, 0]\n",
    "        pts_dists = np.where(np.isinf(pts_dists), 100, pts_dists)\n",
    "        \n",
    "        dist_to_goal = np.linalg.norm(self.goal - self.rover.real_pose[:2])\n",
    "        if dist_to_goal > 20:\n",
    "            dist_to_goal = 20\n",
    "        ang_to_goal = np.arctan2(self.goal[1] - self.rover.real_pose[1], self.goal[0] - self.rover.real_pose[0])\n",
    "        while ang_to_goal < -np.pi:\n",
    "            ang_to_goal += 2 * np.pi\n",
    "        while ang_to_goal > np.pi:\n",
    "            ang_to_goal -= 2 * np.pi\n",
    "            \n",
    "        if self.rover.collision_detector.detect_collision(self.rover):\n",
    "            reward = -1000\n",
    "            done = True\n",
    "        elif np.linalg.norm(self.rover.real_pose[:2] - self.goal) < 0.5:\n",
    "            reward = 100\n",
    "            done = True\n",
    "        else:\n",
    "            reward = -dist_to_goal\n",
    "        reward -= 0.01\n",
    "        \n",
    "        \n",
    "        next_state = np.concatenate([[dist_to_goal], [ang_to_goal], pts_dists])\n",
    "        return next_state, reward, done, False, {}\n",
    "\n",
    "    def render(self):\n",
    "        # 描画が必要な場合、ここにコードを追加\n",
    "        pass"
   ]
  },
  {
   "cell_type": "code",
   "execution_count": 3,
   "metadata": {},
   "outputs": [],
   "source": [
    "world = World()\n",
    "world.read_objects(\"./rover_simulator/examples/environment_simple.txt\")\n",
    "\n",
    "world.reset(reset_obstacles=False)\n",
    "\n",
    "sensor = ImaginalLiDAR(obstacles=world.obstacles)\n",
    "history = SimpleHistory(sensor=sensor)\n",
    "rover = RlRover(\n",
    "    np.array([1.0, 1.0, 0.0]), 0.5,\n",
    "    sensor=sensor,\n",
    "    localizer=ImaginalLocalizer(),\n",
    "    collision_detector=CollisionDetector(world.obstacles),\n",
    "    history=history,\n",
    ")\n",
    "world.append_rover(rover)"
   ]
  },
  {
   "cell_type": "code",
   "execution_count": 10,
   "metadata": {},
   "outputs": [
    {
     "data": {
      "application/vnd.jupyter.widget-view+json": {
       "model_id": "edc5d7895f3d4d45be013e93961e9b74",
       "version_major": 2,
       "version_minor": 0
      },
      "text/plain": [
       "Output()"
      ]
     },
     "metadata": {},
     "output_type": "display_data"
    },
    {
     "data": {
      "text/html": [
       "<pre style=\"white-space:pre;overflow-x:auto;line-height:normal;font-family:Menlo,'DejaVu Sans Mono',consolas,'Courier New',monospace\"></pre>\n"
      ],
      "text/plain": []
     },
     "metadata": {},
     "output_type": "display_data"
    },
    {
     "data": {
      "text/html": [
       "<pre style=\"white-space:pre;overflow-x:auto;line-height:normal;font-family:Menlo,'DejaVu Sans Mono',consolas,'Courier New',monospace\">\n",
       "</pre>\n"
      ],
      "text/plain": [
       "\n"
      ]
     },
     "metadata": {},
     "output_type": "display_data"
    }
   ],
   "source": [
    "env = RobotNavigationEnv(world, rover)\n",
    "total_timesteps = 3e8\n",
    "total_timesteps = 1e4\n",
    "\n",
    "model = PPO(\"MlpPolicy\", env, verbose=0, device=\"cpu\")\n",
    "_ = model.learn(total_timesteps=total_timesteps, progress_bar=True)"
   ]
  },
  {
   "cell_type": "code",
   "execution_count": 11,
   "metadata": {},
   "outputs": [
    {
     "name": "stdout",
     "output_type": "stream",
     "text": [
      "Test completed!\n"
     ]
    }
   ],
   "source": [
    "env.rover.history.reset()\n",
    "obs, _ = env.reset()\n",
    "for _ in range(1000):\n",
    "    action, _states = model.predict(obs)\n",
    "    obs, reward, done, _, info = env.step(action)\n",
    "    if done:\n",
    "        break\n",
    "print(\"Test completed!\")"
   ]
  },
  {
   "cell_type": "code",
   "execution_count": 12,
   "metadata": {},
   "outputs": [
    {
     "data": {
      "image/png": "[encoded data removed]",
      "text/plain": [
       "<Figure size 800x800 with 1 Axes>"
      ]
     },
     "metadata": {},
     "output_type": "display_data"
    }
   ],
   "source": [
    "world.draw(xlim=[0, 20], ylim=[0, 20], goal_pos=env.goal)"
   ]
  },
  {
   "cell_type": "code",
   "execution_count": null,
   "metadata": {},
   "outputs": [],
   "source": []
  }
 ],
 "metadata": {
  "kernelspec": {
   "display_name": "Python 3",
   "language": "python",
   "name": "python3"
  },
  "language_info": {
   "codemirror_mode": {
    "name": "ipython",
    "version": 3
   },
   "file_extension": ".py",
   "mimetype": "text/x-python",
   "name": "python",
   "nbconvert_exporter": "python",
   "pygments_lexer": "ipython3",
   "version": "3.10.16"
  }
 },
 "nbformat": 4,
 "nbformat_minor": 2
}
