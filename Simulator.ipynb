{
 "cells": [
  {
   "cell_type": "code",
   "execution_count": 1,
   "metadata": {},
   "outputs": [],
   "source": [
    "import sys\n",
    "sys.path.append(\"scripts/\")\n",
    "from Robot import*"
   ]
  },
  {
   "cell_type": "code",
   "execution_count": 2,
   "metadata": {},
   "outputs": [],
   "source": [
    "class Agent2Goal(Agent):    #Agentクラスから継承し，新たなエージェントを定義\n",
    "        def __init__(self, goal_pos=[0, 0]):\n",
    "            super().__init__()    #親クラスから継承\n",
    "            self.goal_pos = goal_pos    #ゴール座標\n",
    "\n",
    "        def action(self, pose):    #actionメソッドをオーバーライド\n",
    "            kp = 0.01    #比例ゲイン\n",
    "            direction = math.atan2(self.goal_pos[1] - pose[1], self.goal_pos[0] - pose[0])*180/math.pi    #ゴールの方角\n",
    "            rover_dir = pose[2]*180/math.pi    #ローバーの向いている方角\n",
    "            deltaTheta = ((540 + direction - rover_dir) % 360) - 180    #ローバーの向いている方角とゴールの向いている方角の差\n",
    "            mPF = 10    #モータ前進成分\n",
    "            mPS = kp * deltaTheta    #モータ回転成分\n",
    "            mPL = mPF - mPS    #左モータパワー\n",
    "            mPR = mPF + mPS    #右モータパワー\n",
    "            \n",
    "            #モータパワーの絶対値をを100以下にする\n",
    "            #エージェントクラスにも同じ処理が実装されているが，それは制約を実装したもの\n",
    "            #下のコードは誤った入力による事故を防止するための実装\n",
    "            mPL = 100 if mPL > 100 else mPL\n",
    "            mPR = 100 if mPR > 100 else mPR\n",
    "            mPL = -100 if mPL < -100 else mPL\n",
    "            mPR = -100 if mPR < -100 else mPR\n",
    "            \n",
    "            self.motor(mPL, mPR)    #モータの駆動（ローバーの移動速度が自動的に計算される）\n",
    "            return self.nu, self.omega    #ローバーの移動速度を返す"
   ]
  },
  {
   "cell_type": "code",
   "execution_count": 6,
   "metadata": {},
   "outputs": [
    {
     "name": "stderr",
     "output_type": "stream",
     "text": [
      "scripts\\IdealRobot.py:57: UserWarning: Matplotlib is currently using agg, which is a non-GUI backend, so cannot show the figure.\n",
      "  plt.show()    #描画\n",
      "MovieWriter imagemagick unavailable; trying to use <class 'matplotlib.animation.PillowWriter'> instead.\n"
     ]
    }
   ],
   "source": [
    "if __name__ == \"__main__\":    #ライブラリとして読み込む場合は実行しない  \n",
    "    time_finish = 20    #シミュレーション終了時間\n",
    "    time_interval = 0.1    #ステップ時間\n",
    "    goal = [75, 50]    #ゴールの座標\n",
    "    map_size = [100, 100]    #マップサイズ\n",
    "    \n",
    "    world = World(\n",
    "        time_finish,    #シミュレーション終了時間\n",
    "        time_interval,    #ステップ時間\n",
    "        debug=False,    #デバッグモードか検証モードか\n",
    "        map_size=map_size,    #地図サイズ\n",
    "        goal_pos=goal    #ゴール座標\n",
    "    )    #地図の実装\n",
    "\n",
    "    agent2goal = Agent2Goal(goal)    #エージェントを実装\n",
    "    sensor = Sensor(\n",
    "        distance_noise_rate = 0.1,    #GPSが取得する値の誤差の標準偏差\n",
    "        direction_noise_rate = 10,    #地磁気センサが取得する値の誤差の標準偏差\n",
    "        time_interval = time_interval    #ステップ時間\n",
    "    )    #センサを実装\n",
    "\n",
    "    robot = Robot(\n",
    "        np.array([-50, -75, -math.pi/4]).T,    ##初期位置，姿勢\n",
    "        agent=agent2goal,    #ローバーが従うエージェント\n",
    "        sensor=sensor,   #ローバーに搭載されているセンサ\n",
    "        color=\"blue\",    #ローバーの色（描画上の設定）\n",
    "        noise_per_meter=0.5,    #単位距離当たりの走行でローバーの向きが変わる確率\n",
    "        noise_std = math.pi/40,    #ローバーの変わる向きの標準偏差\n",
    "        bias_rate_stds=(0.1, 0.1),    #バイアスの設定\n",
    "        expected_stuck_time=20,    #スタックが生じ得る時間\n",
    "        expected_escape_time=3    #スタックから抜け出し得る時間\n",
    "    )    #ロボットの実装\n",
    "    \n",
    "    world.append(robot)    #世界地図にローバーを組み込む\n",
    "    world.draw()    #世界地図の描画\n",
    "    \n",
    "    #matplotlib.use(\"Agg\")\n",
    "    #world.ani.save('anm.gif', writer='imagemagick', fps=10)"
   ]
  },
  {
   "cell_type": "code",
   "execution_count": null,
   "metadata": {},
   "outputs": [],
   "source": []
  }
 ],
 "metadata": {
  "kernelspec": {
   "display_name": "Python 3",
   "language": "python",
   "name": "python3"
  },
  "language_info": {
   "codemirror_mode": {
    "name": "ipython",
    "version": 3
   },
   "file_extension": ".py",
   "mimetype": "text/x-python",
   "name": "python",
   "nbconvert_exporter": "python",
   "pygments_lexer": "ipython3",
   "version": "3.7.4"
  }
 },
 "nbformat": 4,
 "nbformat_minor": 4
}
